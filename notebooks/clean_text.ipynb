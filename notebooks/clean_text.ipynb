{
 "cells": [
  {
   "cell_type": "code",
   "execution_count": 1,
   "metadata": {},
   "outputs": [],
   "source": [
    "import json\n",
    "with open('../data/keyword/clean.json') as f:\n",
    "    clean_json = json.load(f)"
   ]
  },
  {
   "cell_type": "code",
   "execution_count": 2,
   "metadata": {},
   "outputs": [],
   "source": [
    "get_clean_content = {}"
   ]
  },
  {
   "cell_type": "code",
   "execution_count": 3,
   "metadata": {},
   "outputs": [],
   "source": [
    "for i in clean_json['capital']:\n",
    "    get_clean_content['capital'] = [word.upper() for word in clean_json['capital']]"
   ]
  },
  {
   "cell_type": "code",
   "execution_count": 4,
   "metadata": {},
   "outputs": [],
   "source": [
    "for i in clean_json['title']:\n",
    "    get_clean_content['title'] = [word.title() for word in clean_json['title']]"
   ]
  },
  {
   "cell_type": "code",
   "execution_count": 5,
   "metadata": {},
   "outputs": [
    {
     "data": {
      "text/plain": [
       "{'capital': ['EPA',\n",
       "  'CDC',\n",
       "  'NYCHA',\n",
       "  'NYC',\n",
       "  'OSHA',\n",
       "  'USA',\n",
       "  'NYPD',\n",
       "  'DOE',\n",
       "  'DOB',\n",
       "  'DOT',\n",
       "  'DCA',\n",
       "  'PPE',\n",
       "  'PPES',\n",
       "  'CECM',\n",
       "  'SAPO',\n",
       "  'EDC',\n",
       "  'RFP',\n",
       "  'D-O-T',\n",
       "  'D.O.T',\n",
       "  'WPA',\n",
       "  'DCLA',\n",
       "  'CD',\n",
       "  'DPLA',\n",
       "  'BOE',\n",
       "  'DNS',\n",
       "  'HPD',\n",
       "  'ENL',\n",
       "  'NIMBY',\n",
       "  'GMAC',\n",
       "  'MOU',\n",
       "  'OEM',\n",
       "  'AMI',\n",
       "  'DHS',\n",
       "  'HR',\n",
       "  'NGOS',\n",
       "  'OMB',\n",
       "  'BSA',\n",
       "  'IRS',\n",
       "  'ADA',\n",
       "  'RPA',\n",
       "  'POC',\n",
       "  'HCC',\n",
       "  'LPC'],\n",
       " 'title': ['Brooklyn',\n",
       "  'Manhattan',\n",
       "  'Queens',\n",
       "  'Bronx',\n",
       "  'Staten Island',\n",
       "  'New York City',\n",
       "  'Lexington',\n",
       "  'Rikers',\n",
       "  'Florida',\n",
       "  'California',\n",
       "  'January',\n",
       "  'Cuomo',\n",
       "  'Blasio',\n",
       "  'Palitz',\n",
       "  'America',\n",
       "  'Pacific',\n",
       "  'June',\n",
       "  'District Needs',\n",
       "  'March',\n",
       "  'April',\n",
       "  'July',\n",
       "  'October',\n",
       "  'November',\n",
       "  'September',\n",
       "  'December']}"
      ]
     },
     "execution_count": 5,
     "metadata": {},
     "output_type": "execute_result"
    }
   ],
   "source": [
    "get_clean_content"
   ]
  },
  {
   "cell_type": "code",
   "execution_count": null,
   "metadata": {},
   "outputs": [],
   "source": []
  }
 ],
 "metadata": {
  "kernelspec": {
   "display_name": "Python 3",
   "language": "python",
   "name": "python3"
  },
  "language_info": {
   "codemirror_mode": {
    "name": "ipython",
    "version": 3
   },
   "file_extension": ".py",
   "mimetype": "text/x-python",
   "name": "python",
   "nbconvert_exporter": "python",
   "pygments_lexer": "ipython3",
   "version": "3.7.4"
  }
 },
 "nbformat": 4,
 "nbformat_minor": 2
}
