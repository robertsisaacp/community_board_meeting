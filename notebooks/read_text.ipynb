{
 "cells": [
  {
   "cell_type": "markdown",
   "metadata": {},
   "source": [
    "# Read in Block Party Summary and Metadata"
   ]
  },
  {
   "cell_type": "code",
   "execution_count": 2,
   "metadata": {},
   "outputs": [],
   "source": [
    "from IPython.display import display, Markdown\n",
    "import os"
   ]
  },
  {
   "cell_type": "code",
   "execution_count": 3,
   "metadata": {},
   "outputs": [],
   "source": [
    "# Look at JSON folder:\n",
    "\n",
    "def read_summary(file_name,get_prop=None):\n",
    "    import os\n",
    "    import json\n",
    "    \n",
    "    path_to_json = os.path.join(os.getcwd(),\n",
    "                             f'../json_objects//{file_name}.json')\n",
    "    json_files = json.load(open(path_to_json, 'r'))\n",
    "    if get_prop is None:\n",
    "        output = json_files\n",
    "        return output\n",
    "    else:\n",
    "        output = json_files.get('properties').get(get_prop)\n",
    "        output_list = output.split('\\n')\n",
    "    \n",
    "        #[display(Markdown(f\"<p style=\\\"font-size:25px\\\">{chunk}</p><br/>\")) for chunk in output_list]\n",
    "        [display(Markdown(f\"<font size=\\\"5px\\\">{chunk}</font><br/>\")) for chunk in output_list]\n",
    "        return output_list\n",
    "    \n",
    "\n",
    "def get_all_info(file_name):\n",
    "    data = read_summary(file_name,get_prop=None)\n",
    "    metadata = data.get('data')\n",
    "    print(metadata)\n",
    "    print(data.get('properties').get('fillerWordCount'))\n",
    "    print(data.get('properties').get('wordCountFullTranscript'))\n",
    "    print(data.get('properties').get('wordCountSummary'))\n",
    "    output_summary = read_summary(file_name,get_prop='summary')\n",
    "    \n",
    "    return data, output_summary"
   ]
  },
  {
   "cell_type": "code",
   "execution_count": 19,
   "metadata": {},
   "outputs": [
    {
     "name": "stdout",
     "output_type": "stream",
     "text": [
      "{'YoutubeMetadata': {'author': 'MCB3', 'channelId': 'https://www.youtube.com/channel/UC2HzoCJxu-rVSgcaop0K-_A', 'title': 'CB 3 Manhattan SLA \\\\u0026 DCA Licensing Committee - April 20', 'publishDate': '2020-04-21', 'shortDescription': \"1.    Approval of previous month's minutes\\\\nSidewalk Cafe Applications\\\\n2.    Dig Inn (Dig Inn 127 Fourth Ave LLC), 127 4th Ave\\\\n3.    Headless Widow (The Headless Widow LLC), 99 1st Ave\\\\nAlterations\\\\n4.    Hayaty (A H 103 Corp), 103 Ave A (op/alt/change method of operation: extend hours to 4am daily)\\\\n5.    El Sombrero (Two Almontes Corp), 108 Stanton St (op/method of operation: change hours to 11am to 2am Sunday thru Thursday and 11am to 4am Friday and Saturday)\\\\nNew Liquor License Applications\\\\n6.    Tsukimi (TKM 228 East 10th St LLC), 228 E 10th St (upgrade to op)\\\\n7.    Entity to be formed by Jade Shenker, 235 E 4th St (op)\\\\n8.    Corp to be formed by Beatrice Rodriguez Dearma, 157 E Houston St (op)\\\\nItems not heard at Committee\\\\n9.    Site 2 Market Line Restaurant LLC, 115 Delancey St (op)\\\\n10.    Scarr Pizza (Scarr Pizza LLC), 35 Orchard St (op/removal from 22A Orchard St) (aka 34 Allen St)\\\\n11.    Spiegel (Ride More Inc), 26 1st Ave (op)\\\\n12.    Mama's Bar (Mama Bar LLC), 34 Ave B (corp change)\\\\n13.    The Izakaya (Shiawase Factory LTD), 215 E 4th St (wb)\\\\n14.    May Kaidee (May Kaidee East Broadway LLC), 215 E B'way (wb)\\\\n15.    Rosella (Little Fish Hospitality Group LLC), 137 Ave A (wb)\\\\n16.    Entity to be formed by Enrique Wangerman, 144 E B'way (wb)\\\\n17.    Vote to adjourn\\\\nb=beer \\\\u0026 cider | wb=wine, beer \\\\u0026 cider | op=liquor, wine, beer \\\\u0026 cider | alt=alterations\"}, 'metadata': {'ID': 'String', 'creationDate': 'datetime'}, 'CommunityBoardInfo': {'communityID': 'MCB3', 'normalizedName': 'Manhattan Community Board 3', 'twitterName': 'Community Board 3', 'youtubeChannelName': 'Manhattan Community Board 3 NYC', 'youtubeChannelURL': 'https://www.youtube.com/channel/UC2HzoCJxu-rVSgcaop0K-_A', 'twitterHandle': '@CB3Man', 'dateCheckLast': '9/18/2020', 'status': 'live'}}\n",
      "{'uh': 6, 'um': 13}\n",
      "{'tables': 58, 'feet': 48, 'sidewalk': 47, 'cafe': 47, 'hours': 34, 'business': 32, 'time': 31, 'people': 26, 'seats': 25, 'street': 23}\n",
      "{'cafe': 17, 'tables': 16, 'sidewalk': 14, 'hours': 12, 'p.m.': 10, 'operation': 8, 'seats': 6, 'row': 6, 'a.m.': 6, 'table': 6}\n"
     ]
    },
    {
     "data": {
      "text/markdown": [
       "<font size=\"5px\">Is there, a second Seventh, fourth Avenue They're, applying for a sidewalk cafe permit We approve this applicant for a wine beer.</font><br/>"
      ],
      "text/plain": [
       "<IPython.core.display.Markdown object>"
      ]
     },
     "metadata": {},
     "output_type": "display_data"
    },
    {
     "data": {
      "text/markdown": [
       "<font size=\"5px\">Closing, its facade at 10:00 p.m. playing recorded background music, not applying for an alteration before coming to the community board, not seeking an upgrade, not hosting pub crawls or party buses, not having them limited, drink specials with food, not having happy hours, not having wait lines outside application is for seven tables and 14 seats with a row of two tables and four seats on 4th Avenue and a row of five tables and Tennessee on East 13th, Street and proposed hours of 11:00 a.m. to 10:00 p.m. all days.</font><br/>"
      ],
      "text/plain": [
       "<IPython.core.display.Markdown object>"
      ]
     },
     "metadata": {},
     "output_type": "display_data"
    },
    {
     "data": {
      "text/markdown": [
       "<font size=\"5px\">You know as close to home as we can Applying for this unenclosed sidewalk cafe the seven tables as described five on the 13th Street side, a single row with planters, one of the seats would be an ad a seat and then two tables with chairs the same on the 4th Avenue You know we want to be a good neighbor.</font><br/>"
      ],
      "text/plain": [
       "<IPython.core.display.Markdown object>"
      ]
     },
     "metadata": {},
     "output_type": "display_data"
    },
    {
     "data": {
      "text/markdown": [
       "<font size=\"5px\">I think feels like an impediment, and you know: I want to be supportive of local businesses, Committee members, other than clay What Herman's microphone, apparently isn't working.</font><br/>"
      ],
      "text/plain": [
       "<IPython.core.display.Markdown object>"
      ]
     },
     "metadata": {},
     "output_type": "display_data"
    },
    {
     "data": {
      "text/markdown": [
       "<font size=\"5px\">So on the 13th Street side is the measurement we tweet from the planters on or from the seating on from that it has to be from the perimeter of the sidewalk cafe.</font><br/>"
      ],
      "text/plain": [
       "<IPython.core.display.Markdown object>"
      ]
     },
     "metadata": {},
     "output_type": "display_data"
    },
    {
     "data": {
      "text/markdown": [
       "<font size=\"5px\">Is it, but even so, I think table there, Though right, so it the table stops before those It's the perimeter of this sidewalk cafe that we have to measure from the tables.</font><br/>"
      ],
      "text/plain": [
       "<IPython.core.display.Markdown object>"
      ]
     },
     "metadata": {},
     "output_type": "display_data"
    },
    {
     "data": {
      "text/markdown": [
       "<font size=\"5px\">If you're putting planters out So, then we're still at our minimum mm I, the only thing I might ask, because you aren't you know the tables are a little bit further to the east, maybe just to help pedestrian movement.</font><br/>"
      ],
      "text/plain": [
       "<IPython.core.display.Markdown object>"
      ]
     },
     "metadata": {},
     "output_type": "display_data"
    },
    {
     "data": {
      "text/markdown": [
       "<font size=\"5px\">We heard that the issue is the edge of your sidewalk cafe on 13th Street ends up abutting the beginning of a series of street furniture and fixtures that may make it difficult to get by I mean the alternative is to shorten it by a table, but it works technically.</font><br/>"
      ],
      "text/plain": [
       "<IPython.core.display.Markdown object>"
      ]
     },
     "metadata": {},
     "output_type": "display_data"
    },
    {
     "data": {
      "text/markdown": [
       "<font size=\"5px\">A, fanny search, Street, and ask that a resolution be devised to perhaps create more space between the sidewalk cafe and the newspaper.</font><br/>"
      ],
      "text/plain": [
       "<IPython.core.display.Markdown object>"
      ]
     },
     "metadata": {},
     "output_type": "display_data"
    },
    {
     "data": {
      "text/markdown": [
       "<font size=\"5px\">If you know there was less, we could question it, but Just, because there's a lot more traffic on 4:13- Are you able to pull it down, see how it measures the 8 feet from the line of the sidewalk cafe?</font><br/>"
      ],
      "text/plain": [
       "<IPython.core.display.Markdown object>"
      ]
     },
     "metadata": {},
     "output_type": "display_data"
    },
    {
     "data": {
      "text/markdown": [
       "<font size=\"5px\">Consequently, support the proposed sidewalk cafe with the following change: order, and then the change order would be for seven tables and 14-feet, with two tables and foresty in a single row: flush against the facade of the building on 4th Avenue and five tables, and ten feet: flush against the facade of the building on East 13th Street.</font><br/>"
      ],
      "text/plain": [
       "<IPython.core.display.Markdown object>"
      ]
     },
     "metadata": {},
     "output_type": "display_data"
    },
    {
     "data": {
      "text/markdown": [
       "<font size=\"5px\">In a single row on East 13th Street, with hours of operation for the sidewalk cafe of 11:00 a.m. to 10:00 p.m. all days.</font><br/>"
      ],
      "text/plain": [
       "<IPython.core.display.Markdown object>"
      ]
     },
     "metadata": {},
     "output_type": "display_data"
    },
    {
     "data": {
      "text/markdown": [
       "<font size=\"5px\">We approved in March of 2019 with stipulate a stipulation to operate a full-service American restaurant, serving food, all hours having kitchen open and serving food all hours having hours of operation of 4:00 p.m. to 1:00 a.m. Sunday through Wednesday 4:00 p.m. to 2:00 a.m. Thursday through Saturday closing at Posada ten playing recorded background music, not applying for an alteration without first coming, just having happy hours to 7:00 p.m. now hosting pub crawls or party buses, not having unlimited drink specials, not having weight lines outside and having staff outside or responsible for controlling noise and crowds.</font><br/>"
      ],
      "text/plain": [
       "<IPython.core.display.Markdown object>"
      ]
     },
     "metadata": {},
     "output_type": "display_data"
    },
    {
     "data": {
      "text/markdown": [
       "<font size=\"5px\">They were proposing as having a sidewalk cafe, have six tables in 18 seats, with four tables in 12 seats on East, 6th Street and two tables and 60 seats on 1st Avenue, and we told them that.</font><br/>"
      ],
      "text/plain": [
       "<IPython.core.display.Markdown object>"
      ]
     },
     "metadata": {},
     "output_type": "display_data"
    },
    {
     "data": {
      "text/markdown": [
       "<font size=\"5px\">And we're asking for community board members help, but This cafe the sidewalk cafe their weight and sense of open we're seeking for, as you know, we're seeking for 13 tables and 26 chairs.</font><br/>"
      ],
      "text/plain": [
       "<IPython.core.display.Markdown object>"
      ]
     },
     "metadata": {},
     "output_type": "display_data"
    },
    {
     "data": {
      "text/markdown": [
       "<font size=\"5px\">So, at this time, we're just wondering if it's possible to get the cafe license, which would tremendously help us and I feel like it will also help the community as well just open up the doors making 6th Street a little more enhanced to the eye.</font><br/>"
      ],
      "text/plain": [
       "<IPython.core.display.Markdown object>"
      ]
     },
     "metadata": {},
     "output_type": "display_data"
    },
    {
     "data": {
      "text/markdown": [
       "<font size=\"5px\">Right, so that you can address the issue, but they have the ability to tell you whether or not it's one person or more than one person, What I would suggest is working with them, but also just You, know, I know you had been open before and I can share the diagram just so everyone can see what we're referring to on your sidewalk cafe.</font><br/>"
      ],
      "text/plain": [
       "<IPython.core.display.Markdown object>"
      ]
     },
     "metadata": {},
     "output_type": "display_data"
    },
    {
     "data": {
      "text/markdown": [
       "<font size=\"5px\">So like I, don't think that there's enough clearance between your sidewalk cafe and the phone booth at that end for it to be there even for the weight, line, If you removed a table, you would still have the issue with the weight.</font><br/>"
      ],
      "text/plain": [
       "<IPython.core.display.Markdown object>"
      ]
     },
     "metadata": {},
     "output_type": "display_data"
    },
    {
     "data": {
      "text/markdown": [
       "<font size=\"5px\">The edge of the way tile to the garbage can I mean the only thing again, I, don't know if the garbage can, because if again it has to fit in with all the other streets in it , I think there could be a space in here where he could put a table Is it worth it to have one table on that.</font><br/>"
      ],
      "text/plain": [
       "<IPython.core.display.Markdown object>"
      ]
     },
     "metadata": {},
     "output_type": "display_data"
    },
    {
     "data": {
      "text/markdown": [
       "<font size=\"5px\">I, would approve only like one single row of tables along East, sixth Street, and then my expectation would be that they would have to be flush against the facade of the building.</font><br/>"
      ],
      "text/plain": [
       "<IPython.core.display.Markdown object>"
      ]
     },
     "metadata": {},
     "output_type": "display_data"
    },
    {
     "data": {
      "text/markdown": [
       "<font size=\"5px\">You understand that we still think it's an issue about how your doors open and whether or not you can accommodate the sidewalk cafe the way we think it needs to be accommodated which is on this.</font><br/>"
      ],
      "text/plain": [
       "<IPython.core.display.Markdown object>"
      ]
     },
     "metadata": {},
     "output_type": "display_data"
    },
    {
     "data": {
      "text/markdown": [
       "<font size=\"5px\">So, it's either you're going to either have to do it by putting them between the doors, the tables or and having the doors jut out into your cafe, You have the cafe open, and that may also be an issue with respect to noise, but talk to the police about it- Maybe, not just the who respond, who may or may not be your NCOs You're, like neighborhood officers, but go in to a precinct council meeting and speak to your neighborhood officers and the special operations lieutenant.</font><br/>"
      ],
      "text/plain": [
       "<IPython.core.display.Markdown object>"
      ]
     },
     "metadata": {},
     "output_type": "display_data"
    },
    {
     "data": {
      "text/markdown": [
       "<font size=\"5px\">All right now know that I put that into the resolution and then the hours of operation for the sidewalk cafe would be 4:00 p.m. to 10:00 p.m. all days.</font><br/>"
      ],
      "text/plain": [
       "<IPython.core.display.Markdown object>"
      ]
     },
     "metadata": {},
     "output_type": "display_data"
    },
    {
     "data": {
      "text/markdown": [
       "<font size=\"5px\">This is a rest prod for whom we approved administrative leave proved a wine beer license in February of 2017, with stipulations to operate a full-service restaurant at a Japanese, high Stuckey Styles tasting menu and a kitchen serving food open and serving food during all hours of operation, with hours of operation of 6:00 p.m. to 2:00 a.m. all days, no use of outdoor space.</font><br/>"
      ],
      "text/plain": [
       "<IPython.core.display.Markdown object>"
      ]
     },
     "metadata": {},
     "output_type": "display_data"
    },
    {
     "data": {
      "text/markdown": [
       "<font size=\"5px\">Now, I guess even with the situation given I, think that we just need any anything that could help us survive when we reopen I, think just even having this you know, liquor license could help even just a little bit of increase in sales for us to.</font><br/>"
      ],
      "text/plain": [
       "<IPython.core.display.Markdown object>"
      ]
     },
     "metadata": {},
     "output_type": "display_data"
    },
    {
     "data": {
      "text/markdown": [
       "<font size=\"5px\">So, even the residents in our building the signed, our petition there So I, think that's encouraging for us to also hopefully apply for this liquor license also with The other restaurants in the neighborhood Are Japanese, restaurants, in the neighborhood we have like papayas and sushi restaurants, And I know it's not gay bars, but we're quite different from that right.</font><br/>"
      ],
      "text/plain": [
       "<IPython.core.display.Markdown object>"
      ]
     },
     "metadata": {},
     "output_type": "display_data"
    },
    {
     "data": {
      "text/markdown": [
       "<font size=\"5px\">One thing we've talked about in the past is: If we are going to issue upgrades, is it to people that we feel are you know legit restaurants, not something that's going to masquerade as a bar?.</font><br/>"
      ],
      "text/plain": [
       "<IPython.core.display.Markdown object>"
      ]
     },
     "metadata": {},
     "output_type": "display_data"
    },
    {
     "data": {
      "text/markdown": [
       "<font size=\"5px\">This would be you know, after other, where of clauses which I could get to, but given the residential character of the street, we typically would not want to approve a full license for an eating and drinking business mid-block, even with a period of operation, but are considering doing this, because this is a less than seven hundred square foot restaurant, with less than four hundred and fifty square feet of patron accessible, area, two counters that see 14 people, hours of operation of 6:00 p.m. to 12 a.m. daily and method of operation as a restaurant, with a tasting menu of no less than at least twelve courses that taste at least two and a half hours so would accommodate.</font><br/>"
      ],
      "text/plain": [
       "<IPython.core.display.Markdown object>"
      ]
     },
     "metadata": {},
     "output_type": "display_data"
    },
    {
     "data": {
      "text/markdown": [
       "<font size=\"5px\">I mean I, think all of those things we could put in there to support going out of the norm and approving something like this on a residential side.</font><br/>"
      ],
      "text/plain": [
       "<IPython.core.display.Markdown object>"
      ]
     },
     "metadata": {},
     "output_type": "display_data"
    },
    {
     "data": {
      "text/markdown": [
       "<font size=\"5px\">I know you said right: now, you're generally having one seating, but if you are gonna have two seatings, because it's I think what Alex said, because it's a residential street.</font><br/>"
      ],
      "text/plain": [
       "<IPython.core.display.Markdown object>"
      ]
     },
     "metadata": {},
     "output_type": "display_data"
    },
    {
     "data": {
      "text/markdown": [
       "<font size=\"5px\">You know you can't have, even if it's only 14 people waiting outside at 8:30 or whatever blocking, is sidewalk or anything waiting for the next seating.</font><br/>"
      ],
      "text/plain": [
       "<IPython.core.display.Markdown object>"
      ]
     },
     "metadata": {},
     "output_type": "display_data"
    },
    {
     "data": {
      "text/markdown": [
       "<font size=\"5px\">They can be consistent, open, Is that creating a solution trying to find a problem like people are coming to us and saying, and if it is, if this is the case, then I'm on board, because you guys have been doing this longer.</font><br/>"
      ],
      "text/plain": [
       "<IPython.core.display.Markdown object>"
      ]
     },
     "metadata": {},
     "output_type": "display_data"
    },
    {
     "data": {
      "text/markdown": [
       "<font size=\"5px\">There are a block of businesses that fit into that administrative approval that are like the wine bar that just stays open till twelve and has recorded music or the restaurant.</font><br/>"
      ],
      "text/plain": [
       "<IPython.core.display.Markdown object>"
      ]
     },
     "metadata": {},
     "output_type": "display_data"
    }
   ],
   "source": [
    "metadata, summary = get_all_info(\"zg9u3UVRo_Y\")"
   ]
  },
  {
   "cell_type": "code",
   "execution_count": 26,
   "metadata": {},
   "outputs": [
    {
     "data": {
      "text/plain": [
       "{'YoutubeMetadata': {'author': 'MCB3',\n",
       "  'channelId': 'https://www.youtube.com/channel/UC2HzoCJxu-rVSgcaop0K-_A',\n",
       "  'title': 'CB 3 Manhattan SLA \\\\u0026 DCA Licensing Committee - April 20',\n",
       "  'publishDate': '2020-04-21',\n",
       "  'shortDescription': \"1.    Approval of previous month's minutes\\\\nSidewalk Cafe Applications\\\\n2.    Dig Inn (Dig Inn 127 Fourth Ave LLC), 127 4th Ave\\\\n3.    Headless Widow (The Headless Widow LLC), 99 1st Ave\\\\nAlterations\\\\n4.    Hayaty (A H 103 Corp), 103 Ave A (op/alt/change method of operation: extend hours to 4am daily)\\\\n5.    El Sombrero (Two Almontes Corp), 108 Stanton St (op/method of operation: change hours to 11am to 2am Sunday thru Thursday and 11am to 4am Friday and Saturday)\\\\nNew Liquor License Applications\\\\n6.    Tsukimi (TKM 228 East 10th St LLC), 228 E 10th St (upgrade to op)\\\\n7.    Entity to be formed by Jade Shenker, 235 E 4th St (op)\\\\n8.    Corp to be formed by Beatrice Rodriguez Dearma, 157 E Houston St (op)\\\\nItems not heard at Committee\\\\n9.    Site 2 Market Line Restaurant LLC, 115 Delancey St (op)\\\\n10.    Scarr Pizza (Scarr Pizza LLC), 35 Orchard St (op/removal from 22A Orchard St) (aka 34 Allen St)\\\\n11.    Spiegel (Ride More Inc), 26 1st Ave (op)\\\\n12.    Mama's Bar (Mama Bar LLC), 34 Ave B (corp change)\\\\n13.    The Izakaya (Shiawase Factory LTD), 215 E 4th St (wb)\\\\n14.    May Kaidee (May Kaidee East Broadway LLC), 215 E B'way (wb)\\\\n15.    Rosella (Little Fish Hospitality Group LLC), 137 Ave A (wb)\\\\n16.    Entity to be formed by Enrique Wangerman, 144 E B'way (wb)\\\\n17.    Vote to adjourn\\\\nb=beer \\\\u0026 cider | wb=wine, beer \\\\u0026 cider | op=liquor, wine, beer \\\\u0026 cider | alt=alterations\"},\n",
       " 'metadata': {'ID': 'String', 'creationDate': 'datetime'},\n",
       " 'CommunityBoardInfo': {'communityID': 'MCB3',\n",
       "  'normalizedName': 'Manhattan Community Board 3',\n",
       "  'twitterName': 'Community Board 3',\n",
       "  'youtubeChannelName': 'Manhattan Community Board 3 NYC',\n",
       "  'youtubeChannelURL': 'https://www.youtube.com/channel/UC2HzoCJxu-rVSgcaop0K-_A',\n",
       "  'twitterHandle': '@CB3Man',\n",
       "  'dateCheckLast': '9/18/2020',\n",
       "  'status': 'live'}}"
      ]
     },
     "execution_count": 26,
     "metadata": {},
     "output_type": "execute_result"
    }
   ],
   "source": [
    "metadata.get('data')"
   ]
  },
  {
   "cell_type": "code",
   "execution_count": 20,
   "metadata": {},
   "outputs": [
    {
     "data": {
      "text/plain": [
       "\"Is there, a second Seventh, fourth Avenue They're, applying for a sidewalk cafe permit We approve this applicant for a wine beer.\""
      ]
     },
     "execution_count": 20,
     "metadata": {},
     "output_type": "execute_result"
    }
   ],
   "source": [
    "summary[0]"
   ]
  },
  {
   "cell_type": "code",
   "execution_count": 21,
   "metadata": {},
   "outputs": [
    {
     "data": {
      "text/plain": [
       "'Consequently, support the proposed sidewalk cafe with the following change: order, and then the change order would be for seven tables and 14-feet, with two tables and foresty in a single row: flush against the facade of the building on 4th Avenue and five tables, and ten feet: flush against the facade of the building on East 13th Street.'"
      ]
     },
     "execution_count": 21,
     "metadata": {},
     "output_type": "execute_result"
    }
   ],
   "source": [
    "summary[10]"
   ]
  },
  {
   "cell_type": "code",
   "execution_count": 23,
   "metadata": {},
   "outputs": [
    {
     "data": {
      "text/plain": [
       "'There are a block of businesses that fit into that administrative approval that are like the wine bar that just stays open till twelve and has recorded music or the restaurant.'"
      ]
     },
     "execution_count": 23,
     "metadata": {},
     "output_type": "execute_result"
    }
   ],
   "source": [
    "summary[-1]"
   ]
  }
 ],
 "metadata": {
  "kernelspec": {
   "display_name": "Python 3",
   "language": "python",
   "name": "python3"
  },
  "language_info": {
   "codemirror_mode": {
    "name": "ipython",
    "version": 3
   },
   "file_extension": ".py",
   "mimetype": "text/x-python",
   "name": "python",
   "nbconvert_exporter": "python",
   "pygments_lexer": "ipython3",
   "version": "3.7.4"
  }
 },
 "nbformat": 4,
 "nbformat_minor": 2
}
