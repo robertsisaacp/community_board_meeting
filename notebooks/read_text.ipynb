{
 "cells": [
  {
   "cell_type": "markdown",
   "metadata": {},
   "source": [
    "# Read in Block Party Summary and Metadata"
   ]
  },
  {
   "cell_type": "code",
   "execution_count": 24,
   "metadata": {},
   "outputs": [],
   "source": [
    "from IPython.display import display, Markdown\n",
    "import os\n",
    "import readtime"
   ]
  },
  {
   "cell_type": "code",
   "execution_count": 14,
   "metadata": {},
   "outputs": [],
   "source": [
    "# Look at JSON folder:\n",
    "\n",
    "def read_summary(file_name,get_prop=None):\n",
    "    import os\n",
    "    import json\n",
    "    \n",
    "    path_to_json = os.path.join(os.getcwd(),\n",
    "                             f'../json_objects//{file_name}.json')\n",
    "    json_files = json.load(open(path_to_json, 'r'))\n",
    "    if get_prop is None:\n",
    "        output = json_files\n",
    "        return output\n",
    "    else:\n",
    "        output = json_files.get(\"data\").get('properties').get(get_prop)\n",
    "        output_list = output.split('\\n')\n",
    "        \n",
    "        word_count = json_files.get(\"data\").get('properties').get('wordCountFullTranscript')\n",
    "        title = json_files.get(\"data\").get('YoutubeMetadata').get('title')\n",
    "    \n",
    "        #[display(Markdown(f\"<p style=\\\"font-size:25px\\\">{chunk}</p><br/>\")) for chunk in output_list]\n",
    "        [display(Markdown(f\"<font size=\\\"5px\\\">{chunk}</font><br/>\")) for chunk in output_list]\n",
    "        return output_list, word_count, title\n",
    "    \n",
    "\n",
    "def get_all_info(file_name):\n",
    "    data = read_summary(file_name,get_prop=None)\n",
    "    metadata = data.get('data')\n",
    "    print(metadata)\n",
    "    print(data.get('properties').get('fillerWordCount'))\n",
    "    print(data.get('properties').get('wordCountFullTranscript'))\n",
    "    print(data.get('YoutubeMetadata').get('title'))\n",
    "    output_summary = read_summary(file_name,get_prop='summary')\n",
    "    \n",
    "    return data, output_summary"
   ]
  },
  {
   "cell_type": "code",
   "execution_count": 180,
   "metadata": {},
   "outputs": [
    {
     "data": {
      "text/markdown": [
       "<font size=\"5px\">Interestingly, it looked like Grand, Larceny and Petty Larceny are down, and I wonder if captain rana might be able to speak about the fact that those two items may be down, maybe just because people are not going out as much as they used to be and.</font><br/>"
      ],
      "text/plain": [
       "<IPython.core.display.Markdown object>"
      ]
     },
     "metadata": {},
     "output_type": "display_data"
    },
    {
     "data": {
      "text/markdown": [
       "<font size=\"5px\">We, sponsor food deliveries for folks in the public housing projects- Last week there was a robbery at gunpoint at the times, Plaza Post office and the person at gunpoint took wallets from the customers there and we have not been able to get information on it.</font><br/>"
      ],
      "text/plain": [
       "<IPython.core.display.Markdown object>"
      ]
     },
     "metadata": {},
     "output_type": "display_data"
    },
    {
     "data": {
      "text/markdown": [
       "<font size=\"5px\">Okay, let's see if he joins, we'll play by ear great thanks, Is. A presentation that comes from about 10 years of work on a project called the Brooklyn bridge.</font><br/>"
      ],
      "text/plain": [
       "<IPython.core.display.Markdown object>"
      ]
     },
     "metadata": {},
     "output_type": "display_data"
    },
    {
     "data": {
      "text/markdown": [
       "<font size=\"5px\">We're going to present that story with an emphasis on our immediate actions that we would like to support the city in moving forward on the Brooklyn, bridge, challenge of pedestrian and cyclist congestion on the bridge, as well as some of the public space surrounding the bridge.</font><br/>"
      ],
      "text/plain": [
       "<IPython.core.display.Markdown object>"
      ]
     },
     "metadata": {},
     "output_type": "display_data"
    },
    {
     "data": {
      "text/markdown": [
       "<font size=\"5px\">We see this as an opportunity to bring some of that thinking right into the heart of New, York City and use the bridge as a place for experimentation and and action on these issues.</font><br/>"
      ],
      "text/plain": [
       "<IPython.core.display.Markdown object>"
      ]
     },
     "metadata": {},
     "output_type": "display_data"
    },
    {
     "data": {
      "text/markdown": [
       "<font size=\"5px\">All, familiar with what it's like to walk or cycle over the promenade in the Brooklyn bridge- It's been a bit of a nightmare over the last few years as that traffic has ramped up and, of course, with Covid-19 and all those transformations.</font><br/>"
      ],
      "text/plain": [
       "<IPython.core.display.Markdown object>"
      ]
     },
     "metadata": {},
     "output_type": "display_data"
    },
    {
     "data": {
      "text/markdown": [
       "<font size=\"5px\">Zero approach that we built into our proposal was to in basically in the first year, get a new bike lane implemented on the traffic deck.</font><br/>"
      ],
      "text/plain": [
       "<IPython.core.display.Markdown object>"
      ]
     },
     "metadata": {},
     "output_type": "display_data"
    },
    {
     "data": {
      "text/markdown": [
       "<font size=\"5px\">We called the lower deck of the Brooklyn bridge, along with a series of public space interventions that would come along with that.</font><br/>"
      ],
      "text/plain": [
       "<IPython.core.display.Markdown object>"
      ]
     },
     "metadata": {},
     "output_type": "display_data"
    },
    {
     "data": {
      "text/markdown": [
       "<font size=\"5px\">This group has already commented on the urgency of improving the flow of pedestrians and cyclists over the bridge, so we're moving through this process, and I should note that we've had a meeting with Manhattan Community board one wherein they passed a positive resolution in favor of working with this proposal.</font><br/>"
      ],
      "text/plain": [
       "<IPython.core.display.Markdown object>"
      ]
     },
     "metadata": {},
     "output_type": "display_data"
    },
    {
     "data": {
      "text/markdown": [
       "<font size=\"5px\">Breaking this down, we've got a proposal for a public space bike ramp and the Brooklyn anchorage plaza, which we'll talk, about.</font><br/>"
      ],
      "text/plain": [
       "<IPython.core.display.Markdown object>"
      ]
     },
     "metadata": {},
     "output_type": "display_data"
    },
    {
     "data": {
      "text/markdown": [
       "<font size=\"5px\">Similarly, on the Manhattan side, resuscitating a an underutilized or unused ramp from the broken bridge that is currently being used by NYPD for parking, post, 911 and then creating some green spaces to support those areas on both sides of the bridge.</font><br/>"
      ],
      "text/plain": [
       "<IPython.core.display.Markdown object>"
      ]
     },
     "metadata": {},
     "output_type": "display_data"
    },
    {
     "data": {
      "text/markdown": [
       "<font size=\"5px\">The other lane, and, along with this, comes a series of programming ideas like working with youth, creating some spaces in the anchorage for young people to engage with this, both even in the process of the planning and rollout, and also ongoing education and engagement with young people.</font><br/>"
      ],
      "text/plain": [
       "<IPython.core.display.Markdown object>"
      ]
     },
     "metadata": {},
     "output_type": "display_data"
    },
    {
     "data": {
      "text/markdown": [
       "<font size=\"5px\">That's part of a long- term plan, but our focus right now is to work with D.O.T the community boards and all the stakeholders to get bike traffic moving on the bridge as quickly as possible and on the right hand, of the screen.</font><br/>"
      ],
      "text/plain": [
       "<IPython.core.display.Markdown object>"
      ]
     },
     "metadata": {},
     "output_type": "display_data"
    },
    {
     "data": {
      "text/markdown": [
       "<font size=\"5px\">You'll, see under the other red circle, a proposal to have a an additional lane potentially for electric assist vehicles, which we know is a big theme right now in the city.</font><br/>"
      ],
      "text/plain": [
       "<IPython.core.display.Markdown object>"
      ]
     },
     "metadata": {},
     "output_type": "display_data"
    },
    {
     "data": {
      "text/markdown": [
       "<font size=\"5px\">Yes, okay, a single lane of car traffic to dedicate for the first two- way bike lane on the north side and again, potentially on the on the Brooklyn bound side, an electric assist lane.</font><br/>"
      ],
      "text/plain": [
       "<IPython.core.display.Markdown object>"
      ]
     },
     "metadata": {},
     "output_type": "display_data"
    },
    {
     "data": {
      "text/markdown": [
       "<font size=\"5px\">Many people have confronted the fact that there's a question about the loading of the bridge and we recognize that this first proposal of using the lower deck for the for the bike lane does not substantially increase the load in the bridge.</font><br/>"
      ],
      "text/plain": [
       "<IPython.core.display.Markdown object>"
      ]
     },
     "metadata": {},
     "output_type": "display_data"
    },
    {
     "data": {
      "text/markdown": [
       "<font size=\"5px\">These two new ramps, I'm, going to zoom out zoom in on this in a second and the yellow, dashed line, would be the electric assist lane which would start at center and go all the way to Artillery Street, let's just zoom in for a minute on the two approaches to this bike: Lane, the Manhattan ramp on the top and the Brooklyn ramp on the bottom, and our proposal is to create really kind of cool and exciting public spaces.</font><br/>"
      ],
      "text/plain": [
       "<IPython.core.display.Markdown object>"
      ]
     },
     "metadata": {},
     "output_type": "display_data"
    },
    {
     "data": {
      "text/markdown": [
       "<font size=\"5px\">This is sort of what it would look like, and this ramp again starting connecting to some of the bike lanes coming down.</font><br/>"
      ],
      "text/plain": [
       "<IPython.core.display.Markdown object>"
      ]
     },
     "metadata": {},
     "output_type": "display_data"
    },
    {
     "data": {
      "text/markdown": [
       "<font size=\"5px\">Cadman Plaza allows cyclists to ride up onto the deck of the bridge, more technical drawings, here, and we have you know really nice plans for the ecological and biodiversity aspect of the space and leaning on the work of wildlife, conservation, Society and Eric Sanderson from the Manna Hatta Project, bringing back some of the biodiversity from this area and making that part of the public space while supporting the cycling infrastructure just to go over to the Manhattan side.</font><br/>"
      ],
      "text/plain": [
       "<IPython.core.display.Markdown object>"
      ]
     },
     "metadata": {},
     "output_type": "display_data"
    },
    {
     "data": {
      "text/markdown": [
       "<font size=\"5px\">What it would look like from the level view from the promenade, so this Jersey barrier, which currently is blocking the ramp off, would be shifted over and giving cyclists full access, and here is looking up that ramp with the idea of a pop- up cafe for bike bicycles and cyclists, coming up from the Manhattan side and again.</font><br/>"
      ],
      "text/plain": [
       "<IPython.core.display.Markdown object>"
      ]
     },
     "metadata": {},
     "output_type": "display_data"
    },
    {
     "data": {
      "text/markdown": [
       "<font size=\"5px\">Lane proposal that was part of our winning competition entry backing this up is this idea of micro force and we want to interweave this into our project wherever we can, which is these small biodiverse forest clusters that have proven that they can be done in cities and done well and bring back biodiversity and plant life and create welcoming spaces for for people in the heart of the city, So we have a few ideas of where these would be deployed on both the Brooklyn and the Manhattan side in Manhattan adjacent to the approaches.</font><br/>"
      ],
      "text/plain": [
       "<IPython.core.display.Markdown object>"
      ]
     },
     "metadata": {},
     "output_type": "display_data"
    },
    {
     "data": {
      "text/markdown": [
       "<font size=\"5px\">This is right, adjacent to the NYCHA housing We think a really awesome place for young people to get together, learn about science, history, technology and engaging issues that local mentors from New York can work with these kids on, hopefully including us.</font><br/>"
      ],
      "text/plain": [
       "<IPython.core.display.Markdown object>"
      ]
     },
     "metadata": {},
     "output_type": "display_data"
    },
    {
     "data": {
      "text/markdown": [
       "<font size=\"5px\">Types is something that needed to be done through community engagement, and this sketch is just to show that we still intend to work through that, and we know that the removal of a car lane a traffic lane is something that can be contentious, and so, within the competition.</font><br/>"
      ],
      "text/plain": [
       "<IPython.core.display.Markdown object>"
      ]
     },
     "metadata": {},
     "output_type": "display_data"
    },
    {
     "data": {
      "text/markdown": [
       "<font size=\"5px\">We recognize that, but we also recognize that the changing dynamics of transportation and energy are really forcing us to look at these issues, and we see that Brooklyn bridge is a great place to sort of play that out with the right engagement of stakeholders We can start the conversation As you know.</font><br/>"
      ],
      "text/plain": [
       "<IPython.core.display.Markdown object>"
      ]
     },
     "metadata": {},
     "output_type": "display_data"
    },
    {
     "data": {
      "text/markdown": [
       "<font size=\"5px\">Our community board supports the change of one of the roadway beds to a bike lane in the near term, and it's nice that your proposal has that and so much more So I'd like to open up the questions to committee members.</font><br/>"
      ],
      "text/plain": [
       "<IPython.core.display.Markdown object>"
      ]
     },
     "metadata": {},
     "output_type": "display_data"
    },
    {
     "data": {
      "text/markdown": [
       "<font size=\"5px\">And, it's 2.5 million, and that's for the two Ramp conversion spaces and the connecting bike lane At some point, there were trains that rode over the Brooklyn bridge.</font><br/>"
      ],
      "text/plain": [
       "<IPython.core.display.Markdown object>"
      ]
     },
     "metadata": {},
     "output_type": "display_data"
    },
    {
     "data": {
      "text/markdown": [
       "<font size=\"5px\">Is, that the inner lane is comes all the way out and basically takes you to tillery, because you can't cross over and bike onto the exit, ramps and likewise, There's a slide there, where you show an area on the platform of the bridge where there's a CitiBike area and maybe a commercial use and a little stopover.</font><br/>"
      ],
      "text/plain": [
       "<IPython.core.display.Markdown object>"
      ]
     },
     "metadata": {},
     "output_type": "display_data"
    },
    {
     "data": {
      "text/markdown": [
       "<font size=\"5px\">But by no means is it essential, I think, if you, if it seems to be your mission to include biodiversity plus human activity, I, I'm far apart for me to make a suggestion on this creative proposal, but I just like to keep the commercial out off and let them let people just enjoy the view and if they want to stop and relax, that's a good thing, a bench or two, but leave the commercial because that brings food.</font><br/>"
      ],
      "text/plain": [
       "<IPython.core.display.Markdown object>"
      ]
     },
     "metadata": {},
     "output_type": "display_data"
    },
    {
     "data": {
      "text/markdown": [
       "<font size=\"5px\">The upper deck would serve folks who want to have more of a you know, enjoyable view filled air filled, ride, maybe you're taking your time and the lower deck is more for people that are really their commuters are trying to get from point a to b as quickly as possible.</font><br/>"
      ],
      "text/plain": [
       "<IPython.core.display.Markdown object>"
      ]
     },
     "metadata": {},
     "output_type": "display_data"
    },
    {
     "data": {
      "text/markdown": [
       "<font size=\"5px\">Maybe you said this, but my question is about mopeds and the bicycles that have motors that the delivery people use a lot, but would they be going on the road with the traffic or with the bikers on the bike?</font><br/>"
      ],
      "text/plain": [
       "<IPython.core.display.Markdown object>"
      ]
     },
     "metadata": {},
     "output_type": "display_data"
    },
    {
     "data": {
      "text/markdown": [
       "<font size=\"5px\">We see the Brooklyn bridge as a platform for innovation on this kind of issue, and we do not want to hardwire it right now to serve a very particular understanding of vehicles.</font><br/>"
      ],
      "text/plain": [
       "<IPython.core.display.Markdown object>"
      ]
     },
     "metadata": {},
     "output_type": "display_data"
    },
    {
     "data": {
      "text/markdown": [
       "<font size=\"5px\">That's why we would like to reserve this lane over here for sort of the innovation lane for the time being, for for open electrically powered, hybrids, and We do not really know, but that would mean that no electrically powered principles would be officially allowed on this other lane.</font><br/>"
      ],
      "text/plain": [
       "<IPython.core.display.Markdown object>"
      ]
     },
     "metadata": {},
     "output_type": "display_data"
    },
    {
     "data": {
      "text/markdown": [
       "<font size=\"5px\">You know the nuances yet so that would be one of the important groups to work with, in terms of say, the ramp design, even things that we're looking at in this image and not that walkers are not expedient.</font><br/>"
      ],
      "text/plain": [
       "<IPython.core.display.Markdown object>"
      ]
     },
     "metadata": {},
     "output_type": "display_data"
    },
    {
     "data": {
      "text/markdown": [
       "<font size=\"5px\">Having, then taken all the elevation out and then having to reverse the elevation by climbing up your spiral ramp onto the bridge, I'm sure the gradient would be good, but they will have already extended all the downward energy and then have to reverse it and on the converse side, on the on the Manhattan side, they're, going to come down to well below the level of park, row and city hall.</font><br/>"
      ],
      "text/plain": [
       "<IPython.core.display.Markdown object>"
      ]
     },
     "metadata": {},
     "output_type": "display_data"
    },
    {
     "data": {
      "text/markdown": [
       "<font size=\"5px\">One is a follow- up from John's, which is about whether there'll be other like disincentives for bikers to come onto the pedestrian path, because often some of the bike tours will go wherever the view is frankly, and I think those are some of the most dangerous bikers on the bridge.</font><br/>"
      ],
      "text/plain": [
       "<IPython.core.display.Markdown object>"
      ]
     },
     "metadata": {},
     "output_type": "display_data"
    },
    {
     "data": {
      "text/markdown": [
       "<font size=\"5px\">We have not actually formally created the first sandbox meeting Our ideas are to work with groups in the in the in the NYCHA area around here for the Micro Forest to work with the transportation groups and getting you know, the right stakeholders.</font><br/>"
      ],
      "text/plain": [
       "<IPython.core.display.Markdown object>"
      ]
     },
     "metadata": {},
     "output_type": "display_data"
    },
    {
     "data": {
      "text/markdown": [
       "<font size=\"5px\">Projects, like the falls and discovering Columbus, were quite important to us to think about how New York City has done this in the past water on the go a program that we really loved and worked with dion years, ago.</font><br/>"
      ],
      "text/plain": [
       "<IPython.core.display.Markdown object>"
      ]
     },
     "metadata": {},
     "output_type": "display_data"
    },
    {
     "data": {
      "text/markdown": [
       "<font size=\"5px\">The company can also answer the disruption on current traffic, be it bike, car or pedestrian on the bridge and the length of time.</font><br/>"
      ],
      "text/plain": [
       "<IPython.core.display.Markdown object>"
      ]
     },
     "metadata": {},
     "output_type": "display_data"
    },
    {
     "data": {
      "text/markdown": [
       "<font size=\"5px\">Covid-19 You know like people coming in for cases, because what used to happen, the biggest issue was the morning time, court and court being right next to a shopping, district.</font><br/>"
      ],
      "text/plain": [
       "<IPython.core.display.Markdown object>"
      ]
     },
     "metadata": {},
     "output_type": "display_data"
    },
    {
     "data": {
      "text/markdown": [
       "<font size=\"5px\">This is why we had some issues with the shootings near courts and the Fulton Shopping District, and at the same time you know we, since I remember, when these things were happening.</font><br/>"
      ],
      "text/plain": [
       "<IPython.core.display.Markdown object>"
      ]
     },
     "metadata": {},
     "output_type": "display_data"
    },
    {
     "data": {
      "text/markdown": [
       "<font size=\"5px\">You know at the same time, when I'm mentioning that you know that's, why it's very important that we get the input That's why it's very important that we get the cooperation from the community members and people like yourselves, that if you see something you know, let us know, because we can't be everywhere at any.</font><br/>"
      ],
      "text/plain": [
       "<IPython.core.display.Markdown object>"
      ]
     },
     "metadata": {},
     "output_type": "display_data"
    },
    {
     "data": {
      "text/markdown": [
       "<font size=\"5px\">What we hear and have an open hylo to work together and come up with solutions to you know, serve every single person.</font><br/>"
      ],
      "text/plain": [
       "<IPython.core.display.Markdown object>"
      ]
     },
     "metadata": {},
     "output_type": "display_data"
    },
    {
     "data": {
      "text/markdown": [
       "<font size=\"5px\">That's why you'll only see those two people in the sector- The second question is without getting into you know the debate on it.</font><br/>"
      ],
      "text/plain": [
       "<IPython.core.display.Markdown object>"
      ]
     },
     "metadata": {},
     "output_type": "display_data"
    },
    {
     "data": {
      "text/markdown": [
       "<font size=\"5px\">I'm certain- have affected your deployment and your in your training and your communications and team management I mean it definitely brings a big toll and a challenge, especially when you know it comes to like quality of life issues or our minor issues.</font><br/>"
      ],
      "text/plain": [
       "<IPython.core.display.Markdown object>"
      ]
     },
     "metadata": {},
     "output_type": "display_data"
    },
    {
     "data": {
      "text/markdown": [
       "<font size=\"5px\">And if you ask an individual, you know, most people will say: they've, always had good interactions with people out of the 84th or out of the 88, which also cover us, but at the same time, police in general, not a specific person or a specific precinct have obviously come under attack.</font><br/>"
      ],
      "text/plain": [
       "<IPython.core.display.Markdown object>"
      ]
     },
     "metadata": {},
     "output_type": "display_data"
    },
    {
     "data": {
      "text/markdown": [
       "<font size=\"5px\">You know whether you want to protest, or you want to just hang out and talk to officer, Or you're, a victim of a crime or you have any other issues.</font><br/>"
      ],
      "text/plain": [
       "<IPython.core.display.Markdown object>"
      ]
     },
     "metadata": {},
     "output_type": "display_data"
    },
    {
     "data": {
      "text/markdown": [
       "<font size=\"5px\">Maybe, you could speak to some of your initiatives that you may be working on in that regard, for the the NYPD as well has mandated every single officer supervisor and everybody to go into a crisis intervention training, which is like a three day, which is the same thing.</font><br/>"
      ],
      "text/plain": [
       "<IPython.core.display.Markdown object>"
      ]
     },
     "metadata": {},
     "output_type": "display_data"
    },
    {
     "data": {
      "text/markdown": [
       "<font size=\"5px\">You know we might have to use every single person, that's working for reinforcement from other pieces that will come and give us.</font><br/>"
      ],
      "text/plain": [
       "<IPython.core.display.Markdown object>"
      ]
     },
     "metadata": {},
     "output_type": "display_data"
    },
    {
     "data": {
      "text/markdown": [
       "<font size=\"5px\">And I get there's a lot of tension, especially around Columbus statues, They would not incur the ire of the community, and it just seems like the easiest quickest solution to having to patrol statues that people do not want around, and if this committee and the police department would be supportive of efforts to peacefully remove the statues of Columbus at the very least in front of the kings.</font><br/>"
      ],
      "text/plain": [
       "<IPython.core.display.Markdown object>"
      ]
     },
     "metadata": {},
     "output_type": "display_data"
    },
    {
     "data": {
      "text/markdown": [
       "<font size=\"5px\">Most of them are like private, If, I may, to close out our Brooklyn bridge forest presentation, with emotion on that, maybe caroline or Rob. You could speak to us about what they may be seeking from us.</font><br/>"
      ],
      "text/plain": [
       "<IPython.core.display.Markdown object>"
      ]
     },
     "metadata": {},
     "output_type": "display_data"
    },
    {
     "data": {
      "text/markdown": [
       "<font size=\"5px\">We're not calling for the closing of the Brooklyn bridge, like they've done in some other areas, so I think it's clear that we support.</font><br/>"
      ],
      "text/plain": [
       "<IPython.core.display.Markdown object>"
      ]
     },
     "metadata": {},
     "output_type": "display_data"
    },
    {
     "data": {
      "text/markdown": [
       "<font size=\"5px\">You know The multi- users of the Brooklyn bridge that includes bicyclists and pedestrians and and Clark, So I would make a notion that we support the proposal as presented and leave it at that.</font><br/>"
      ],
      "text/plain": [
       "<IPython.core.display.Markdown object>"
      ]
     },
     "metadata": {},
     "output_type": "display_data"
    },
    {
     "data": {
      "text/markdown": [
       "<font size=\"5px\">That's now vehicular on the Brooklyn bridge, And I think it included taking a lane on the lower level of the Manhattan bridge to be exclusively bikes.</font><br/>"
      ],
      "text/plain": [
       "<IPython.core.display.Markdown object>"
      ]
     },
     "metadata": {},
     "output_type": "display_data"
    },
    {
     "data": {
      "text/markdown": [
       "<font size=\"5px\">It does frankly, As I, understand it, it's to support the Brooklyn bridge forest, including the dedication of what they call, including the dedication of two present vehicular lanes, one in each direction for exclusive use of two- wheeled vehicles, because they talked about motorized and pedaled bikes and the extension of.</font><br/>"
      ],
      "text/plain": [
       "<IPython.core.display.Markdown object>"
      ]
     },
     "metadata": {},
     "output_type": "display_data"
    },
    {
     "data": {
      "text/markdown": [
       "<font size=\"5px\">There's, a bike lane there, , Let's just support his day: zero phase, zero plan, We talk about equity for a minute, because I do not know what the Manhattan CB1 group agreed to, but, given that you know they've spent so long against infill on the Smith houses right, it seems kind of strange that we would allow a developer, potentially the developer of Smith houses, to be a title sponsor in this and add to that.</font><br/>"
      ],
      "text/plain": [
       "<IPython.core.display.Markdown object>"
      ]
     },
     "metadata": {},
     "output_type": "display_data"
    },
    {
     "data": {
      "text/markdown": [
       "<font size=\"5px\">I would like to open it up to other business, which is the the section for the Community Board and committee members to propose other business, and I know John two And then after that will be community forum, where Victoria, if you're still on you, can talk about the statues of Columbus, Okay, so other business, yep.</font><br/>"
      ],
      "text/plain": [
       "<IPython.core.display.Markdown object>"
      ]
     },
     "metadata": {},
     "output_type": "display_data"
    },
    {
     "data": {
      "text/markdown": [
       "<font size=\"5px\">But then it would be a community board or Executive committee vote to support something like that.</font><br/>"
      ],
      "text/plain": [
       "<IPython.core.display.Markdown object>"
      ]
     },
     "metadata": {},
     "output_type": "display_data"
    },
    {
     "data": {
      "text/markdown": [
       "<font size=\"5px\">You know all of these groups work together when they have to or when you FOIL something We really should not be doing things like this without having it on the agenda.</font><br/>"
      ],
      "text/plain": [
       "<IPython.core.display.Markdown object>"
      ]
     },
     "metadata": {},
     "output_type": "display_data"
    },
    {
     "data": {
      "text/markdown": [
       "<font size=\"5px\">So people at least the community knows what we're thinking about, but I would really ask if it's going to anything's going to happen with this.</font><br/>"
      ],
      "text/plain": [
       "<IPython.core.display.Markdown object>"
      ]
     },
     "metadata": {},
     "output_type": "display_data"
    }
   ],
   "source": [
    "full, word_count, title = read_summary(\"pPxUu-qYj6U\",\"summary\")"
   ]
  },
  {
   "cell_type": "code",
   "execution_count": 76,
   "metadata": {},
   "outputs": [
    {
     "data": {
      "text/markdown": [
       "<font size=\"5px\">Hi, you speak and pause. Okay that looks like an antique cabinet behind you vivian and yes, it is. It has a weird panel that does not look appropriate, but otherwise it's nice. It is nice and it happens to totally match the wood of of the dining room you're. Seeing all this crap, we see. Oh, like Wayne's apartment, very nice yeah. We happen to just find it and it houses. All a lot of photographs is what's what are it what's in there in case you're curious behind me is con. Behind me is concrete. Is that what the walls are you can see? The part of the Wall part of the wall is actually a column and which is co highway. Is that the ponte vecchio? No, the Ponte Vecchio, is in Florida florence, and so what's that this is a chateau in France. Oh got it wrong. Oh, I knew it was french. I think that should know so. Wine is fine. Good, hey, Omar, hi, paola hi good morning. Everybody! So are you with us today? Paiola, yes for the duration of the meeting, okay, Hey, Rosie, Rosie's, muted, good Jim. Are you taking virtual classes right now? Yes, what are you doing, introduction to film and media studies? I now just watched citizen kane again, but with more educated eyes, very good movie. Where are you taking those courses Columbia, we can all take free classes from being in our zip code: hey Simeon, Hey, Vivian, hi Simon. How are you wayne good to see you and I see we have Tim Anderson with us? We have a few of the team members from the I guess the Dominican Studies Institute, who will be speaking with us later good evening. Can you guys hear me all right? Yes, one, two, three, four five, so I am expecting Chris. He said he would be here have not heard from Steve, but it's early yet he'll be the late Steve Simon yeah. Okay. So I do not need to take my notes, I'm probably well, I said I'm expecting Chris is not logged in yet so all right. I remain poised. Thank you so much vivian, because I'm I, if I, if I were forced to take notes, then I would have to concentrate on that and I would not pay attention to the meeting and of course that would be a tragedy about the same thing, but it is what it is well you're a week or two younger than I am yeah, maybe in a while manny what I have not seen manny in a while hi Jim. How are you hi? How are you vivian? How are you wayne good? Ah there's Chris hi Chris. So far we have Chris. You got to unmute yourself, oh hey, how's, everyone doing good hanging in there like the rest of us. That's a nice background wayne. Yes, it's from a vacation nearly 13 years ago. If I'm measuring it correctly, I was only 50, then he's bragging. No, it says I was sitting in. You know one of the courtyards of the louvre. You know by you know: iron pace pyramids with the fountains going, and that was that was the first and only time I've been to Paris and I realized you know. I turned 50 a few months before that and I said what took you so long. I mean until I literally said that, because it was like wonderful, it was like what took you so long. All right got ta get a pillow. I think it's too nice for the French. That's my thinking! Oh okay! Well, the story with this particular chateau, which spans the river one side of the river was in Nazi occupied France and the other part was, you know, freer and so folks would you know, want to either get invited to dinner or to parties and kind of basically sneak out the back. So it was the Berlin wall of its time yeah. So we do have a a quorum. I'm here Chris is here. James is here Rosie's here Omar's here Vivian's here, so we do not have Steve. We do not have domingo, but Domingo has not attended a land use meeting in a while. I wonder if he is still on and Juan Guzman is new, but I think he was new as of last month and did not attend that either. So I will have to check with them to see what's up, but we do have a Quorum. I believe Domingo is he's the chair of the Business Committee, but I do not think he's only a part of that committee. If I'm not if I'm mistaken right, but I mean Domingo, was put on land use, I think in January he attended the January meeting. I believe he attended the February meeting and then nothing since okay, so I'll be. I can reach out to him if you want okay and did I just see Dr Hernandez you're muted, so I put you or your topic at the very end of the agenda before all this, because you said you had another meeting that was not going to free you up until after 7 30.. Yes right, I managed yes, it's okay, but I can. I can move you up. We can talk about our budget issues after you, so I can shift you up later. Okay, I am at your disposal whatever you decide. Okay, so I mean let's begin: it's Chris you're, taking minutes right, yes, yeah, so it's 708 pm and I would like to welcome everyone to the October 7th meeting of the land. Use Committee, I'm Wayne Benjamin, I Chair land use for Manhattan Community board 12, and I would like to have my fellow committee members introduce themselves, and I will just do it based upon who I see on my screen. Starting at the upper left is vivian Ducat Jim, I'm Jim Berlin, Chris, Fencero, Omar, Tejada and down at the bottom. I see Rosie hi everyone, my name is Rosie. So thank you. Thank you all. We did not for the committee's benefit. We did not get around to circulating the September minutes for your review and comment. So we'll take care of that. You know we'll catch up on that today and make sure that for the general meeting they have both the September and the October minutes and of course my phone is ringing. Now that I started, we have a couple of items on the agenda. You know I learned after the last lens meeting that the Fort Washington Branch of the New York public library, was added to the national register of historic places. So we're going to have you know, Simeon Van Gaal from the historic District Council, just give us a little backup on that, and actually I got an email within the last hour or so from Natalie, where holy root is also, you know up to be. Actually it is on the national on the state register and it's being forwarded to the National register. The land Use, Committee and Cb12 has always been. You know, quite supportive of historic, designation and I see Natalie has raised her hand. I do not know. Does that mean she wants to be paiola? Could you maybe make Natalie a panelist as well yeah, I'm going to teach y' all okay! Thank you. So you know we can talk about that. A bit we're going to have an update on the discussion of the 857 Riverside project that we discussed last month. That there's been conversations with the borough president's office and, with you know, Councilman Levine's office, on that we are getting an update on. You know the proposed casino heights District- and I probably mispronounced that because I'm cold Dr, Ramona Hernandez of the Cuny's Dominica Institute, Dominican, Studies Institute and her team will be joining us to discuss that everyone, and I happen to be graduates of what the Saint C City college a few years apart and then, for you know the expense and capital budget priorities. This exercise we go through every year so and I think Paiola, if I think, there's Peter Green, who is on the line as a probably an attendee. If you could perhaps we'll switch him over to yeah move up, because when we talk about the 857, he may want to be able to interact directly. So first I'd like to you know, welcome or maybe welcome back because I think htc has been with us before on a few occasions, simeon Vancouver from the historic Districts Council to speak with us about the Fort Washington Branch New, York public library register, with the listing with the register of historic places. Thank you so much queen. Yes, we have been, but it's been a number of years and I apologize, but one of the only good things about this ridiculous sort of situation we find ourselves in is that this way I can actually come to community board meetings and then commute downstairs to my kitchens to make dinner rather than having to get out of a train or something like that at 11 o'clock at night. So the historic for those of you who do not know the historic Districts Council is the citywide advocate for New York's, historic neighborhoods. We have been around for 50 years. We are a not- for-, profit, independent organization that works with over 500 neighborhood- based groups throughout New York City, to enhance, protect and celebrate the physical characters of their historic areas and buildings. We do this through advocacy, community outreach and education. We have worked in your community a bit with vivian and with Wayne as part of the Audubon terrace Historic district expansion, efforts and celebration of that, and also Inwood, of course, was actually our first one of our first classes of the six to celebrate. We have an annual program of working with six neighborhoods or community campaigns that are, we work very closely with them for a year and then continue to work on those issues. In order to highlight them, we do a nice guidebook for it, and Inwood was actually the first one, the first classes of that back in 2011.. A later class of that was actually picking up an internally generated program of the historic Districts Council, which was the celebration of the carnegie libraries of New York. Like I said, Htc has been around for 50 years and starting about 18 years ago, people started getting very nervous about our libraries it at least they started expressing it to me. I've only been with the organization for 22 years, so they may have felt about this longer. Excuse me 23. so, and we said wow, you know I mean the carnegie libraries are one of a class of wonderful architectural historic buildings that sort of exist in their own group, other one other kind of classes similar to that would be the cbj snyder schools and then you get into roman catholic. Then you get into churches and stuff like that, but really the libraries, especially because of their the way they were generated through the carnegie grants, can kind of be looked at as a class unto themselves, and you can compare apples to apples with regard to the original carnegie libraries as I- and I should have this number right on top of my head. Actually, I've got this popped up somewhere. There are 46 existing Carnegie grant libraries in New, York, City yeah. No sorry I knew I was wrong. 67 carnegie grant libraries in New York City, which is considering that Andrew Carnegie gave money for libraries throughout America a remarkable collection. So we start doing these carnegie libraries with the eventual goal of getting them placed on the national register of historic places. The reason we were going for in our status was because libraries use public money and if we can get something on the national register, the whole purpose of the national register is to make certain that public funds, when they're being used to alter historic buildings, are used in the best possible way and in the most sympathetic way being that the libraries by and large the library systems, the three of them by and large, like their buildings, all they would need was sort of gentle guidance to make sure certain that they do the right thing. Well, the best laid plans right sounds like a terrific idea and really easy you're, just trying to say trying to like list 67 buildings on the National Register fast forward. 20 years we've gone through two official consultants. We raised a bit of money, not a lot a couple of thousand dollars for this gone through two official consultants, a six- pack of interns and kind of endless, I'm a lot more gray than I was when I started this whole thing and we finally get down go. Also. We've gone through like four governors at this point because we started like 2003. it's now 2019. Honey. Well was this was last year when we finish it up right, so we finally get what's called a multiple property resource nomination, which was the idea was that we get a kind of armature for the carnegie libraries as a class of buildings on the national register. Then, as people wish, they can put their own branches on it, using the context statement that we have created. So we got this, it's a thing. It's taken such a long time and then the state to start preservation fund turns around to Us data start preservation office for giving, and they are the people up in Albany. Who you know are the keepers to the National Register for New York state, they say well, we need a test case. We say what, like we've done, all this work. You said that this is fine. They said yeah. Well, I mean in the last couple of years the way we're doing multiple property resources has changed a little bit and we really want to see sort of proof of concept. So we're going to request you to do a national registered nomination for a branch library that works in conjunction with this multiple property resource document. Well, the final consultant we're working with feels terribly guilty because he's taken three years to do what should have been a nine month job, so he throws it in. We sort of look on a map and say you know honestly. Upper Manhattan is under is under designated on every level and we thought that anything that we can do any kind of historic property that we could bring to upper Manhattan is a good thing. So he looks through his files and says how about the Fort Washington Branch, it's a beautiful branch. I've got all the information in front of me. I say Chris, his name is Chris. I do not just call him Chris, randomly Chris go for it, he does it pandemic hits. We get delayed another action, so we get delayed another like seven months, but finally, in June, when we had anticipated this was going to happen in September of last year that rolls around we've kind of forgotten about. It goes before the State Board, and that is how the Fort Washington branch ended up on the national register as kind of a byproduct of the broader issue of all of the carnegie libraries- and I do htc- is the sponsor of that listing. Okay and I deeply apologize. No offense was meant towards this or towards this towards the community Board or the community. It just was one of these things of, like, oh, my god, we're finally getting this done. This has been looming over me since I was a young man of 32. So, let's you know kind of move forward. So that's that is the story the hold on. If can I share screen? Oh wow, I can share screen. Okay, let me just get up. You all know the library, but let me pop you open. I think that was clear when it reopened. Sorry, I think I was there when it reopened after renovation, oh cool, all right so sure screen and we're going for. I do not okay, so this is where the library is. I do not think this one has been renovated. Was it renovated the Interior? Yes, I think I think I think it's been brushed up here. Is you know 179Th street right over there? Let me bring this down a little bit for you now the important news, that's the library I used as a kid that people feel so very strongly about libraries. For exactly that reason. Yes, I was a preschooler not allowed to attend school, because New York state has that ridiculous. You have to be five years old to enroll in school, so I spent two years in this library instead waiting to reach that magical threshold like but you're there now are not you yes, you're here now: here's the Interior! These are reasonably recent pictures. Yeah the Interior is basically unchanged, slightly updated, but still has its original configuration, which is very important to the national register. Beautiful. Oh, my god. Here's just a little detail, wow from the children's corner and that's it. You know the interesting thing. One interesting thing about this library is it was it was designed by. I want to get the name Right, Cook and welch, who did a number of libraries, but cook was designed Carnegie's mansion, the Carnegie Mansion on East 91St street. What's now the cooper Hewitt yep, so it was one of the last carnegie libraries it was built in 1914. It was one of the last carnegie libraries in New York City to be built. Maybe the last definitely the last in Manhattan it was the northernmost branch. At the time. The way the carnegie system, the Carnegie grants worked, was the city had to put up the money for acquisition of the land and then the Carnegie Foundation would pay for the actual building of the building. But the library, the library systems chose the land and then City Hall had got veto power in order to make sure that there was not a little political patronage going on and remarkably for the early 20th century in New York in New York City, because most of the libraries were built between 1898 and 1914. There was remarkably little corruption in the in the carnegie library building out it was. It was actually a sort of a model system. This was also reasonably rare in that it did not replace any existing library. A lot of the libraries which came about were sort of there had been libraries in the area before and then that sort of served as the as the basis for their collections. This was not one of those, so that's I mean if anyone's interested, I'm I know Wayne Scott and I'm more than happy to share. Also it's a public document then out the written national register form for the library, and I shared that report with the land. Use Committee, oh fantastic, and I can also share with Wayne. He can pass it along the 42 page history of the whole carnegie system, great yeah. What wayne? When did you sent that to us today? No, I sent it to you a week or more ago. Oh all, right! Let me look for I did not miss it. Simeon Pat Courtney wants me to tell you that the libraries as a whole were six to celebrate and that you should say that I did, but that's so sweet of pat. Yes, they indeed we're one of the six to celebrate. One of our programs search me. If I remember the year, I want to say it was 2013.- is also involved with the national registered listening for Holy Root church, no okay. So we have to find out who's, advancing that I bet you that might be my colleagues at the New York Landmarks, Conservancy, okay. I know we know them as well, so they should not be afraid to speak to Cb12 because we do not fight they regularly go around and they try to get national register listings for particularly churches, so that opens up additional ways of funding for their sacred sites. Program yeah, maybe I'll, just invite them to come and have a getting to know you meeting with land use yeah very beautiful science person knows every religious property in the five boroughs and beyond she's fantastic right. Any further questions comments on this topic. Did we thank him for doing the work to get this on the national register? So I mean, I think, we're thanking you for doing the work to get this on the national Register, and I just want you and everyone else to know that both the land, Use Committee and the board as a whole has been very supportive of historic designation and have actually passed a couple of resolutions to that effect. Fantastic. Well, thank you. So much it's really. We depend on articulate informed advocates like this board. I wish all the I wish all boards were like this Dr Hernandez. Were you raising your hand on this matter? Right? I just I mean it's beautiful I mean the library is deserves all kinds of recognition and acknowledgement and placement it's beautiful and then the stories behind the library do you think that it was going to be very difficult or at all getting it on the national Register symbol. You know, I really did not when we embarked on this. We really thought this was going to be maybe a three- year project, not a 13-year project, and what can I say people would you know some people ended up starting families and that knocked them out for nine months or a year, and then it was. It was it's just one of these things. That's just been lingering around. It was through no fault of through no fault and no onus. It was all positive reasons that it took a long time, but it was, it was frustrating slightly frustrating there typically is a plaque place on a building when it's on the national register has that been placed yet and if not where's it going to be located. I know nothing about that. It would be up to the library entirely if they want to do that. Yeah, I've seen them on the facade of building, maybe near the entrance. It says it's a national register and it gives a blur. You know why it's on the national register yeah. I do not know who at one point the New, York Community Trust ran that project. I do not know if anybody's actively doing that these days. There's lots and lots of properties that are on the national register that do not have that. Okay and typically national register properties, unless they, you know just say, National, Reserve, historic places and like a little seal. It's not like a big explanatory thing. It's up to the library really I mean because again the thing about the national register. As the committee might know, it puts no onus on property owners, except in dealing with governmental police right now. Peter did you have your hand up for this topic just to ask Simeon to please stick around for the 8 57 discussion? That's all I look for. I think Simian is familiar with the 857. Yes yep, just a little Jim. I just wanted to comment that the Holy Root church is a really very beautiful little church and you know they redid a lot of the exterior a while ago. So it is now even more magnificent and of course it has programs, and it's been one of the churches in the neighborhood that has you know, had people take sanctuary there. Vivian. Are you raising your hand? Yes, so Simeon? Now that the test case has gone through, does the rest of the package go through together? You still have to go one by one. What it is this really? It creates an armature so that you can it's much easier to do national. You can get libraries on the national register. They still have to go one by one, but you can just say, as seen in the context of this, of the broader issue, rather in context of the broader document it fulfills this and this and this so it's much simpler to do great. If there is not anything further on this, I want to once again I want Simeon. We can only see your nose down. Oh god, I'd like to see I'd like to see this written up in our local newspaper. Is there a chance, you'd be interest, you would reach out to or the Manhattan times, and let them know that this has happened and see if you can interest them in doing a story about it. If you tell me who to talk to I'm happy to try to do that, yeah Deborah Lee Santos is the name of the editor yeah. Well, maybe Deborah Lee can also reach out to the Community Board for comment fantastic. She is fantastic. Okay, great all right! Thank you, my pleasure. Thank you for inviting me. I will hang around for a little while, but I am also interested in seeing the debate. Okay. Well, yes, a little bit nine yeah, typically land use is finished by 8 30. Although last time you went to like 908 or something like that, so the next item on the agenda is in fact an update on 857 and in addition to Tim Anderson from the borough president's office, we have manuel Bellardo billiard, which how do you pronounce that belly yard okay and are have you also been in the loop on the discussions with Mark's office on this on? Yes, I just spoke to eric about this earlier today: Eric, yes, Eric and Icebook, so Tim I'd, ask Tim Anderson who, as you know from the September meeting, is the planning Rep with the borrower President's office who works with Cb12? I forwarded, I summarized like a half a dozen questions that came out of the September meeting to the borough president and to mark and to Senator. You know Jackson and to everyone else to you know get them. You know involved in this. You know. Tim has responded a couple times and I wanted him to give us an update, and I spoke with you know: Eric Coelho from Mark Levine's office, and we shared some emails back and forth. So we have both the borough president's office and our council and office here to give us an update on you know what they've learned and what the extent so Tim I'll start with you the floor, or rather the screen is yours. Thank you so much so updates on this from our office. I think Wayne, as you know, with the questions that you sent to us central to what happens with 857, really depends on this wide street designation, and it has been a little difficult to get a response out of DOB and Dcp to an extent of what exactly the dimensions of the street are, because I you know, as we've discussed and with the photos that you shared with me earlier this week, you know there's, obviously the change in the topography at that location. There is that green space, and I think you know once we can really get an answer for this on the wide street. It will really kind of, I would say, would limit. You know any potential development and it would obviously that would if the street is not wide, it would definitely, it would definitely come under the sliver law, because I think you also raised. I spoke with ophelia from DOB a little earlier this week, still waiting for her to get back to me on the sliver law question because I you know obviously like it's a matter of the wide street, and you know I know I was recently in touch with Peter and George James. I think we have a meeting that we're trying to you know get in the works to try and figure out what the borough president's office role would be in the discussion on the city map. You know, I think I'll definitely bring this up with gail next week to let her know that you know we may have a role to play a larger role to play in the decision- making process into which map gets used by Dcp, or in this case the Ob and yeah we also signed on to. I do not know. We've also, you know been working with Eric at Cm Levine's office on a letter to the developer. So you know we our office is happy to sign on to that. I think the only other update I have is I you know I promised to let you know. If Gail's had a chance to speak with the DOB commissioner, she has not, and I'm still going to you know, keep pushing to make sure that meeting happens. So we can really you get an answer because I know this is a. You know huge concern for you all manuel anything, just two things, two things to add yeah. I had gotten confirmation from Eric that the Manhattan president's office actually did sign on to our letter to DOB about 8 57, we're waiting on one more elected to sign on, and you guys should have it before the end of the week. So the councilman's office is sending a letter to DOB, yes Sir and the gist of that letter is what, from what I gathered. The contents of the letter were something along the lines to have Mr John Rayne come to come to a meeting with Cb12 our office and the borough president's office to speak about the situation at 857., who's, John he's the man borough director for me, and I think I think it was. I got Tim in touch with Steve Simon, not wearing his land use, Cb12 hat but wearing his park's hat, because what he will be, what dlb is saying in its you know, determination of the street with it's counting, basically from you know, street wall to street wall, so the lower drive, which is actually a two- way street that was actually built before the upper drive based on Matthew Spacey's research, then there's the upper drive, but between the two is, you know, part of a city park, and last month someone pointed out they thought that was part of Riverside park, but state Portland actually is part of Fort Washington Park, but the DOB is comparing it to like the planted malls on Broadway or Park Avenue, which, to my knowledge those malls are part of the street. Although city parks may have responsibility for maintaining them, it's not the same as saying you're going to take the park land and say it's part of the street and measure that so I do not know Tim or Steve did that conversation did they touch basic parts on that at all, yeah Tim sent me an email and I last night I sent him back one suggesting that he contacted our chief of parklands. I do not know whether I do not know what happened. No, I have not had yes, I got your. I have the contact. Thank you so much for Colleen I'll definitely reach I'm going to reach out to her yeah. She should be our expert on this kind of question and if she is not, she would at least have somebody maybe in her shop who can answer the question. But this is you know beyond my comprehension right, but I thought you would be a good person to speak to and you could point them in the right direction and you have never yeah, which is what I did yeah, but yeah, but also Wayne you're yeah. I think you're accurate, that the Broadway malls are actually technically DOT property, which we maintain. They are part of a street. They are being in the middle of between northbound and southbound traffic. So I agree with you that this is not an analogous situation. The parkland between 158 and 165Th Street is officially New, York City Parkland, and it is not between north and Southbound lanes. So it is, I think, it's a it's a distinctly different from the broadway. If what you were told is that this is comparable to Broadway, I think there's clearly an argument that it is not. I believe, that's what the borough president's office was told yeah. Well, I think we have an argument to the contrary. Oh I totally. I totally agree with Steve's analysis. This is not like the Broadway malls at all. These are two separate streets, even if they have the same name but they're. You know and then there's a park between and it's not a mall. It's a you know. Well, the upper drive, I think, is the equivalent of a service road. It's it's not! You know. It's not part of the Riverside drive segment, you know it's can I think it's he in on some maps. I think it's referred to as just a service road. Actually the upper. What is now the upper Riverside drive is the remnant of Lafayette or Lafayette Boulevard, because remember Edward, Morgan place that used to be Rudolfia and that continued up. So when Riverside drive was extended north it took that securities route on what we call the lower drive that upper portion- and you know Matthew Spady, just published a month ago. So the book, the neighborhood that Manhattan forgot or New York City forgot, and we did for historic, Districts Council a sort of a video discussion that I moderated for him and so he's done a lot of research on the area going back to when this was John, Audubon's state and before- and he pointed out to me after the September meeting based on his research. The upper drive was built later, so I mean they were not even built at the same time to be the same room, yeah Peter yeah just point out last weekend, one of my neighbors actually organized a cleanup of the park in with enormous support from the Department of parks. Thank you, Steve, including a woman whose name slips my mind: who's. The assistant commissioner for upper Manhattan she's, the northern Manhattan parks, administrator, Jennifer Hopper exactly and the fella named Malcolm slips my mind. Who's responsible for all the playgrounds and things up there for years been very clear that this is part of the. This is a city park this land and calls years ago to D.O.T to get them to do something about even just cleaning the street. At the bottom, where there's no sidewalk we're met with call parks, it's not ours, but you know, I mean D.O.B seems to think I guess, based on this, that central park is just a grassy median between 8Th, Avenue and 5Th avenue, which just seems kind of ridiculous to me, but yeah. The whole issue of the width is absolutely vital here in terms of 857, and I think what Tim alluded to about the fact that the borough president's office determines the maps is something I'm hoping we're hoping to meet this week. But I guess it's not going to happen, but we'll meet next week to discuss this more precisely, but it's really a Vp's power, apparently to determine which maps DOV can use. I'm not clear why Dod is so enthusiastic about ignoring any community interest in this site, but you know Eob is DOB. Well, let's put it this way. When I was speaking to Tim about this one of the problems and we've discussed this for years. One of the problems with some of the with maps in general is they are, you know, they're flat, it's think of things in two dimension and going back to what Edwin Marshall used to be our contact for city planning. You know the zoning maps, you know look at the sites as if they're flat, when we come up to Washington, Heights and Inwood. We have heights and some of the sites are anything but flat and speaking to Tim. He said he was not that familiar with the area, which is why he sent him a bunch of photographs to show that starting at 158Th Street the upper lower drives. You know, take their paths on different elevations and, as you proceed northward you can see from you know, the lower drive, the height of that retaining Wall. I mean there was a dhl truck parked there, which was good, because you could see the scale of where the street was the upper drive compared to the lower drive and then, when you're on the upper drive, you've got the top of the retaining wall, which people use basically as a bench, but then you're looking into maybe the second or third floor windows of the buildings across the street. So you know the map, if DOB is just looking at it flat might say: oh well, this just looks like it's a median. If you're looking at topography, you would see that it's not flat, but a picture is worth a thousand words, which is why you know I shared those pictures, and you know it's there's a whole staircase there that we can get gail to come and just meet us at the house in a week or two and just see this with their own eyes and make your emotions. I think right, but you know to stand there, see the house talk to the fellow who lives in it now see the exact slope and everything along with others could really. You know help I mean I would leave that to the folks who are coordinating. You know with the Bo President's office. You know to see what her or what her calendar is like. That's what we're working with. If I may just a number of years ago, four years ago there was a situation in carroll gardens in Brooklyn, and this was the area in Carroll gardens where they've got very deeply set back row houses, but the streets had been designated as wide streets, even though they were two- lane standard streets, because the row houses were so deeply set back, that DOB regarded them as wide and mayor De Blasio when he was still council, member De Blasio. As I recall so this was some time ago and because this is like the only thing he ever did to help out development concerns in Carroll gardens. He somehow, through his councilmanic powers, just managed to get DOB to accept that these are now streets, so that you know, maybe he interceded through the Brooklyn bear President's office as a councilman. But I mean that's that you know if you've got gail, who is generally sympathetic to the communities and your councilman on your side. That might be a way of doing it right, but it sounds like what he convinced them to do is to look at where the property line begins, as opposed to where the building line is exactly. I mean so manny, that's something that perhaps Mark can look into, but I mean that's not even the case here, because it's pretty well built up. What we need together to look at is you know from the face of the building to where the street ends and the street ends at you know. You know where the park begins, but that park with no sidewalk either pointed out. I mean if it were a street the medians have they do not have silence, they have curves and things like that. You know. There's no curve, I mean it's dirt, it comes downhill and it ends in dirt, so it may be between the borough president's office and the and the councilman's office. I can look at that. I would also point out that Al Taylor, although he is a state elected official, said that you know he is supportive and whatever we need him to do. He'll do Peter. So I want just to give you all a very brief update on the house. Overall, I think you guys have covered the land use and zoning issue pretty clearly, and there is one last big Zoning Zola issue, which is what exactly the 35 foot 40 foot width is referring to in the sliver act, and there are some people who say it refers to the street wall and others that it refers to any horizontal line on the lot and then others who say no. It's meant to be the actual width of the lock, because the lot has a Christmas three Foot street wall, but it's only 30 front feet wide or less than that actually, and it's 35 feet wide at a diagonal on the rear. So that may also be something that really needs to be resolved as well, because when I spoke with Ryan cody after the last meeting he said yeah somebody could take a lot. That's ten feet deep with a hundred foot street wall and theoretically put up a sliver tower if they could find the steel that would make it possible so that that's also out there. But hopefully we won't have to go down that road, because we have done some historic research and we've discovered some really interesting links to abolitionists a very prominent uptown abolitionist and possibly to the underground railroad rail road. We're trying to nail down a little more about that, and that might make a very interesting case to the Landmarks. Commission Simeon's been giving us some tips on how to make a stronger case, and so we're working on that right now and then, as sort of an aside, which has nothing to do with land user zoning. But the very sad story of the guy who owned the house and had to sell it and that he got caught up in the countrywide mortgage. Easy money stuff in the early 2000s borrowed way too much money that he was never able to pay back. And then this developer came to him in one of these scams that they warned you about and said. Oh I'll buy it at auction for a pittance, and then you will lease it back for me until I'm paid off and then you'll keep the house and the bank will swallow all the money you lost. Of course, the guy had no intention of selling it back to Al Wright. The man who lives there and Al has been squatting there since he sold the house at the end of last year, but he's been told that by October 15th that's eight days from now he has to be out or the developer is going to come in with sledgehammers. So we are working right now with Wendy olivo from Al Taylor's office and an attorney to try to make sure that nothing illegal happens because evictions are stopped right now we want to make sure that we can buy ourselves some time to see where we go with it. So I just want to share that update with everybody. I'd say thanks for that. Lpc and I've pointed this out on a couple of occasions- has not really been a receptive partner at least uptown to either expanding the audubon park district or designating adjacent contiguous districts, and you know the upper and lower drives back in 2008, or so when Autobahn Park was being discussed. We suggested a much broader area to include the upper and lower drives and when it was not included the community board, you know they supported the designation of Audubon park as it's currently defined with about you know a dozen or so buildings, but we also said in the same resolution that we urge LPC to move forward expeditiously with additional designation. They have not done that and you know, while the product, the possible connection to the underground railroad, is interesting. I think that Matthew Spade has pointed out that, when we're looking at the 158Th Street row houses there used to be a sugar refinery. I believe this is connected at the end of the street, which was possibly also connected to the underground railroad and were not there simeon some warehouses in Brooklyn that were connected, or I think it was documented that they're connected to the underground, railroad and ltc just did not seem to be interested, but it was another time no. It was pretty raised in the last couple years. You know, I think those were I do not know if those were warehouses is not that were not those the buildings on Delfield street yeah. Those were row. Houses on Duffield street, which actually landmarks has just out of you know very surprising reversal, has actually had a hearing was a very good hearing and will probably move to be designating the last remaining of those houses. Okay, so they changed their mind right. Yes, okay, they were chair. Sarah Carroll was incredibly clear that it was a priority of the mayor yeah, so, and thank you Wayne for bringing up that sugar refinery. So at the bottom of 158Th, Street was a sugar refinery that belonged to a man named Dennis Harris, and he was an immigrant from England or Scotland who had owned a sugar refinery in downtown Manhattan that he had used to help escape slaves, hide and get on a STEAM ship that he ran up to Poughkeepsie, but they would then get on to move on to Canada when that exploded and burned down, which seems to have happened, a lot to sugar refineries. He built a new one at 158Th Street and there's we're trying to get more documentation, but there is fun that was used to shelter runaway slaves. Another interesting piece of it is that the same Dennis Harris built a church at the corner of 155Th in Amsterdam. I think where the that housing yeah it's not public housing with some sort of elder housing. No, that's 157! This is the one at 155Th next to the old Welsh Church Dunwell Plaza yeah, which is a CBO housing thing. Anyway. He had built a schismatic methodist church there, the Wesleyan group, because he'd been kicked out of his lower Manhattan methodist church. For being an abolitionist, and so there was a very strong tie to abolitionism and activism, and we want to be absolutely sure before we go completely public with the term underground railroad. But that's what was going on here and there's very little notice of that in uptown Manhattan at all, and so it would be wonderful to preserve a real physical, touchstone and kind of ties in with what Wayne let off with it. At last month's meeting about you, know, iniquities, inequities and ignoring history of the african- american population in New, York yeah. But what was this building part of the part of the sugar refinery? It was built as the we're trying to find out exactly whether it was the home or an additional house built by the fellow who built the refinery, so we're digging a little deeper, but it was certainly owned by him. What year was this? The refinery? What year we're taking the 1840s 1850s, I think 1851 is when we think the house was built and the refinery a year or two earlier, but I mean for 857 Riverside drive. I read somewhere, that was an audubon guest house. Well, that's what we thought it was at first and apparently that was not quite right. It was adjacent to the audubon estate. It was not the main audubon house, one of the main audubon houses was on the site of. What's now river arts, no, not there. It was referred to as at one of their guest houses right one of the main houses right. We thought that it was, but it looks like that was a misnomer, but it was part of the audubon park. It's a whole sort of already in the 1850s real estate development, history of people seizing on famous names to boost the values of what they're, building on smack and selling yeah actually in his book, and we might want to ask Matthew had or has a map of you know the houses that were you know, built on the Ottawa state, and I believe this area was literally like across the street from yeah, and it has some houses there, but you're right. The people who live there refer to it as Audubon park as well. Yeah like you, do not live in Brooklyn heights. You live across the street, but you say: well: it's really broken ice yeah, exactly south slope. I can't fit Peter. I'm I'm really troubled by what you said earlier about the the guy who bought the house is threatening to go in there on the 15th with a sledgehammer and if the guy who's living there now does he does. He have a lawyer. Have they put this guy on notice that if he tries to go in there and illegally a victim he's committing a criminal act? Has somebody told him that that's tomorrow, Wendy Oliver and I are going to meet with Al Wright, the guy who lives in the house and try to get some of these facts down on paper and then and then the next thing would be to have an attorney. Call this guy and point out to him that you know anything he wants to do actually has to go through the court or you know, he'll end up back in jail right! No! Well he's got to have a lawyer. We got to get him a lawyer. This is crazy. Yes, so the problem is. I tried housing, legal aid that a friend of mine runs that, but he said it's really just for renters, and this is the person who sold the house right yeah, so he presumably sold it according to the record for nearly a million dollars. He can't get no, he so it was a short sale. So he had to pay the bank pretty much everything that he got for it. He sold it for 9.75, but as near as I can make out that did not go into his pocket because he had borrowed 1.1 million and possibly a lot more against it right, but I mean the point: is he obviously should be represented by legal counsel and he never has been, and that's the I mean I ran into situations like this years ago, when I worked at Harlem cbc, where there were folks and they were like going back and forth, and then we said, okay, you've been doing this for eight years who's, your attorney. We never reached out to one because this person that person and it's like it does not make sense. I mean yes, there are attorneys who charge a thousand dollars an hour. I would say he probably does not need one of those, but he should get an attorney yeah absolutely and that's what we're working on trying to get an attorney that the issue is for foreclosures and evictions. There are different processes and yes, a lot of the legal aid is not available for homeowners, okay, but maybe the assembly, maybe the assembly member's office can yeah has somebody who would do this for them as a favor. Well, that's what we're trying to figure out who we can get? Well, I mean you have the Assemblymen's Rep on the line, so you can offline, maybe the chat function. You know I mean the councilman Manuel yeah right yeah. Maybe Mark knows someone who could help out in this situation. So my point is even on this: you can go into a private chat, email I'll drop, my number in the Q&A or we can. Why do not? We try to chat tomorrow morning sure that would be great yeah. I have your email, so I can get you that way too. All right, I just want to say one more time if this guy actually said he was going to go into that building with a sledgehammer to evict the current occupant. Somebody has got to put him on notice. That is a criminal act. I'm sure he knows it's a criminal act. Well somebody's got to make sure that that he knows he can not get away with doing something like that right. The problem is separating fact from fiction was exactly right to be to be blunt about it. Okay, he made a major screw- up and I do not think he really wants to acknowledge all of it. I'm being you know more than more candid than I should be, but that's kind of at the root of it. It's like sit down with the guy see what he's got write down the story. A second time see how that compares to the first time and then see where we can go with that and compare it to the official record. Okay, whether he had whether or not he has a lawyer, the assembly member or the council member somebody, can contact the owner and tell him if he actually made that threat. That he's good, that he should be on notice that if he tries to do anything like that, he could be put in jail yeah. Well, I would say- and we had, we had a conversation at last month's general meeting, where you know when an issue is raised, that we do not have you know firsthand knowledge of the first thing we really need to do is find out what was actually said so the owner. You know, if he's you know, speaking to one of one of his elected officials or his counsel, you know can say this is what the person told me on what date everyone on you know this zoom meeting. You know we're hearing about it, but we can't say what was actually said right. So that's what I want. That's so wendy's going to come with me tomorrow, we're going to sit down with the guy and see what what's real and how it compare what he has. What he says and how it compares to what records are available and, in any event, you're absolutely right step. One is to get an attorney. Who will fire off a letter to this petrakowski who bought the place and framed his partner and say you know I want to make you aware. Evictions are halted until December. 31St evictions of seniors can't be happen during the winter, and you know any attempt to raise a hammer to anything in this house before then. Will you know land you in legal trouble, and I mean, but beyond that I mean you can't do the demolition legally without the DOB permit, as well, so right but yeah, but you can do interior damage to the house. Well, yeah, but we, I do not know what the interior house is like, but I mean the point is yeah. All of the facts that are related to the situation need to be laid out that you can't do that. That's what we're going to do first and then and then we're going to take it from there. So do we have any further updates questions or comments on 857? If not, I think you know you Peter for joining us again. Thank you, Tim for joining us again and manny for joining us, at least via zoom, for the first time. You know, please stick around the next item on the agenda. I'm going to reverse the order. So what is number five on the agenda is going to number four. Some of the committee members may remember that I think sometime last year we started speaking with Laurie from Council congressman rather about two initiatives in Inwood, one of which was a Inwood apartment house district and there's been some discussion of that district. Going back to when I first joined the the community board, as well as a non- contiguous, historic district, that is, you know, related to sort of the history and culture of the dominican immigrants in the area, and we were, I see, Laura Tobias has joined us. We were curious about the non- contiguous. I mean that can be done, but we wanted some examples where that was done and I reached out to just to get an update from lori on what's happening there. She introduced me to Dr Hernandez, who is you know, with the with Cuny's Dominican Studies Institute and they're working on the research with this and will give us an update, but I think first you have some of your team members with us and I'd love if you would introduce yourself and introduce them as well. So the floor is yours, Dr Hernandez! Ah, thank you. It's quite a an honor to to speak to you about this issue and thank you Wayne for inviting me and I graduated from Lehman, not right. That's the less prestigious right! No and back in my day, which is a few years ago, each of the colleges had the major they were known for, and so city was known for engineering Queens was known, for you know, sort of liberal arts Lehman, I think, was tied to teaching and hunter was social work. So it's not the least fit less prestigious. It's not a different major right, except that city college is the Harvard right. Well, it's the first, it's the right, it's the harbor of the poor in and then you come from the architect architecture school, which is you know it's in a in a league with son yeah. When I was there, it was not the Spitzer school, but you know that's a recent development, gracias Lodi for keeping up this project and giving us a hand as well. I want to see whether I still had other members of my team with me Professor Ortiz. I know he was teaching and I think he was going to be until 7 30. a Paul. Are you with us? Okay, Waldemar? Are you with us Matthew, Jensen, hello, Dr, Anderson, here good evening? Everyone. I see well Demar, yes, good evening, everyone great Matthew! Are you on? Yes, I'm here? Oh thank you. Thank you thank you. Without then I will not be able to do much. The first thing is, we are looking for advice. We are looking for council. We are looking for better ways to improve what we are doing and what we are doing is to try to create a historic memory of the dominican people in a place where they have recited persistently and consistently for over a hundred years. The you know outside was listening to simwad and the others, and you know thinking about the national register the what we. What we found is that the majority of the things that are registered there happen to be a physical structure happen to be things like Simua was talking about either a group of buildings because of their historical legacy, or perhaps a particular property that have to do with also a historical legacy. In the case of what we are trying to do, it's very different here we are trying to register, keep the memory of a people, so we are appealing to what we call cultural historical legacy and have the a historic district declare a name after the dominican people. This is in terms of the largest scope. Here we are in the process of putting the application together and there is a team of people working with me all of them amateur, including the professors. You know we had architects, we we're not engineers, you know I am in sociologists and then I have librarian and young researchers doing the doing this thing, and what I wanted to do is to you know, because you might ask I mean why are they trying to do this, and I, if I can, share the screen briefly, I'm going to give you a it's sort of like show to you the significance of the dominican people in the U.S, and here briefly, I'm going to. Let me see, I'm not good at it. I think that the host needed to allow me to do this yeah, I think paula. Can you allow Dr Hernandez to share her screen? Okay, let's see you're all set, let's see if I can do that. Okay, at least I have it on my own. Okay, any way to share this, you would have to press the share screen button on the bottom of your screen. Actually I did that yeah. This is, I did that and it does not show up in here. Okay, let me see if I go back to you guys and I'm able to okay. I see you here: paola, okay, let's see come on okay, cheer screen here, okay, here and here, okay, I think I got it right. Oh again, they go. He left come on come on come on come on now I can see it. Okay, great! I wanted to see it. This is I'm trying to see this. Oh okay! Let me see okay, if I can do this all right, so this is just a you know, sort of like a graphic image of the dominican people in the United States, and we go from 1613, which is the first recorded immigrant actually in in New York City, and what is today Manhattan and New York City, and this is Juan Rodriguez and of course you know the story about him and from there from one dominican that we know we go to Ellis Island and the reason why we stopped in Arizona it's because this is a a part away of a national history. The memory of really silent, the millions of people who came out to the United States in blackport in the when we think of Ellis Island, we usually think of European coming to the Us through that part. It happens that a little over five dominicans also came to Wellies Island, and this is one of the things that we are documenting in the United St in the Dominican Studies Institute, some of those people who came to Ellis Island, some of those dominicans I'm going to leave in Washington Heights, and we will show you that and of course, the big picture, the one that you know- and this is related to the what we call the massive migration of dominicans that began in the midst of the 1960s. So this is sort of like, in a very brief view, what we have from one person. We are now a little over two point million dominicans, because this data goes to 2018. I want to remind you that the this provides say, I think, a little a picture or more clear picture of that growth of the dominican people. It's pretty scary. It's aggressive in terms of for their demographic role. Of course, this is the United States, and this is also a slide that tells you the number of dominicans when they came in when they came in how long they have been living here. And if you look at this table, what you're going to see is that a little over 50 percent of the dominican people in general in general have been living here since 1990 right since 1990 over 20 years. No question actually 30 years now and the rest are the newest dominicans over 50 of them, and if you see I'm trying to do this and also look at your faces as well, this give you an idea of of how the dominican people are growing and how do the grow have to do? Demographic growth have to do because of very high birth rate. This is New York City, and this is the comparison of two dates: 2005 and 2018 in and, as you can see, these are immigrant groups. This is what is registered in the in this particular pie. Here they are very they happen to have. You know lots of children right, and this is one of the reasons why the population is growing, and this graph show you the dominican people in terms of those who are immigrants and those who are now born in the United states. The reason why we do this is because in many instances you hear people telling dominicans that they are immigrants who are thinking to go back and that they do not have any root here. All the rules are very- and this tells you that the dominican population born and raised in this country, it's growing very fast. Now it's almost half representing almost half of the dominican people, the other way, the other way. The other way- and these tells you the different places. Different states where dominicans are located. New York of Course is the is the place where the majority of the dominican people reside in the second and largest place will be New. Jersey then followed by Florida, and then you have the other Arizona. Do not pay attention to Arizona had to do that because dominicans recently elected a person to office in Arizona and the population is small, but they still managed to do that and they wanted the Dominican Studies Institute to do numbers on them, and then I have it here. But this is the 90 of the dominican. People will be concentrated in this particular 88 states and, of course, a New York is the large component of that so you're also showing large increases, and if you go back to the prior slide- oh yes in Rhode, Island and Pennsylvania. Oh yes, oh yes, particularly Pennsylvania! It's now growing aggressively. They are growing everywhere and I'm going to show you. I think I have a map here, they're growing everywhere. This is a map of the United States. I do not know if you have the the whole view of it, because I have part of my map yeah, but I guess so. They are everywhere in the in the United States, but in some places more concentrated on another, and what is interesting that they are growing aggressively in places like Pennsylvania right as compared to other places are floating. They are growing, but the grow is less aggressive, but, based on your research is, it are the patterns of growth, folks who are moving directly to Pennsylvania and Rhode Island, or these folks who were in New York. I know it's too expensive and then they move. I love your question. I love your question when we compare the all of the states where Dominican are moving right internally. This is one of the newest research that we have done. We tend to lose. New York tend to lose dominicans to places like Florida, for instance, and definitely Pennsylvania. We lose people to to them. But what is interesting is that the the what we see is that they are settled in New York and after leaving some time in New York. There's a portion of them that will move to other places, but the one that leaves are replaced by two other groups, and that is right. That is pretty high, actually the highest one in the city, and then new migrants are coming from the Dominican Republic, so that keeps the population the dominican population growing in a positive way, rather than in a negative way. If we can follow, you know growing negatively, so those two factors right: the high birth rate and then the new migrants that are coming in so the people that we lose and I that we lose- and I love your question- are people that had been living in New York for a long time or young professional. So those are the two people that we see and they floated as one in Pennsylvania it's another one and we suspect that it have to do with it high rent and that kind of thing. So, okay, sorry about that, I think we went through this one. I have not had much time to review this. I'm sorry! I've been in presentation to meetings and meetings and meetings. The I thought that I had another graph another table between the proportion of the dominican people in New York and then in the city or New York. When you, when you think of New York, the majority of the people will be concentrated in New York City, and by that I mean 90, of the dominican people who lived in New York, they will leave or they live in New York City, and that in New, York City, then the distribution of courses, all of the borrowers, will be leased a number of dominicans living in staten island, and we measured it by decades. You know that we do this, for, for everybody who need numbers from the dominican people, so Staten Island is the is. The border has the least number of dominican people today as compared to before the Bronx as the border that contain the largest number in terms of absolute number of dominican people in the case of Manhattan. This is where dominicans have the largest dominican population for decades and decades and decades. The Bronx is a new phenomenon. It is. It is now, and one of the reasons why you have so many dominicans there is because when you look at birth, where are children being born? That's one enclave, where you have lots of women giving birth as compared to other borrow of dominican ancestry, right a giving birth. So and when you look at Manhattan, the the you know, Manhattan, as you know very well, is divided by neighborhoods the a place where the dominican people have been living for a long time in large number, it's Washington Heights, and here you have some of the numbers. I think this gives you a the percentage which I think is sometimes easier as compared to other groups. The mini can have a very strong presence in this neighborhood for a long time, yeah. Well, the these two recent charts I mean they've, raised an interesting question of race, ethnicity and nationality. That can be the subject of you know and probably should be the subject of a completely different discussion. I mean we had some not very productive discussions at our last general meeting. You know on this, and I noticed that Dr Moreno Vega and the Caribbean Cultural center. They have a number of programs. I think, starting yesterday on, you know, grace Smith and ethnicity, and they had an exhibit a couple of years ago. That looked that, and so I there's so much when you look at people and how they self- identify and how they either come together or divide themselves on. You know: race, ethnicity and nationality, and you know some of the thinking just does not make a hell of a lot of sense, but it's worth a an in- depth thoughtful discussion. Well I like to pull the Dominican. You know Studies Institute, into the room with the curbing Cultural center and a few others, and we're going to have that conversation. How about that would be fantastic. I know Dr Moreno Vega for a long time I mean she's, and I come and someone that from many of us have learned from I mean yeah she's, an institution you know pushing that center. You know struggling to keep it open and receive the funding that we need to keep it open and keep going. It's yes. I agree, I agree. So could I ask a question about the previous slide? Yes, it could you go to the previous one yeah. I I find this hello. No, you had it a moment ago. Yeah this one. You know I never could understand how we in the 2010 census how we could have lost so many people in Washington, Heights and inward, and this is very instructive, because it shows that the dominican population remained pretty consistent and you know increased slightly between 2000 and 2010.. What you're, showing here is that there was a drop off of maybe 25 000, other hispanics or latinos of any race. Do you have any idea? What what ethnic group, or what type of hispanics or latinos that could have been, that we could have lost that many people from that group from 10 to 18. I win no from 2000 to 210. That shows a drop off of 25 000 in that in that group, just the one just below Dominic in any race, other hispanic or latino any race. What yeah? That is a big drop, but you know I you know. I could not believe that we could have lost that much population. What kind of what what ethnic group or what group could that have been? Well, I knowing the latino population in Washington Height, and you know this better than I do a group of people that were that was there and that had been losing people systematically throughout the years or humans. You know they had a very you know, but you have cubans above that, and you have you, have puerto ricans above that so who it's not a it's, not a helpful category, because it's my minecraft left just a second. Yes, a second steve. I think that is an aggregate of those of those other ones. The Mexican Cuban Puerto Rican. No, we have them separately. No, we have not separate those other Hispanics, latino or any other race will be your argentinians, your other, your peruvians right, your equatorians, and I'm glad you are asking the question the. If I remember my data correctly, the colombian and equatorial population had been going growing and declining. So that's one of the population that I that I remember as long with the cuban, but I did not remember- I have separated them, yes, equatorian and Colombians, and it would have started to interject, but it probably would have been very fascinating also because if that population decreased in Washington Heights, you probably are going to see an increase out in the auto borough, specifically in the Bronx and in Queens, where that population is actually stretched out from this neighborhood too. So it would not surprise me if you saw the demographics in the Bronx and Queens and you'd actually see an inverse effect there with this time period, seeing an increase in the population in those areas as well. Yeah, especially, I always thought that that, following the dominicans, the next largest hispanic or latino group would have been puerto ricans, and you know we we've lost a lot of the Cubans over the years, but I'm surprised that we could have that many Colombians or Ecuador. I mean what that suggests to me is we have a more diverse population than we acknowledge? Yes and when you have a category that lumps so many people together, I mean you know: 44 000 people, I mean that's more than you know, not hispanic whites. It would be great to take that 44, 000 and break it down and those people are how do they self- identify and then, where did they go when they left Washington Heights but yeah? That's yet another study right yeah. We. If we have time I can, I can ask my people in the Dominican Studies Institute to disaggregate the other hispanic for you. It's it's very interesting in fun, sometimes to to look at those groups and and yeah, because they there they those groups, are there and there's a reason when the population decrease. I agree the other. I think slice that I wanted to show before I call on my people is to, and this is again to dissipate the understanding now that the narrative that dominicans are not here to just stay. If you look at this one, this have to do with naturalization, and the only thing that this graph tells you is that the longer they leave here, the higher the their propensity to become naturalized citizens of the Us. So here you have a group that is, that is very large. That is growing. Other has a presence for a long time here in that, at the same time, you know when the opportunity arrives, set roots, very strong roots in the in this in the country and the city as well as in the neighborhood. What I wanted to do is to show you what we think it's, the area that we would like to have designated as a dominican historical district. I'm going to stop sharing my my screen so that I can ask Matthew to come in Matthew, it's an it's on the line, and so that you have an idea of what it is that we are doing, and then you can guide us and advise us, and I tell you the rationale of for selecting specifically that I'm stopping sharing so Matthew. I will show you a lovely map that he has done in the designated area that we are proposing hello everyone good evening, hi Matthew hi, give me a second natalie. Do you have your hand up for this natalie? No, I you know, I think I raised it just when you were talking about the Caribbean Cultural Center programs, just to remind people that, since we can't attend tonight's, you can see them on Facebook live once they're, they put up the recorded version yeah and they have another one on the 13th, but I'm not mistaken right this summer we miss what they did in in Lincoln Center. I mean yes but yeah, unfortunately, but okay, so Matthew, do you need to share your screen? Yes, I'll need to be able to so paulo. Can you allow Matthew Santana to share his screen, you're all set perfect. Thank you all right. What I'll be showing here is the visualization of this proposed dominican, historic district you'll, see the black border denoting so to speak for parameters. We decided where exactly we cut offset border. All the icons on the inside represent various places. We're highlighting mind you there's still many more to be added. This is a work in progress, especially icons, but it's to give an idea of what exactly we're trying to go for here. Let me let me help you here: okay, so the geographic boundaries of the proposed historic district were adjusted to reflect the following, and that is the a dominican presence in this particular area that spans, of course, over 50 years, which is one of the requirements of this application to be eligible. But in their case, as we will show you in in a minute, it's definitely over 50 years over 100 years. So we wanted to encapsulate. You know that longevity, and also we wanted to create an area that you're you were going to find dominican symbols. Let's say a higher number of dominican symbols per square mile as compared to the other areas where they are. So what I'm saying is that the dominican people will be distributed along Washington Heights from 155 to all the way to 30 right, I'm from north to south, including Inwood, but per square mile. This is the area where you have more dominican symbols than in any other area, and so we decided arbitrarily then to create those butters that I'm sure you are surprised and that we have sliced Washington heights in this way. But it was following that rationale everywhere that you go in this blacks, which I think it's about. 40 blacks. I tell you the borders exactly the proposed Dominican historic district will a stretch extends from south to north from 155Th Street to diamond Street, basically 200 in this case and from east to West from the Harlem River, a dry parkway to Riverside drive it's stopping at 169Th, Street and crossing over Broadway. That's vita that what we are proposing. This was designed by Matthew. Who is a student? So do not you go and think that he's a whole architect. That's right he's a he's, still a student, so in what we are doing with this map, not only describing and writing and also documenting with photographs which want to show in a minute, but also creating this virtual interactive map for the future, so that, whenever we finish with this project, you will have if we are approved. Of course, it will be called by a dominican history industry, but if, hopefully, we will, with the help of you guys and and everybody else, if we, if we are not, this map will remain and people would go, be able to click and then find some of these items that we are describing. Mario, could you please show the cluster of buildings Ellis Island building among the things that we have put in here? It's a cluster of buildings that goes back to the 1900 in with dominicans residents that lived in those places. Some of these people, you know, are notable people. I do not know Jensen if we will be able to share the malagon sister that clip if you can prepare that in 30 seconds. As we continue to talk, some people dominicano, who live in Washington Heights will be at the level of the Madagan Sister right who appear in the Ed Sullivan Show in 1959., okay, I think a little bit earlier than that right, but some other will be merchants and some of them will be teachers and some other will be nurses, and some of them will be regular people in our case for the Ellis Island people, we simply just closed all of them together right and we show you now the the buildings of where they live. Can we can we do that in order for us to do that, we will need to start sharing right and then Jensen will have to show the photographs right yeah going to the map. I'm sorry, I did not wanted you to start sharing your map Matthew. Could you cheer them up matty, please! So in this corridor, oh you're, going to find schools, you got ta, find parks, you're going to find history. Businesses owned by dominican people or you're, going to find businesses that have dominican name you going to have places like the United Palace. Of course, it's not a dominican place. What we are signing signaling and the junior palace is when dominicans began, to have a presence in that place that it's. You know. It was very long time so you're going to have things of that nature. Things are very, there are dominicans owned by dominicans and things that are not owned by dominican, but own Bio, but the dominican people have a very close relationship with that historic place and, as you know, the United Palace. I think I do not know what the United the United Palace has become a landmark already. It is okay, yeah, that's another thing that we had done very tall in writing and you got it. I have to apologize for my memory and not as I used to when I was young. Now it's everything it's particularly with a computer. So all of these I come that you see represent different things, and perhaps you know you have a chance. Just look at the legend we have found political institutions establishing Washington Heights, and by that we mean it's, not the democratic party, it's not the Republican Party, but it's a it's an institution. It's a place that was created specifically to do politics where you will be interested on this. That was created specifically to do politics against you, and it's right here located in Washington. The institution is no longer there, but it was there and had that history in registering the mentality of the people, both here as well as in the in the Dominican Republic. So what I wanted to show module is there anything else that you like to pinpoint on this map the beauty of this map, this the platform? What we are using? It's a platform that was created by city college, so they will be very happy when they see that we are using something that the college created and then everything else inside it's it's our creation! Anything you wanted to pinpoint Matthew on this map that you're, very proud of, and something just to clarify at least one. The software we're using is actually arcgis, but ccny has a provisional business to be able to use it. Then we can take advantage of it. Okay, thank you for also could I could I ask: do you include in this a a there's, a parking garage on the south side of 174th street between I believe it's between saint nicholas and audubon avenues, and it was a meeting place in the early 80s, where the local dominican leaders would gather and where they, I think, first began talking about creating dominican organizations and getting involved in dominican politics. I think it was the place where alianza Dominicana was first con. You know well conceived of is that one of the simone we have Allianz, but definitely not that history that you are talking about, because I mean this is and I'm glad you know that who is a young historian, it's in it's in the call as well, not that history definitely allianza part of the history of Allianza Dominicana. You know, but not the particular details that you're giving us that the garage, for instance and 180 you know it was on 174Th street. It was 100. No, we do not have that it was owned by a man named well, I do not pepe Cuesta and his son, Eddie Questa is still active in the in the dominican community. To me that to me, that's a to me, that's a major point of historic interest for the dominican community. Definitely, and what occurred to me is to cheer Matthew is to share this map, with a request that I know him. I mean the head of Dominicans USA, a good friend of the Dominican Studies Institute, but I did not know that story yeah, please absolutely let him tell you about the significance of his father's garage. Oh my god! Oh god, because you see these are the stories that you know that that tell the other story of a place right, not necessarily what you find in books, but what people still holding so Matthew. We need to share this with Eddie questa at this moment Kevin. This is. This is really good. Anything muddy that you like to highlight each location. It's clickable, you get a small description and at least for most of them an image showing what the what's it called. What the place actually is, I mind you again still working progress. I've literally even to the point of just before this meeting still been editing a lot of the info about it. I'm pretty happy with what we got so far and we're still adding more locations by the day. Could you go back to the icon when you clicked on it, you had a picture of the United Palace, but you had yeah. Is it 165Th and Broadway? Can you look at it because, though the place might be right there right here? Yes, that's not the other one ballroom! No, but he had it a moment right, but it says audubon ballroom, someone, but if you scroll down yeah sorry about that, would you be able to share this with us? Can we have a chance to look it over? Definitely, we beg you for your input on. This is a work in progress and remember. The teen is composed by young researchers and people that are still students. So please we. We would like very much for your input on this thing. Anything else matthew that you like to share nothing else. On this moment. I think I've covered pretty much everything okay. So let me ask you another question, because Steve Simon, you know had you know, used to be the chief of staff for councilman michaels for more than 20 years representing this area, so he probably has lots of stories to tell but Maria Luna, who is you know a board member in the former board chair. He also has a lot of you know stories about the places that were important and have you spoken with her? No and it's a woman that we respect dearly. You know she's considered the dean of dominican politics in the on the Us, but it's a great idea, Maria Luna as well Waldemar. Thank you definitely because she would have stories that are not that you can not find in books all of the stuff that you have here. It's book stuff right, nothing, nothing like that! She is somebody who comes to the Dominican Studies Institute events. Frequently I mean when we were able to do so, but thank you for that. For that advice, Maria and Eneri yeah. Definitely Jensen. Would you like to we're going to show you a little bit of the no? I do not think we we're going to do that. We have identified, I think, over 1 700 structures within this parameters that we have delineated and all of the structures are being described in about two sentences: one and a half sentence or two sentences. Okay, so it's a very lengthy document, each particular structure, whether it is whether it's a garage, whether it is whether it's a park or whether it's a residential building or whether it's a business- and this is a following, of course, the documentation put out by city planning. So in addition to this, so it's also that other part of the application that requires the description of all of the buildings, all the structures. Let me take it back all the structures within the parameters. We are doing that as well. We are also creating photographs of all of the structures to accompany this map and if you can stop sharing Matthew, so that can help they can hopefully- and I just want to point out we're running a little tight on time, so any critical points that you want to make please make sure you get them in okay. Basically, the all the stuff that we are doing is documenting this we photographs and that might they can. Are you able to share that Jensen or not good evening? Can I get permission to share myself yeah? I think if you could let Jensen ortiz share his screen yeah one second, so it's a very large go ahead document, because it requires this level of detail on all the structures that are contained within the parameters, and so that's where we are at now Dr Nandis, which set of photographs. Would you like to showcase? I think the Ellis Island building would be fantastic if you had them, we have distinguished you, know the when the buildings were constructed all of them and have also made that part of the application as well. This is, I do not know who lives in there, but I know we do not have time to share their story, but I tell you, but I think, as Steve said, if you're able to share this with us, we would love to take a look at it and review it in detail and get back to you with probably lots of questions, comments and suggestions. Okay, that this is well taken. We will give you stories, such as the you know: Maurice Pa Paniwowski, who came in 1911 from the Dominican Republic and then the person who in 565 west 162Nd. I do not think that that's the building and then you know his daughter, married somebody, and we have little stories like that of people who lived in the area Dominigano and then have other members of their family, so showcasing the root of a in the history of people in the neighborhood and claiming that neighborhood as part of who we are in part of the contribution of the dominican people in the U.S and, of course, New York, New, York, City and just to get to the logistics of it. So is this something you have to file with with shibo I mean who takes care of a non-, contiguous, historic district. I, and in terms of the process, we are very, we are very young. We have it. We have done lots of research in terms of the national register who's there. What you need to do and for we were surprised that what we wanted to do, which is declare a place based upon history and and cultural legacy, that we do not have many of those in the country as a whole, but there are a few. Oh yes, there are a few and I think we list them in our application, but very few, because even in the case or african- american neighborhoods that we have found, you know when you go there's a set of properties yeah. They are identifying with African- Americans right, and this is not the case. We are not claiming property in right in itself, so it makes it a little bit difficult for us at least because we're not expert on this, but the. I believe that what we needed to do have to there's an office that we need to submit the application and we are getting in contact with them as well right, it's. You know when we first discussed this concept of a non-, contiguous, historic district. You know we were all curious on how that worked, and there were a few examples. I do not think any of them were here in New York state, but they do exist, but it strikes me that you know there's a there's, a path to a destination, but along that path there are a number of things that you can do with the information, and I see if you develop this into some kind of a you know, presentation, teaching tool. I could see our youth and education committee being very interested in it and having it shared in schools. I could see you know, parks and cultural affairs being interested in as an exhibit that you know is looking at it from the cultural Affairs perspective. So there are a number of things you know you can do with this. We have the uptown art stroll every year and, if maybe you know, you know at city college, one of the theaters or a gallery had this on a large screen or had a series of discussions about this. So there's a number of things you could do with the information along the way to getting designation. Okay, yes, it would be. I mean for us, the more people learn about the history of of dominicans in this place and the better and the at least the possibility of people forgetting- and you know the goal here- is that we do not rely only on ourselves to remember who we are, but also relied on, others to remind us of that history as well. So the more possibilities of sharing this, whether it's the school system with this festivals, that we have in the community, whether it's the white, the internet, because we have a project that is called dominican landmarks and this register. Things of this nature are worldwide and we have to tell you that it's a very popular project. People do click on these things and they they learn that there is a a park named after the dominican person in Belgium or in Germany. So people like to see pictures and people like to see small history as compared to you know lengthy books. I think that you know your suggestion. It's not! Yes, it's it's going to help us and it's going to benefit the project at the end. At the end of the day, which is you know, preserving this legacy and sharing this legacy, I think this has been wonderful and I would say that you should plan to come back to us in a few months with an update we'd, be you know very interested in that lori. I want to thank you once again for making the introduction. Thank you thank you for those tips. We will follow up on great. Thank you. Thank you. So with that I'd like to move to the next item on our agenda now that it's 8 55, but we're not going to rush it per se for land use and the capital and expense budget. I circulated two things I circulated to the committee. So, within the last few days, the expense and capital items that we proposed last year that each of which were ranked within the top five by the board for both capital and expense. So that's great- I mean land use typically has very few items you have, you know usually one of each and last year it was a carryover. We modified some of the language, because you know the city got back to us and they were not clear what we were asking or you know they thought it was partially done. So we clarified it and resubmitted it, and I think those two items are still relevant and we probably want to you know, submit them again as sort of not continuing support, because it's not clear that they've received support, but you know submit them as items for consideration once again. The expense item that we had called for the dedicated additional planning staff to work with Cb12 and local residents to formulate and implement a neighborhood- based, contextual plan. I would change that a bit, particularly given some of the things we're talking about. I would add that we want them to work with us to update the 2007, neighborhood planning and land use study that we undertook with city college by the way. In addition to then update that, and have that be the basis for formula formulating and implementing you know a plan because, as we've learned from the discussion of 857 and other things, there are things that we've talked about things that were in the plan that are still relevant today, that city planning or landmarks have not acted on, and so it makes sense to take a planning study. That's now more than a decade old and to refresh it and for us to be able to do that with the assistance of some. You know, professional planning staff. So I think that's an item that we want to massage a bit but keep and then the capital item. We were asking for the city to allocate capital funds to support a planning and development initiative in washingtonwood, whereby any vacant city- owned, lots or buildings were packaged in an RFP and then put out, for you know, requests for development to do scattered, site internal, affordable housing. We had that before and they said well, it was not a capital request, so we added specifically well. Obviously we want you to allocate capital grants to it in order to facilitate that, I would say that you know that is still a relevant item from the land use and planning perspective. I do not think they've done anything to identify. You know. Vacant city-, owned land and buildings that are sitting follow, and I think we've been talking about this for years. Since Scott Stringer was born that you know the city can map the land and in fact he did then they need to do something with it to address the affordable housing crisis. I would say that capital item we also want to keep. I would any input from you know the board members on those two and there is there any other expense or capital items from the land use perspective that we should propose. I can just say I think the capital item is pretty wordy. I do not. I do not think we need to include this clause. You have after city- owned lots and buildings, or lots and buildings purchased or otherwise acquired by the city. Well, I think someone needs name Steve, Simon added that last year. No, I would not. It makes no sense, so I would just. I was just delete that language between the two commas, but I mean in terms of so conceptually we're saying these two we want to keep. We might want to massage the text, which is why I sent it to everyone to review, and we still have time to do that because I do not think our meeting is not until another couple weeks from now, so we can clean it up, but please get any comments well in advance of that it is there anything else. You know Vivian Chris, Omar Rosie. You know Jim items that we should add or which do we say that we want to keep these two clean them up a bit and propose them. I can't hear you because you're all muted, I think these are okay yeah. I would move that we adopt these two as our committee's budget requests. I'm sorry two seconds I agree. I did all committee members in favor raise your hand, so I could see them. I can't see Chris, I can't see Omar yeah, I'm raising it with the blue virtual hand, so we've got one two three, four five, six seven, so we're unanimous there's no pose no abstaining. Okay, thank you and I would see that you know. Members of the public who wish to vote can also vote, but I would also say that other board members present. If you would like to vote on it, you can as well. So I will start with other board members if you care to vote on the adoption of these two for land use. Let me know- and I think we had at least one other board member. Although she may be gone now so then I will look at. I saw for participants attendees okay, so this is a little difficult. So I'll just go with the committee vote that we have. Is there any old business? Is there any new business? I know we had lori, Tobias and Marielle. Is there anything that you wanted to either you want to share with the committee? While we have you, I was just listening here today. Sorry, I was just like listening to what you all were saying and listening to the presentations that was okay, I just since you were here. I said I appreciate that because not everyone does that, and sometimes we have something to say and then people stop the call. So thank you, you're welcome and laurie. Yes hi. I just want to say that it was an inspired thought on the part of congressman espaiot to begin this intensive work with the Dominican Studies Institute. In order to frankly hand over and the project in its detail, the granularities, you can see it's evolving and they will benefit from more help from the committee and from the whole Community board, and the idea is really ultimately to brand this part of the heights, as you know, as little dominican as the little Dominican Republic of New York and that's you know the end game. A Dr, Hernandez and her team have been put in touch directly through me with Shippo and they will be following up with the application. Things are complicated because of Covid-19 in terms of the ship of staff walking the district, but with time. Hopefully, all of this will fall into place. Okay, I mean Rosie and Omar. I see you have your hands raised. Is it for this? If we're voting? Oh, I was raising my hand for voting okay, so you can lower it any anything else under new business. If not I'll, accept a motion to adjourn it's 905. motion to Adjourn seconded third. Thank you all take care bye. Thank you. Bye, all bye, good night, you.</font><br/>"
      ],
      "text/plain": [
       "<IPython.core.display.Markdown object>"
      ]
     },
     "metadata": {},
     "output_type": "display_data"
    }
   ],
   "source": [
    "full, word_count, title = read_summary(\"i7qICW4AU9k\",\"fullTranscript\")"
   ]
  },
  {
   "cell_type": "code",
   "execution_count": 129,
   "metadata": {},
   "outputs": [],
   "source": [
    "test_str = \"What is starting to make parents unhappy is seeing the Brooklyn tech model, which is their two full days from 8 30, to like 2 45 in schools like one week and period class and leave their house at 10 of noon.\""
   ]
  },
  {
   "cell_type": "code",
   "execution_count": 141,
   "metadata": {},
   "outputs": [
    {
     "data": {
      "text/plain": [
       "'What is starting to make parents unhappy is seeing the Brooklyn tech model, which is their two full days from 8 30, to like 2:45 in schools like one week and period class and leave their house at 10 of noon.'"
      ]
     },
     "execution_count": 141,
     "metadata": {},
     "output_type": "execute_result"
    }
   ],
   "source": [
    "fix_time(test_str)"
   ]
  },
  {
   "cell_type": "code",
   "execution_count": null,
   "metadata": {},
   "outputs": [],
   "source": [
    "What is starting to make parents unhappy is seeing the Brooklyn tech model which is their two full days from 8 30 to like 2 45 in schools like one week and period class and leave their house at 10 of noon"
   ]
  },
  {
   "cell_type": "code",
   "execution_count": 140,
   "metadata": {},
   "outputs": [],
   "source": [
    "def fix_time(input_string):\n",
    "    import re\n",
    "    \n",
    "    # regexp pattern to match on (12 30)\n",
    "    ptrn = \"\\s(\\d{1,2})\\s(\\d{1,2})\\s\"\n",
    "    output = re.sub(fr'{ptrn}', fr' \\1:\\2 ', input_string)\n",
    "    \n",
    "    return output"
   ]
  },
  {
   "cell_type": "code",
   "execution_count": 159,
   "metadata": {},
   "outputs": [],
   "source": [
    "test = \"So in any event, I care about this, a lot, and I look forward to speaking with the team and remaining on the transportation committee on cb7 to try to address it and really prioritize it in a way that we need to get.\""
   ]
  },
  {
   "cell_type": "code",
   "execution_count": null,
   "metadata": {},
   "outputs": [],
   "source": [
    "[covid_normalized if word[:2] is cb else word for word in test]"
   ]
  },
  {
   "cell_type": "code",
   "execution_count": 155,
   "metadata": {},
   "outputs": [
    {
     "data": {
      "text/plain": [
       "'Yay yeah Abc Playground at 18. I know, okay, you do not want those sidewalks replaced'"
      ]
     },
     "execution_count": 155,
     "metadata": {},
     "output_type": "execute_result"
    }
   ],
   "source": [
    "test.replace('..', '.')"
   ]
  },
  {
   "cell_type": "code",
   "execution_count": 179,
   "metadata": {
    "scrolled": true
   },
   "outputs": [
    {
     "data": {
      "text/markdown": [
       "<font size=\"5px\">I do not know if those are board members or I'm, some of our general public, but just to start off we're going to go ahead And I serve as assistant secretary of the board and vice chair of land use, I'm, not on this particular committee, but I am health on health and Echo Death Committee nice to join the meet in tonight.</font><br/>"
      ],
      "text/plain": [
       "<IPython.core.display.Markdown object>"
      ]
     },
     "metadata": {},
     "output_type": "display_data"
    },
    {
     "data": {
      "text/markdown": [
       "<font size=\"5px\">I'm, Eugenia, Tang, I'm project manager for free mobility in Vot, so I'll be presenting to you about the commercial cargo Bicycle pilot program and how we can better improve the operations.</font><br/>"
      ],
      "text/plain": [
       "<IPython.core.display.Markdown object>"
      ]
     },
     "metadata": {},
     "output_type": "display_data"
    },
    {
     "data": {
      "text/markdown": [
       "<font size=\"5px\">So, as I mentioned, FDBA, is the sponsor of of an open street program under the auspices of New, York City and the Department of Transportation.</font><br/>"
      ],
      "text/plain": [
       "<IPython.core.display.Markdown object>"
      ]
     },
     "metadata": {},
     "output_type": "display_data"
    },
    {
     "data": {
      "text/markdown": [
       "<font size=\"5px\">Apparently, the open, dining program will also be extended year, round, so the difference being open dining is where restaurants are permitted to have seats on the sidewalk by their restaurant, leaving an eight- foot passageway for pedestrians and also they're allowed to have sort of permanent structures built in the parking lane in front of their restaurant.</font><br/>"
      ],
      "text/plain": [
       "<IPython.core.display.Markdown object>"
      ]
     },
     "metadata": {},
     "output_type": "display_data"
    },
    {
     "data": {
      "text/markdown": [
       "<font size=\"5px\">You know Fdba's program, which was the open streets program which allowed restaurants to expand even further into the street, with non- permanent seating on Friday evenings and weekends.</font><br/>"
      ],
      "text/plain": [
       "<IPython.core.display.Markdown object>"
      ]
     },
     "metadata": {},
     "output_type": "display_data"
    },
    {
     "data": {
      "text/markdown": [
       "<font size=\"5px\">Are you dealing with the issue of social distancing, specifically around this, because I know that on 116Th Street, especially with Harlem tavern, there does seem to be a little bit of collection in terms of people gathering, at least even at the time that I went fairly early on sun.</font><br/>"
      ],
      "text/plain": [
       "<IPython.core.display.Markdown object>"
      ]
     },
     "metadata": {},
     "output_type": "display_data"
    },
    {
     "data": {
      "text/markdown": [
       "<font size=\"5px\">We would not be allowed to do anything with anything other than restaurants because of the social distancing issue and again that was a few months ago, but the idea was that they did not want to turn it into a big sort of street fair, but we had hoped to do that, and I've heard a little bit that maybe those rel those restrictions will be relaxed going forward.</font><br/>"
      ],
      "text/plain": [
       "<IPython.core.display.Markdown object>"
      ]
     },
     "metadata": {},
     "output_type": "display_data"
    },
    {
     "data": {
      "text/markdown": [
       "<font size=\"5px\">We tell them that they're not supposed to park and for my observation it has not created a problem, but I have wondered if it's creating any issues- You, know tables and people in the street, and I.</font><br/>"
      ],
      "text/plain": [
       "<IPython.core.display.Markdown object>"
      ]
     },
     "metadata": {},
     "output_type": "display_data"
    },
    {
     "data": {
      "text/markdown": [
       "<font size=\"5px\">I've heard reported from some residential security cameras where they're seeing you know the spot where a restaurant would traditionally put their trash is now where their guests are seating, And, so they're putting it into other people's locations, and it's not always on days of commercial trash pickup, but they're.</font><br/>"
      ],
      "text/plain": [
       "<IPython.core.display.Markdown object>"
      ]
     },
     "metadata": {},
     "output_type": "display_data"
    },
    {
     "data": {
      "text/markdown": [
       "<font size=\"5px\">Yes, I just wanted to ask in going forward and as this situation endures, what do you think you could do to improve community It has been an issue Karen I, apologize.</font><br/>"
      ],
      "text/plain": [
       "<IPython.core.display.Markdown object>"
      ]
     },
     "metadata": {},
     "output_type": "display_data"
    },
    {
     "data": {
      "text/markdown": [
       "<font size=\"5px\">We had people walking through talking to all the businesses, and you know, obviously it's hard to talk to all the residents, but we did put posters in the various buildings.</font><br/>"
      ],
      "text/plain": [
       "<IPython.core.display.Markdown object>"
      ]
     },
     "metadata": {},
     "output_type": "display_data"
    },
    {
     "data": {
      "text/markdown": [
       "<font size=\"5px\">Let the community board know what we can do to try to engage more people, not just fragmenting Douglas, World War but Harlem as a whole, so that people will know what's going.</font><br/>"
      ],
      "text/plain": [
       "<IPython.core.display.Markdown object>"
      ]
     },
     "metadata": {},
     "output_type": "display_data"
    },
    {
     "data": {
      "text/markdown": [
       "<font size=\"5px\">The motorbikes, the you know, non- commercial motorbike, people, hey, I'm, jumping real quick, so we were having community stakeholder meetings with the elected official offices.</font><br/>"
      ],
      "text/plain": [
       "<IPython.core.display.Markdown object>"
      ]
     },
     "metadata": {},
     "output_type": "display_data"
    },
    {
     "data": {
      "text/markdown": [
       "<font size=\"5px\">People felt that, because they were, you, know more foot, traffic and open restaurants open streets, whereas in effect that maybe department of sanitation would consider putting more baskets due to more foot traffic.</font><br/>"
      ],
      "text/plain": [
       "<IPython.core.display.Markdown object>"
      ]
     },
     "metadata": {},
     "output_type": "display_data"
    },
    {
     "data": {
      "text/markdown": [
       "<font size=\"5px\">Imagine community board 10 puts in specific requests for sanitation, not only along Federal Douglas Boulevard, but 125Th Street Corridor as well.</font><br/>"
      ],
      "text/plain": [
       "<IPython.core.display.Markdown object>"
      ]
     },
     "metadata": {},
     "output_type": "display_data"
    },
    {
     "data": {
      "text/markdown": [
       "<font size=\"5px\">It's been an issue, The question that I have is, I heard you say that at a certain point, sometime, I think you said October 31st, that your alliance was going to not kind of go through the extended period of time.</font><br/>"
      ],
      "text/plain": [
       "<IPython.core.display.Markdown object>"
      ]
     },
     "metadata": {},
     "output_type": "display_data"
    },
    {
     "data": {
      "text/markdown": [
       "<font size=\"5px\">That's been allotted, one of my questions about the whole process, not so much in the town, the area down where the corridor is closed for the streets, but a lot of the restaurants that have opened up they're, not always in business right.</font><br/>"
      ],
      "text/plain": [
       "<IPython.core.display.Markdown object>"
      ]
     },
     "metadata": {},
     "output_type": "display_data"
    },
    {
     "data": {
      "text/markdown": [
       "<font size=\"5px\">So open, dining, permitted restaurants to go into the you know, sidewalk and parking lane and again that has nothing to do with open streets, nothing to do with FDBA.</font><br/>"
      ],
      "text/plain": [
       "<IPython.core.display.Markdown object>"
      ]
     },
     "metadata": {},
     "output_type": "display_data"
    },
    {
     "data": {
      "text/markdown": [
       "<font size=\"5px\">We have no authority, I, feel like they're all benefiting and all part of the fact that it's a you know, pedestrian, mall or open street.</font><br/>"
      ],
      "text/plain": [
       "<IPython.core.display.Markdown object>"
      ]
     },
     "metadata": {},
     "output_type": "display_data"
    },
    {
     "data": {
      "text/markdown": [
       "<font size=\"5px\">You know through the open street corridor, which is not permitted.</font><br/>"
      ],
      "text/plain": [
       "<IPython.core.display.Markdown object>"
      ]
     },
     "metadata": {},
     "output_type": "display_data"
    },
    {
     "data": {
      "text/markdown": [
       "<font size=\"5px\">We do have a commercial bike unit that can help us with you, know education and reaching out to certain businesses that utilize , You know it's really difficult to kind of identify if they are located on the corridor.</font><br/>"
      ],
      "text/plain": [
       "<IPython.core.display.Markdown object>"
      ]
     },
     "metadata": {},
     "output_type": "display_data"
    },
    {
     "data": {
      "text/markdown": [
       "<font size=\"5px\">So, some of the complaints were, you know they wanted lacks enforcement on the parking, That's more of an NYPD issue than it is a D.O.T. So I'll address that at issue with the 28th precept absolutely and then chatting lyle did reach out to me before he was out of office.</font><br/>"
      ],
      "text/plain": [
       "<IPython.core.display.Markdown object>"
      ]
     },
     "metadata": {},
     "output_type": "display_data"
    },
    {
     "data": {
      "text/markdown": [
       "<font size=\"5px\">But we're thankful to be here with the transportation, historic preservation and landmarks committee to present on a dot's commercial cargo bike pilot and we're also looking to discuss a potential site location by the whole foods market on 124Th Street.</font><br/>"
      ],
      "text/plain": [
       "<IPython.core.display.Markdown object>"
      ]
     },
     "metadata": {},
     "output_type": "display_data"
    },
    {
     "data": {
      "text/markdown": [
       "<font size=\"5px\">I'm, a project manager for the freight mobility unit here at DOT here to present to you about our commercial cargo, Bicycle Pilot program and Eugenia.</font><br/>"
      ],
      "text/plain": [
       "<IPython.core.display.Markdown object>"
      ]
     },
     "metadata": {},
     "output_type": "display_data"
    },
    {
     "data": {
      "text/markdown": [
       "<font size=\"5px\">Just, like this location, whole foods on West 125Th Street, is working to make the switch from using trucks, fans and walkers to using cargo bikes for their local deliveries as a pilot participant, they can load unload and stage your deliveries at the curb, but having a dedicated space with the cargo bike rails can help improve safety and efficiency of their operations.</font><br/>"
      ],
      "text/plain": [
       "<IPython.core.display.Markdown object>"
      ]
     },
     "metadata": {},
     "output_type": "display_data"
    },
    {
     "data": {
      "text/markdown": [
       "<font size=\"5px\">In DOT, but we work very closely with NYPD dot's parking, division, commercial Bicycles unit and safety education's team to help run this pilot as smoothly as possible.</font><br/>"
      ],
      "text/plain": [
       "<IPython.core.display.Markdown object>"
      ]
     },
     "metadata": {},
     "output_type": "display_data"
    },
    {
     "data": {
      "text/markdown": [
       "<font size=\"5px\">Participants of the pilot can stop to load unload and stage your goods at the curb wherever commercial vehicles can, which is how they're currently operating right, now, but often times, you'll, find that these spa, these spaces are all parked up, and so installing cargo bike rails can help provide a dedicated space to improve and expedite their operations.</font><br/>"
      ],
      "text/plain": [
       "<IPython.core.display.Markdown object>"
      ]
     },
     "metadata": {},
     "output_type": "display_data"
    },
    {
     "data": {
      "text/markdown": [
       "<font size=\"5px\">If cargo bikes are found left on the street on the sidewalk for a period of time, without engaging in delivery.</font><br/>"
      ],
      "text/plain": [
       "<IPython.core.display.Markdown object>"
      ]
     },
     "metadata": {},
     "output_type": "display_data"
    },
    {
     "data": {
      "text/markdown": [
       "<font size=\"5px\">This is this can help alleviate issues such as bike parking on street signs, fences and trees to keep the sidewalk clear.</font><br/>"
      ],
      "text/plain": [
       "<IPython.core.display.Markdown object>"
      ]
     },
     "metadata": {},
     "output_type": "display_data"
    },
    {
     "data": {
      "text/markdown": [
       "<font size=\"5px\">We know how many parking spaces this would take up or another question I had If I'm just a regular bike.</font><br/>"
      ],
      "text/plain": [
       "<IPython.core.display.Markdown object>"
      ]
     },
     "metadata": {},
     "output_type": "display_data"
    },
    {
     "data": {
      "text/markdown": [
       "<font size=\"5px\">It has the dual purpose of both serving the outgoing cargo bike loading operation and also providing extra bike parking to the community.</font><br/>"
      ],
      "text/plain": [
       "<IPython.core.display.Markdown object>"
      ]
     },
     "metadata": {},
     "output_type": "display_data"
    },
    {
     "data": {
      "text/markdown": [
       "<font size=\"5px\">That specific corner does have a fire hydrant, which should be not blocked at any time so for DOT to say that we're going to put a bike thing where bikes can park creates even a bigger problem.</font><br/>"
      ],
      "text/plain": [
       "<IPython.core.display.Markdown object>"
      ]
     },
     "metadata": {},
     "output_type": "display_data"
    },
    {
     "data": {
      "text/markdown": [
       "<font size=\"5px\">Have you reached out to the residents in that block to the businesses in that block in regards to replacing, or is it just coming to the Community Board like?</font><br/>"
      ],
      "text/plain": [
       "<IPython.core.display.Markdown object>"
      ]
     },
     "metadata": {},
     "output_type": "display_data"
    },
    {
     "data": {
      "text/markdown": [
       "<font size=\"5px\">I think the people on that block could have things to say and we want to hear what they have to say.</font><br/>"
      ],
      "text/plain": [
       "<IPython.core.display.Markdown object>"
      ]
     },
     "metadata": {},
     "output_type": "display_data"
    },
    {
     "data": {
      "text/markdown": [
       "<font size=\"5px\">So one of the things at least just in the discussion and discussing this in my own head when you're speaking to the community on 124Th Street, their biggest issue, as the board members know right now is really the fact that there are a lot of people loitering literally on that corner of 124Th Street, but on 124Th, as well as Malcolm, X, Boulevard, and I.</font><br/>"
      ],
      "text/plain": [
       "<IPython.core.display.Markdown object>"
      ]
     },
     "metadata": {},
     "output_type": "display_data"
    },
    {
     "data": {
      "text/markdown": [
       "<font size=\"5px\">I know that this was a program that was piloted on below 60th street That says this is a viable initiative or something that we should consider in other neighborhoods, because right, now, I do not think we have the statistics to show the cost benefits.</font><br/>"
      ],
      "text/plain": [
       "<IPython.core.display.Markdown object>"
      ]
     },
     "metadata": {},
     "output_type": "display_data"
    },
    {
     "data": {
      "text/markdown": [
       "<font size=\"5px\">Like you said, a lot of the activity so far has been focused south of 60th street, but we do not see a reason why a community like Harlem should not also be able to get their groceries by cargo.</font><br/>"
      ],
      "text/plain": [
       "<IPython.core.display.Markdown object>"
      ]
     },
     "metadata": {},
     "output_type": "display_data"
    },
    {
     "data": {
      "text/markdown": [
       "<font size=\"5px\">That's going to be one of the major pushbacks that a business came into our neighborhood and now they're, taking the parking for cargo bikes so that they can make deliveries.</font><br/>"
      ],
      "text/plain": [
       "<IPython.core.display.Markdown object>"
      ]
     },
     "metadata": {},
     "output_type": "display_data"
    },
    {
     "data": {
      "text/markdown": [
       "<font size=\"5px\">So I, do not know where you have planned to put the bike racks on this block, but it's very busy on this corridor.</font><br/>"
      ],
      "text/plain": [
       "<IPython.core.display.Markdown object>"
      ]
     },
     "metadata": {},
     "output_type": "display_data"
    },
    {
     "data": {
      "text/markdown": [
       "<font size=\"5px\">We could switch places of those five parking spaces with you know where the truck loading zone is currently or we could place them.</font><br/>"
      ],
      "text/plain": [
       "<IPython.core.display.Markdown object>"
      ]
     },
     "metadata": {},
     "output_type": "display_data"
    },
    {
     "data": {
      "text/markdown": [
       "<font size=\"5px\">Thank, you so much shatik for bringing up the actual vis visuals, because I think it's important and I am currently very concerned as when you speak to all of the local organizations and block associations, as it relates to this particular area.</font><br/>"
      ],
      "text/plain": [
       "<IPython.core.display.Markdown object>"
      ]
     },
     "metadata": {},
     "output_type": "display_data"
    },
    {
     "data": {
      "text/markdown": [
       "<font size=\"5px\">So those four cars basically are the footprint of the of the corral before you before you reach that curb cut, which is the loading dock, and Is it that you would think about putting those five parking spots, because that is a huge issue, huge issue, right, so It's great that we have the street view brought up here.</font><br/>"
      ],
      "text/plain": [
       "<IPython.core.display.Markdown object>"
      ]
     },
     "metadata": {},
     "output_type": "display_data"
    },
    {
     "data": {
      "text/markdown": [
       "<font size=\"5px\">You know what we've seen with parking is because the vendors take so much of the parking, a lot of folks that want to do business there on 125Th. So, then they're driving around they're circling around 124Th 123rd going into the residential areas to park, which means our residents can't park for folks that want to do commercial business.</font><br/>"
      ],
      "text/plain": [
       "<IPython.core.display.Markdown object>"
      ]
     },
     "metadata": {},
     "output_type": "display_data"
    },
    {
     "data": {
      "text/markdown": [
       "<font size=\"5px\">I know we're going to wrap this conversation up, because we do have another quick presentation on historic districts, but I wanted to ask what so what are the next steps?</font><br/>"
      ],
      "text/plain": [
       "<IPython.core.display.Markdown object>"
      ]
     },
     "metadata": {},
     "output_type": "display_data"
    },
    {
     "data": {
      "text/markdown": [
       "<font size=\"5px\">We get some feedback, so we can give it to you and you, and vice versa, because I do not want another situation where all the parking spaces disappear and then people are upset We want to be able to get this out to as many people Just the businesses on the block that, like I said, a lot of the people attending those programs are arriving.</font><br/>"
      ],
      "text/plain": [
       "<IPython.core.display.Markdown object>"
      ]
     },
     "metadata": {},
     "output_type": "display_data"
    },
    {
     "data": {
      "text/markdown": [
       "<font size=\"5px\">10 years ago after the 125Th Street rezoning, there was an effort and concerned by community members by the board to look at landmarking to preserve the historic and cultural aspects of central Harlem proper.</font><br/>"
      ],
      "text/plain": [
       "<IPython.core.display.Markdown object>"
      ]
     },
     "metadata": {},
     "output_type": "display_data"
    },
    {
     "data": {
      "text/markdown": [
       "<font size=\"5px\">You know nearly 100 years later that this area will now become a city landmark historic district again named after private first class George Brooks.</font><br/>"
      ],
      "text/plain": [
       "<IPython.core.display.Markdown object>"
      ]
     },
     "metadata": {},
     "output_type": "display_data"
    },
    {
     "data": {
      "text/markdown": [
       "<font size=\"5px\">I know that we have, as a board, voted on the historic district plan that we have.</font><br/>"
      ],
      "text/plain": [
       "<IPython.core.display.Markdown object>"
      ]
     },
     "metadata": {},
     "output_type": "display_data"
    },
    {
     "data": {
      "text/markdown": [
       "<font size=\"5px\">Members, but we're asking the board members to let other people in our communities know that this district needs.</font><br/>"
      ],
      "text/plain": [
       "<IPython.core.display.Markdown object>"
      ]
     },
     "metadata": {},
     "output_type": "display_data"
    }
   ],
   "source": [
    "full, word_count, title = read_summary(\"qDls8zoMWCs\",\"summary\")"
   ]
  },
  {
   "cell_type": "code",
   "execution_count": 174,
   "metadata": {},
   "outputs": [
    {
     "data": {
      "text/plain": [
       "{'school': 132,\n",
       " 'students': 66,\n",
       " 'kids': 46,\n",
       " 'schools': 44,\n",
       " 'children': 43,\n",
       " 'teachers': 38,\n",
       " 'day': 27,\n",
       " 'guys': 26,\n",
       " 'building': 26,\n",
       " 'education': 22}"
      ]
     },
     "execution_count": 174,
     "metadata": {},
     "output_type": "execute_result"
    }
   ],
   "source": [
    "word_count"
   ]
  },
  {
   "cell_type": "code",
   "execution_count": 55,
   "metadata": {},
   "outputs": [
    {
     "data": {
      "text/markdown": [
       "<font size=\"5px\">We're asking all of the precincts to come through on a regular basis to try and establish better relations between the Community board and the NYPD.</font><br/>"
      ],
      "text/plain": [
       "<IPython.core.display.Markdown object>"
      ]
     },
     "metadata": {},
     "output_type": "display_data"
    },
    {
     "data": {
      "text/markdown": [
       "<font size=\"5px\">So many people walking around with guns- You, know like a crime, stopper sort of thing.</font><br/>"
      ],
      "text/plain": [
       "<IPython.core.display.Markdown object>"
      ]
     },
     "metadata": {},
     "output_type": "display_data"
    },
    {
     "data": {
      "text/markdown": [
       "<font size=\"5px\">You know maybe some sort of crime stopper announcement should be made to the communities, because there's too many people out there firing weapons, yes, Sir!</font><br/>"
      ],
      "text/plain": [
       "<IPython.core.display.Markdown object>"
      ]
     },
     "metadata": {},
     "output_type": "display_data"
    },
    {
     "data": {
      "text/markdown": [
       "<font size=\"5px\">I do not know the statistics as far as shots fired calls in the 10th precinct, but I'm sure Whether, it's the overseeing borough or downtown comstat, or just a zoom call with the executives at one police plaza, a shots- fired call is treated like an actual shooting, like someone's, actually being shot for.</font><br/>"
      ],
      "text/plain": [
       "<IPython.core.display.Markdown object>"
      ]
     },
     "metadata": {},
     "output_type": "display_data"
    },
    {
     "data": {
      "text/markdown": [
       "<font size=\"5px\">You know thing that might be people could be that live in the developments that you know the players over there But that's what the NCO philosophy is all about: The NCO officers in the 10th precinct.</font><br/>"
      ],
      "text/plain": [
       "<IPython.core.display.Markdown object>"
      ]
     },
     "metadata": {},
     "output_type": "display_data"
    },
    {
     "data": {
      "text/markdown": [
       "<font size=\"5px\">And I think it's not as prevalent an issue with you, but I'd like to see if I can get a conversation going amongst all the cos where the precinct lines cross over so particularly up here at 40 39th, where the 10th, the Midtown north Midtown south those corners where the intersections are the drug dealers all know where those lines are and if they're on one side of the street and they see an officer on the other side of the street.</font><br/>"
      ],
      "text/plain": [
       "<IPython.core.display.Markdown object>"
      ]
     },
     "metadata": {},
     "output_type": "display_data"
    },
    {
     "data": {
      "text/markdown": [
       "<font size=\"5px\">You know the the corridors that we share because a lot of times they can commit a crime on my side they're going into there That sounds like a quality life issue.</font><br/>"
      ],
      "text/plain": [
       "<IPython.core.display.Markdown object>"
      ]
     },
     "metadata": {},
     "output_type": "display_data"
    },
    {
     "data": {
      "text/markdown": [
       "<font size=\"5px\">The CEO Sarah Appleton go ahead, I'm sure you've seen that in recent days, there's been a lot of public discussion and media coverage on mass adoption among NYPD, officers.</font><br/>"
      ],
      "text/plain": [
       "<IPython.core.display.Markdown object>"
      ]
     },
     "metadata": {},
     "output_type": "display_data"
    },
    {
     "data": {
      "text/markdown": [
       "<font size=\"5px\">I think this is an issue that you know at least my opinion was always important, but has certainly become particularly important with coping cases ticking up around the city and officers being charged with enforcement of mask wearing and other social distancing, rules.</font><br/>"
      ],
      "text/plain": [
       "<IPython.core.display.Markdown object>"
      ]
     },
     "metadata": {},
     "output_type": "display_data"
    },
    {
     "data": {
      "text/markdown": [
       "<font size=\"5px\">I'm sure that I'm not alone on this board and saying that I've seen you know dozens of NYPD officers in our district Less on our streets throughout the summer and fall, maybe noticed a couple.</font><br/>"
      ],
      "text/plain": [
       "<IPython.core.display.Markdown object>"
      ]
     },
     "metadata": {},
     "output_type": "display_data"
    },
    {
     "data": {
      "text/markdown": [
       "<font size=\"5px\">You know every time I go out, but for the most part most of the officers I'm seeing are still not wearing masks and obviously that's not only a public health problem, but it further erodes trust and goodwill.</font><br/>"
      ],
      "text/plain": [
       "<IPython.core.display.Markdown object>"
      ]
     },
     "metadata": {},
     "output_type": "display_data"
    },
    {
     "data": {
      "text/markdown": [
       "<font size=\"5px\">You know we understand there was a change in direction from the city about your interaction with the homeless people, and it's at that point at this point, It's, very confusing to the population of what you can do The first question: is: can you steal pet patrol in streets where there are homeless?</font><br/>"
      ],
      "text/plain": [
       "<IPython.core.display.Markdown object>"
      ]
     },
     "metadata": {},
     "output_type": "display_data"
    },
    {
     "data": {
      "text/markdown": [
       "<font size=\"5px\">We're arresting summoning whatever action we have to take, but if it's a quality of life, homeless, person living on the street, we're going to make every effort to reach out to social services, get them some help and try and see.</font><br/>"
      ],
      "text/plain": [
       "<IPython.core.display.Markdown object>"
      ]
     },
     "metadata": {},
     "output_type": "display_data"
    },
    {
     "data": {
      "text/markdown": [
       "<font size=\"5px\">So the NCOS are sort of the outreach people, the ones that are contacting you they're, following up on crimes, they're, working with the community, as well as the Detective bureau.</font><br/>"
      ],
      "text/plain": [
       "<IPython.core.display.Markdown object>"
      ]
     },
     "metadata": {},
     "output_type": "display_data"
    },
    {
     "data": {
      "text/markdown": [
       "<font size=\"5px\">The community affairs officer- and whoever else is there for that meeting, and so it's not only through this forum that you can ask questions of the NYPD inspector helen.</font><br/>"
      ],
      "text/plain": [
       "<IPython.core.display.Markdown object>"
      ]
     },
     "metadata": {},
     "output_type": "display_data"
    },
    {
     "data": {
      "text/markdown": [
       "<font size=\"5px\">Carrie Keenan Europe I've been asked to ask what is the role of or mandate to the police in our community for ensuring the safety of the people who are exercising their right to vote on November 3rd to make sure that the polls are safe, you're, saying yeah The personnel at the polling, sites.</font><br/>"
      ],
      "text/plain": [
       "<IPython.core.display.Markdown object>"
      ]
     },
     "metadata": {},
     "output_type": "display_data"
    },
    {
     "data": {
      "text/markdown": [
       "<font size=\"5px\">I live at five, ten right next door, and so there was no never any construction And Now there's a listing on the door that says it's closed indefinitely and to email, Tim Rousey, who is the president of of Astros Dog run, The community board has not been able to give me information.</font><br/>"
      ],
      "text/plain": [
       "<IPython.core.display.Markdown object>"
      ]
     },
     "metadata": {},
     "output_type": "display_data"
    },
    {
     "data": {
      "text/markdown": [
       "<font size=\"5px\">Restaurants access open streets and will create an interactive map that lets new Yorkers, see what is happening in their community.</font><br/>"
      ],
      "text/plain": [
       "<IPython.core.display.Markdown object>"
      ]
     },
     "metadata": {},
     "output_type": "display_data"
    },
    {
     "data": {
      "text/markdown": [
       "<font size=\"5px\">We hear an oft echoed concern that New York City streets no longer have the foot traffic that fuels economies and these bills solve that by getting people into their community in a safe, way, still beholden to all the safety protocols, and we also hear from parents who need safe outdoor activities for their children.</font><br/>"
      ],
      "text/plain": [
       "<IPython.core.display.Markdown object>"
      ]
     },
     "metadata": {},
     "output_type": "display_data"
    },
    {
     "data": {
      "text/markdown": [
       "<font size=\"5px\">This community board covers the most dense area in terms of cultural institutions and venues, and so providing the ability for public performance in a safe and respectful way is going to really help some of these organizations.</font><br/>"
      ],
      "text/plain": [
       "<IPython.core.display.Markdown object>"
      ]
     },
     "metadata": {},
     "output_type": "display_data"
    },
    {
     "data": {
      "text/markdown": [
       "<font size=\"5px\">Thank, you so much just a quick introduction, I'm from the guardian angels, the guardian, angels, we're unarmed volunteer community patrols, comprised of women and men, We started in the Bronx in 1979, and we have patrols throughout all of the boroughs, and we want to reach out to obviously everyone in Chelsea, because the goal is to form partnerships with everyone in the area as we're doing the community patrols.</font><br/>"
      ],
      "text/plain": [
       "<IPython.core.display.Markdown object>"
      ]
     },
     "metadata": {},
     "output_type": "display_data"
    },
    {
     "data": {
      "text/markdown": [
       "<font size=\"5px\">Since the lockdown began, the group we've been asked to start patrols in Chinatown when people were being Asians were being attacked because of the Covid-19 and Upper West side, where we reside, because the increase in crime quality of life issues and now in Chelsea.</font><br/>"
      ],
      "text/plain": [
       "<IPython.core.display.Markdown object>"
      ]
     },
     "metadata": {},
     "output_type": "display_data"
    },
    {
     "data": {
      "text/markdown": [
       "<font size=\"5px\">So, now we're starting a group in Chelsea and they were speaking of problems in the corridor along 8th Avenue between 20th and 22nd street, like relating to hard drugs being dealt people shooting up, arguing, fighting.</font><br/>"
      ],
      "text/plain": [
       "<IPython.core.display.Markdown object>"
      ]
     },
     "metadata": {},
     "output_type": "display_data"
    },
    {
     "data": {
      "text/markdown": [
       "<font size=\"5px\">But obviously you know you want to give notice of your presence to people who are active in the area.</font><br/>"
      ],
      "text/plain": [
       "<IPython.core.display.Markdown object>"
      ]
     },
     "metadata": {},
     "output_type": "display_data"
    },
    {
     "data": {
      "text/markdown": [
       "<font size=\"5px\">I'm, a resident of West 36Th, Street public member of Community, Board, four, and I am now the interim co- chair of the newly formed West, 36Th Street, Neighborhood, Block Association, I'm here tonight.</font><br/>"
      ],
      "text/plain": [
       "<IPython.core.display.Markdown object>"
      ]
     },
     "metadata": {},
     "output_type": "display_data"
    },
    {
     "data": {
      "text/markdown": [
       "<font size=\"5px\">On my behalf and behalf, the Block Association to support item 12, which you'll be voting on later, which is a letter out of the HHHS committee addressing the hotel shelters in the West 30s.</font><br/>"
      ],
      "text/plain": [
       "<IPython.core.display.Markdown object>"
      ]
     },
     "metadata": {},
     "output_type": "display_data"
    },
    {
     "data": {
      "text/markdown": [
       "<font size=\"5px\">So, it's very hard to even think, because I also work out of my apartment Just too many people here , you do not feel safe, walking down the street.</font><br/>"
      ],
      "text/plain": [
       "<IPython.core.display.Markdown object>"
      ]
     },
     "metadata": {},
     "output_type": "display_data"
    },
    {
     "data": {
      "text/markdown": [
       "<font size=\"5px\">Thanks, so I'm Lisa, Wager, director of government, community relations at the Fashion Institute of Technology SUNY college on 27Th street, and this month, I'm going to talk about achievement, glitz and pathways to higher Ed Fit Alum Genesis Jedez, who graduated with the BFA in fine arts in 2016, Began her term on October 1st, as one of four artists in residence at the studio Museum in Harlem.</font><br/>"
      ],
      "text/plain": [
       "<IPython.core.display.Markdown object>"
      ]
     },
     "metadata": {},
     "output_type": "display_data"
    },
    {
     "data": {
      "text/markdown": [
       "<font size=\"5px\">Org, Miss, Herrera's work, it reexamines her early childhood growing up in public housing in the Bronx in a traditional dominican, household The. Eop is a state- funded program that facilitates and supports access to higher ed for individuals from historically disadvantaged and underrepresented groups, providing expanded academic and personal support services, while they're in college and Fit Zop program is the highest ranked of any in the SUNY system.</font><br/>"
      ],
      "text/plain": [
       "<IPython.core.display.Markdown object>"
      ]
     },
     "metadata": {},
     "output_type": "display_data"
    },
    {
     "data": {
      "text/markdown": [
       "<font size=\"5px\">Well, with that Mr Chair, I declared the public session closed, not available that we have sent on this issue and we recently joined a letter sent by Gail Brewer Senator Robert Jackson, an assembly member Dick Godfrey that was sent to the department of homeless services about this.</font><br/>"
      ],
      "text/plain": [
       "<IPython.core.display.Markdown object>"
      ]
     },
     "metadata": {},
     "output_type": "display_data"
    },
    {
     "data": {
      "text/markdown": [
       "<font size=\"5px\">It was you know we rescheduled and is scheduled for tomorrow, to meet with the commanding officer and discuss with him the issues and concerns in order to bring about the type of resolutions where the residents can feel that their safety and security is being considered.</font><br/>"
      ],
      "text/plain": [
       "<IPython.core.display.Markdown object>"
      ]
     },
     "metadata": {},
     "output_type": "display_data"
    },
    {
     "data": {
      "text/markdown": [
       "<font size=\"5px\">If I ca not feel safe in my home and my neighborhood we're in trouble, and so we I am going to meet with the commanding officer of the Midtown South, tomorrow, and I.</font><br/>"
      ],
      "text/plain": [
       "<IPython.core.display.Markdown object>"
      ]
     },
     "metadata": {},
     "output_type": "display_data"
    },
    {
     "data": {
      "text/markdown": [
       "<font size=\"5px\">I will be in contact with both of you about that, but there is to the concerns have been expressed to all of us on a continuous basis and what they're only hoping for is to have it's a type of environment where they can walk in the streets going to their home and also feel safe and secure.</font><br/>"
      ],
      "text/plain": [
       "<IPython.core.display.Markdown object>"
      ]
     },
     "metadata": {},
     "output_type": "display_data"
    },
    {
     "data": {
      "text/markdown": [
       "<font size=\"5px\">Borrowing, money from New, York City, what's happening with the possibility of early retirement incentives in order to reduce the head count without refilling them, and it seems, though, everyone, both the governor and the state, is hoping and waiting and praying for the federal government to act.</font><br/>"
      ],
      "text/plain": [
       "<IPython.core.display.Markdown object>"
      ]
     },
     "metadata": {},
     "output_type": "display_data"
    },
    {
     "data": {
      "text/markdown": [
       "<font size=\"5px\">He really meant that some people do not believe he really meant that, but I, surely hope so, because the impact is devastating not only in New York City but around our country, and we know that so obviously we're hoping and waiting that the federal government would act.</font><br/>"
      ],
      "text/plain": [
       "<IPython.core.display.Markdown object>"
      ]
     },
     "metadata": {},
     "output_type": "display_data"
    },
    {
     "data": {
      "text/markdown": [
       "<font size=\"5px\">Budgets have been put on hold and monies that state legislatures have legislators, have allocated to Cbo's and other organizations, there's a hole on that As far as funding for organizations that we've allocated money to, that's the jam that we're in quite frankly, and as I said, the most important thing is: We have to have enough to sustain the people of our city and state.</font><br/>"
      ],
      "text/plain": [
       "<IPython.core.display.Markdown object>"
      ]
     },
     "metadata": {},
     "output_type": "display_data"
    },
    {
     "data": {
      "text/markdown": [
       "<font size=\"5px\">Please wash your hands, do not stand too close to people, because if not, then we all who do not follow that it's going to make the situation worse, for not only our city but our state and our country.</font><br/>"
      ],
      "text/plain": [
       "<IPython.core.display.Markdown object>"
      ]
     },
     "metadata": {},
     "output_type": "display_data"
    },
    {
     "data": {
      "text/markdown": [
       "<font size=\"5px\">What we always find is that what is needed is a strong program of services and and security and where we get that in place from the provider from the city, things tend to work out a whole lot.</font><br/>"
      ],
      "text/plain": [
       "<IPython.core.display.Markdown object>"
      ]
     },
     "metadata": {},
     "output_type": "display_data"
    },
    {
     "data": {
      "text/markdown": [
       "<font size=\"5px\">It's going to be very important to the security of our country and to the security of our of the election that the votes of Chelsea and Hell's kitchen show up on TV on election night in the national totals, because if the national total is not the right, way, I think we will see massive disruption of the counting of ballots to follow.</font><br/>"
      ],
      "text/plain": [
       "<IPython.core.display.Markdown object>"
      ]
     },
     "metadata": {},
     "output_type": "display_data"
    },
    {
     "data": {
      "text/markdown": [
       "<font size=\"5px\">I. Do not think anybody listening tonight is likely to be in the group that we're talking about taxing, but unless we increase the taxes on really ultra high wealth, we're not going to be able to fund healthcare and education and housing and transportation, and a host of other needs, and I've been working with all of our local elected legislators and those from around the state to press the legislative leadership and the governor to do.</font><br/>"
      ],
      "text/plain": [
       "<IPython.core.display.Markdown object>"
      ]
     },
     "metadata": {},
     "output_type": "display_data"
    },
    {
     "data": {
      "text/markdown": [
       "<font size=\"5px\">I again want to thank Senator, Jackson Assemblymember, Godfriedenborough President Brewer for joining that letter on 36th street that we joined.</font><br/>"
      ],
      "text/plain": [
       "<IPython.core.display.Markdown object>"
      ]
     },
     "metadata": {},
     "output_type": "display_data"
    },
    {
     "data": {
      "text/markdown": [
       "<font size=\"5px\">And I want to thank Peter Johnson's office because I know we've been working with the skyline, also etc.</font><br/>"
      ],
      "text/plain": [
       "<IPython.core.display.Markdown object>"
      ]
     },
     "metadata": {},
     "output_type": "display_data"
    },
    {
     "data": {
      "text/markdown": [
       "<font size=\"5px\">So the whole issue of homeless NYCHA working group to the credit of the city every Tuesday night.</font><br/>"
      ],
      "text/plain": [
       "<IPython.core.display.Markdown object>"
      ]
     },
     "metadata": {},
     "output_type": "display_data"
    },
    {
     "data": {
      "text/markdown": [
       "<font size=\"5px\">Now activity was quite limited, except for the 10th, and I want to thank both Chelsea elliott and fulton, because they had members residents and pd there to talk about issues of concern.</font><br/>"
      ],
      "text/plain": [
       "<IPython.core.display.Markdown object>"
      ]
     },
     "metadata": {},
     "output_type": "display_data"
    },
    {
     "data": {
      "text/markdown": [
       "<font size=\"5px\">But you know I, guess these times call for a thousand points of light, but I do think that some sanitation money needs to be put back, because it's not just unsightly it's.</font><br/>"
      ],
      "text/plain": [
       "<IPython.core.display.Markdown object>"
      ]
     },
     "metadata": {},
     "output_type": "display_data"
    },
    {
     "data": {
      "text/markdown": [
       "<font size=\"5px\">So I'm going to ask everyone who speaks whether it's the rest of the electeds or Jesse, when he does the district manager's report or any of the other board business, we do if we can keep this as tight as possible, because evidently there's a lot of people who want to watch TV, tonight.</font><br/>"
      ],
      "text/plain": [
       "<IPython.core.display.Markdown object>"
      ]
     },
     "metadata": {},
     "output_type": "display_data"
    },
    {
     "data": {
      "text/markdown": [
       "<font size=\"5px\">One estimate to that one out of every three might be gone after pandemic, which is why we launched our safe main street initiative to help New York City small businesses.</font><br/>"
      ],
      "text/plain": [
       "<IPython.core.display.Markdown object>"
      ]
     },
     "metadata": {},
     "output_type": "display_data"
    },
    {
     "data": {
      "text/markdown": [
       "<font size=\"5px\">You know flyers of information, and I just want to highlight that, because it really does give a great report back to the community What.</font><br/>"
      ],
      "text/plain": [
       "<IPython.core.display.Markdown object>"
      ]
     },
     "metadata": {},
     "output_type": "display_data"
    },
    {
     "data": {
      "text/markdown": [
       "<font size=\"5px\">At the end of the meeting to hand in your vote, sheets, And, then I do want to end on a positive note, with due to the generosity of Brookville properties and a great assistance from Cb4 member Josephine Ishmael, the Cb4 District Office was able to help deliver five thousand dollars to the ptas of Ps33 and Ps51 for their reopening needs, and so that was a good.</font><br/>"
      ],
      "text/plain": [
       "<IPython.core.display.Markdown object>"
      ]
     },
     "metadata": {},
     "output_type": "display_data"
    },
    {
     "data": {
      "text/markdown": [
       "<font size=\"5px\">We may have some other candidates for some of the seats, which would be you know a little bit more fun to have an election that people actually have to vote in, but we'll have a full report at our November meeting or our December vote.</font><br/>"
      ],
      "text/plain": [
       "<IPython.core.display.Markdown object>"
      ]
     },
     "metadata": {},
     "output_type": "display_data"
    },
    {
     "data": {
      "text/markdown": [
       "<font size=\"5px\">We really laid out the context of our community, the facilities we have for homeless and supportive housing and ask in essence that there be a sit down and a plan developed to basically correct a bad decision to have so many people with so many social service issues located in one area, and it is.</font><br/>"
      ],
      "text/plain": [
       "<IPython.core.display.Markdown object>"
      ]
     },
     "metadata": {},
     "output_type": "display_data"
    },
    {
     "data": {
      "text/markdown": [
       "<font size=\"5px\">We have an Appendix a b and C A is just the questions by the committee and the Public Appendix B is the main comments by each public member who spoke, and I need to fix that We're attaching our letters from June and August, which were about this issue specifically about the density that was on 51st street and all three letters.</font><br/>"
      ],
      "text/plain": [
       "<IPython.core.display.Markdown object>"
      ]
     },
     "metadata": {},
     "output_type": "display_data"
    },
    {
     "data": {
      "text/markdown": [
       "<font size=\"5px\">There is chaos going down on now in cb1 about a single hotel, That's being moved, we're talking about three hotels in a one square block area on 36Th Street, and we have offered repeatedly to work with DHS to relocate this hotel within our district.</font><br/>"
      ],
      "text/plain": [
       "<IPython.core.display.Markdown object>"
      ]
     },
     "metadata": {},
     "output_type": "display_data"
    },
    {
     "data": {
      "text/markdown": [
       "<font size=\"5px\">As we already know what happened with the skyline right, I still ca, not trace these families at so many kids that were going to our schools.</font><br/>"
      ],
      "text/plain": [
       "<IPython.core.display.Markdown object>"
      ]
     },
     "metadata": {},
     "output_type": "display_data"
    },
    {
     "data": {
      "text/markdown": [
       "<font size=\"5px\">We are either number three or number four in community boards out of 59, with social service facilities for the homeless in the city.</font><br/>"
      ],
      "text/plain": [
       "<IPython.core.display.Markdown object>"
      ]
     },
     "metadata": {},
     "output_type": "display_data"
    },
    {
     "data": {
      "text/markdown": [
       "<font size=\"5px\">A specific ask in this that NYPD is going to respond to or that we want them to play a role in the neighborhood between the shelters just wanted to know what task was specifically for the commission on line 57 is to coordinate the DHS street outreach and the NYPD public safety enforcement?</font><br/>"
      ],
      "text/plain": [
       "<IPython.core.display.Markdown object>"
      ]
     },
     "metadata": {},
     "output_type": "display_data"
    }
   ],
   "source": [
    "full, word_count, title = read_summary(\"J0fT1usHIVU\",\"summary\")"
   ]
  },
  {
   "cell_type": "code",
   "execution_count": 51,
   "metadata": {},
   "outputs": [
    {
     "data": {
      "text/markdown": [
       "<font size=\"5px\">I'm, going to use that environmental discussion at the segway to officially call our community Board four's waterfront parks and Environment Committee meeting to order.</font><br/>"
      ],
      "text/plain": [
       "<IPython.core.display.Markdown object>"
      ]
     },
     "metadata": {},
     "output_type": "display_data"
    },
    {
     "data": {
      "text/markdown": [
       "<font size=\"5px\">We had proposed removing one of the trees that was located in an area of the expanded dog run, and we were doing that to accommodate the water play for the dogs in a more centralized location, and you asked us to reconsider that and take a look at preserving that.</font><br/>"
      ],
      "text/plain": [
       "<IPython.core.display.Markdown object>"
      ]
     },
     "metadata": {},
     "output_type": "display_data"
    },
    {
     "data": {
      "text/markdown": [
       "<font size=\"5px\">You also asked us to see if we could provide additional, photovoltaics and or other green energy solutions incorporated into particularly into the comfort station, but I believe it was just a general comment and asked us to take a look at no touch type of fixtures in the conversation as well as site locks into the restrooms also ask for us to consider what it would mean to the design to take into account our current situation, where social distancing is so important and then also asked us.</font><br/>"
      ],
      "text/plain": [
       "<IPython.core.display.Markdown object>"
      ]
     },
     "metadata": {},
     "output_type": "display_data"
    },
    {
     "data": {
      "text/markdown": [
       "<font size=\"5px\">Those are the areas that we had to really focus on in terms of incorporating your comments and looking at redesign and refinement next, so that included, the dog runs the picnic area, the entrance, the comfort station, some of the plantings and the synthetic turf field.</font><br/>"
      ],
      "text/plain": [
       "<IPython.core.display.Markdown object>"
      ]
     },
     "metadata": {},
     "output_type": "display_data"
    },
    {
     "data": {
      "text/markdown": [
       "<font size=\"5px\">You also see that we're maintaining circulation along the sidewalks, maintaining the circulation from 24th street into the park along the basketball, area, One of the big differences which we'll touch on a little bit later, is that if you look at the comfort station, you see now that, as before, we're creating this new gateway into the into the sports field.</font><br/>"
      ],
      "text/plain": [
       "<IPython.core.display.Markdown object>"
      ]
     },
     "metadata": {},
     "output_type": "display_data"
    },
    {
     "data": {
      "text/markdown": [
       "<font size=\"5px\">You get to see some of the thinking in terms of how we're going to be utilizing new trees, tree canopy to start to create and emphasize spaces just like to chime in one of the things that we here at the trust really liked about this design is that we've really cut back on the hardscape in this in this design.</font><br/>"
      ],
      "text/plain": [
       "<IPython.core.display.Markdown object>"
      ]
     },
     "metadata": {},
     "output_type": "display_data"
    },
    {
     "data": {
      "text/markdown": [
       "<font size=\"5px\">When the plans come up, it provides flowering interest in the spring and then in the fall you may have seen it provides these little papery seed enclosures, which are a really lovely like fall interest, Then they also have the added benefit of you know a light, breeze kind of creates this sort of fluttering and noise sort of aspect to them.</font><br/>"
      ],
      "text/plain": [
       "<IPython.core.display.Markdown object>"
      ]
     },
     "metadata": {},
     "output_type": "display_data"
    },
    {
     "data": {
      "text/markdown": [
       "<font size=\"5px\">Maybe to make note of, is the gladicia up in the left hand corner that's a tree that we've selected to use in the picnic area, and that is primarily because it's got a light, open, airy sort of head right, canopy.</font><br/>"
      ],
      "text/plain": [
       "<IPython.core.display.Markdown object>"
      ]
     },
     "metadata": {},
     "output_type": "display_data"
    },
    {
     "data": {
      "text/markdown": [
       "<font size=\"5px\">You know all of these kinds of parks and open spaces: It's always a challenge with maintenance.</font><br/>"
      ],
      "text/plain": [
       "<IPython.core.display.Markdown object>"
      ]
     },
     "metadata": {},
     "output_type": "display_data"
    },
    {
     "data": {
      "text/markdown": [
       "<font size=\"5px\">Your sight lines go straight across the park and you kind of start to get a hint of the tree grove at the picnic area and then in your mid ground you'll, also see the berm the planted berm, which is number five, We're looking to use granite curbing throughout the park and then just to the left of the main entrance.</font><br/>"
      ],
      "text/plain": [
       "<IPython.core.display.Markdown object>"
      ]
     },
     "metadata": {},
     "output_type": "display_data"
    },
    {
     "data": {
      "text/markdown": [
       "<font size=\"5px\">We definitely intend to do furniture very similar to this, but the specific model we're still working through with our maintenance people making sure, like the specific model, is totally maintainable and what we want to use so movable furniture where you see it, but And, then this highlights the custom bench seating that we're proposing utilizing stainless steel for the supports and the arm What this bench really starts to do is to create you know a variety of options for seating.</font><br/>"
      ],
      "text/plain": [
       "<IPython.core.display.Markdown object>"
      ]
     },
     "metadata": {},
     "output_type": "display_data"
    },
    {
     "data": {
      "text/markdown": [
       "<font size=\"5px\">They are also spaced at a distance that would deter someone from laying on them, which is you, know, an important way to help monitor usage in the park next, so the picnic area directly opposite the playground you've seen this before the layout has not really changed too much.</font><br/>"
      ],
      "text/plain": [
       "<IPython.core.display.Markdown object>"
      ]
     },
     "metadata": {},
     "output_type": "display_data"
    },
    {
     "data": {
      "text/markdown": [
       "<font size=\"5px\">There is planting surrounding on the outside the stone walls, and then the one thing I neglected to mention when we were at the at the plan is that we are making some minor modifications to the play area directly, opposite, particularly to the entrance to accommodate stroller parking, and we are also planning to change that fence.</font><br/>"
      ],
      "text/plain": [
       "<IPython.core.display.Markdown object>"
      ]
     },
     "metadata": {},
     "output_type": "display_data"
    },
    {
     "data": {
      "text/markdown": [
       "<font size=\"5px\">You start to see what the what the Festoon lighting would look like and how the space would feel just one quick thing that the trees are far along in this image, so The furniture that we're going to propose- What we're, anticipating things like the stacked stone, wall?</font><br/>"
      ],
      "text/plain": [
       "<IPython.core.display.Markdown object>"
      ]
     },
     "metadata": {},
     "output_type": "display_data"
    },
    {
     "data": {
      "text/markdown": [
       "<font size=\"5px\">Number four is the new location of the water play area in the large dog run And again we're utilizing that stone wall as a backdrop to that to one help protect from water spray from moving out onto the sidewalk there, and it also gives us the benefit of being able to kind of stack up some of the granite blocks to utilize for other water features in that area.</font><br/>"
      ],
      "text/plain": [
       "<IPython.core.display.Markdown object>"
      ]
     },
     "metadata": {},
     "output_type": "display_data"
    },
    {
     "data": {
      "text/markdown": [
       "<font size=\"5px\">I may have missed something, so somebody else feel free to jump You look up on the West side, just adjacent to where number six is number six, which is the Sally port entrance that comes in from the park.</font><br/>"
      ],
      "text/plain": [
       "<IPython.core.display.Markdown object>"
      ]
     },
     "metadata": {},
     "output_type": "display_data"
    },
    {
     "data": {
      "text/markdown": [
       "<font size=\"5px\">If you could stay on this for a second, the blue area is exploration, we're doing in trying to reuse a good quality of the existing granite stone to cut it and reconfigure it to create interesting patterns that are really durable for the park.</font><br/>"
      ],
      "text/plain": [
       "<IPython.core.display.Markdown object>"
      ]
     },
     "metadata": {},
     "output_type": "display_data"
    },
    {
     "data": {
      "text/markdown": [
       "<font size=\"5px\">It looked like there might be a tree or something that would prevent people from the street from seeing them, And. So you know we just want to make sure that if there is a vendor there in the future that there's you know ways for them to attract customers from outside of the park.</font><br/>"
      ],
      "text/plain": [
       "<IPython.core.display.Markdown object>"
      ]
     },
     "metadata": {},
     "output_type": "display_data"
    },
    {
     "data": {
      "text/markdown": [
       "<font size=\"5px\">I think that we could take that up a little bit further down the line, but for tonight does the committee feel strongly one way or another if we need to memorialize anything in a letter, the group has been outstanding at incorporating our feedback.</font><br/>"
      ],
      "text/plain": [
       "<IPython.core.display.Markdown object>"
      ]
     },
     "metadata": {},
     "output_type": "display_data"
    },
    {
     "data": {
      "text/markdown": [
       "<font size=\"5px\">I mean the parkway was made because the builder of this building, I think it was a man named Hyman, Shapiro, agreed to do the park and then the plaza in front of the sheffield in return for the added walls that was in 1977.</font><br/>"
      ],
      "text/plain": [
       "<IPython.core.display.Markdown object>"
      ]
     },
     "metadata": {},
     "output_type": "display_data"
    },
    {
     "data": {
      "text/markdown": [
       "<font size=\"5px\">That's what he wanted to make it a continuous park, but that fell apart and it did not work The, director of community and government affairs at wnet and So, then the park just began to fall and disrepair, and by this time I was a member of the City Council and the cat, and that was in my district, The green market moved in.</font><br/>"
      ],
      "text/plain": [
       "<IPython.core.display.Markdown object>"
      ]
     },
     "metadata": {},
     "output_type": "display_data"
    },
    {
     "data": {
      "text/markdown": [
       "<font size=\"5px\">I think, reasonably continued this and when we when Ballsy came in with a second part that was through well, Eric was the main thing, but so was whatever you know our speaker, but he was not the speaker than he was our local city council member anyway , Some of the chairs of the community boards in between have been more generous than others, and so it's been a struggle My mother also lived in the Sheffield before it became a condominium, and so I saw what it looked like in different phases until it got straightened.</font><br/>"
      ],
      "text/plain": [
       "<IPython.core.display.Markdown object>"
      ]
     },
     "metadata": {},
     "output_type": "display_data"
    },
    {
     "data": {
      "text/markdown": [
       "<font size=\"5px\">Also, the park, Van Domes started their facade repair and they were working they're working on the 56th street side, so they have extended a shed, and I do not know if it's a whole building or What onto the park And that's closed the play area which always which has been in disrepair.</font><br/>"
      ],
      "text/plain": [
       "<IPython.core.display.Markdown object>"
      ]
     },
     "metadata": {},
     "output_type": "display_data"
    },
    {
     "data": {
      "text/markdown": [
       "<font size=\"5px\">We do not Wanna really open the whole park, and since we suspect that people want the parko open or some people do, we would like to propose a compromise where we open the kiosk and the seating area for the kiosk and that we keep it somehow closed at the other end in the meantime, last week or two weeks ago, with the wind Had, it been open.</font><br/>"
      ],
      "text/plain": [
       "<IPython.core.display.Markdown object>"
      ]
     },
     "metadata": {},
     "output_type": "display_data"
    },
    {
     "data": {
      "text/markdown": [
       "<font size=\"5px\">We've heard that people want the park open.</font><br/>"
      ],
      "text/plain": [
       "<IPython.core.display.Markdown object>"
      ]
     },
     "metadata": {},
     "output_type": "display_data"
    },
    {
     "data": {
      "text/markdown": [
       "<font size=\"5px\">It'll cost us fifty three thousand dollars the Bartlett trees guys are coming to assess all the trees they're, removing the big tree that fell on Saturday, there's an apple tree that we think needs to be taken out also, and Regular, our security guy walks down the police have been contacted by the security firm we have and they are they're very sensitive to the park.</font><br/>"
      ],
      "text/plain": [
       "<IPython.core.display.Markdown object>"
      ]
     },
     "metadata": {},
     "output_type": "display_data"
    },
    {
     "data": {
      "text/markdown": [
       "<font size=\"5px\">And she's, the one who really started the fact that the park needed repair so eric and The office was so helpful to us, because I mean Anita you're We try to work very carefully, and now we have the same managing agent that the Park Fandom has and that we have so hopefully that's going to also help make things easier.</font><br/>"
      ],
      "text/plain": [
       "<IPython.core.display.Markdown object>"
      ]
     },
     "metadata": {},
     "output_type": "display_data"
    },
    {
     "data": {
      "text/markdown": [
       "<font size=\"5px\">You know: I, live on that block as well For next year , I'm just going to make you a little louder, but you know what the trouble with the grass is not only the pigeons, but there are people who take their dogs on the grass.</font><br/>"
      ],
      "text/plain": [
       "<IPython.core.display.Markdown object>"
      ]
     },
     "metadata": {},
     "output_type": "display_data"
    },
    {
     "data": {
      "text/markdown": [
       "<font size=\"5px\">It does not include money, because we have the scaffolding where the Sheffield was the first one to do the facade stuff and our scaffolding went slightly, I, think Affected Anita did it affect the parking lot went into our garden area You know it's something, that's what happens in New York, because the City, Council and I'm afraid I was on it and that local 11 was passed.</font><br/>"
      ],
      "text/plain": [
       "<IPython.core.display.Markdown object>"
      ]
     },
     "metadata": {},
     "output_type": "display_data"
    },
    {
     "data": {
      "text/markdown": [
       "<font size=\"5px\">The way we feel is that okay, let's work something out with the Sheffield, but why should we have to pay for a park that took away our air?</font><br/>"
      ],
      "text/plain": [
       "<IPython.core.display.Markdown object>"
      ]
     },
     "metadata": {},
     "output_type": "display_data"
    },
    {
     "data": {
      "text/markdown": [
       "<font size=\"5px\">We could work out a deal where the Park Vendo maintenance people would take one power washing during the day or something like that.</font><br/>"
      ],
      "text/plain": [
       "<IPython.core.display.Markdown object>"
      ]
     },
     "metadata": {},
     "output_type": "display_data"
    },
    {
     "data": {
      "text/markdown": [
       "<font size=\"5px\">And I do not know what you do for people like that , I wish I had an answer for you, but I think it's just very sad when the people are making it bad thanks, sally two things: I'm going to go to Leslie before I go to Chris, because Leslie has not spoken yet, but I.</font><br/>"
      ],
      "text/plain": [
       "<IPython.core.display.Markdown object>"
      ]
     },
     "metadata": {},
     "output_type": "display_data"
    },
    {
     "data": {
      "text/markdown": [
       "<font size=\"5px\">You know this was not meant to be an open meeting for the park bendom in Sheffield to have a conversation.</font><br/>"
      ],
      "text/plain": [
       "<IPython.core.display.Markdown object>"
      ]
     },
     "metadata": {},
     "output_type": "display_data"
    },
    {
     "data": {
      "text/markdown": [
       "<font size=\"5px\">You might know this as well-- is that it's essentially a public park, because it's on right on 9th avenue on 57th street, but It's, but it's maintained privately and the people who maintain it privately are not even really adjacent to it.</font><br/>"
      ],
      "text/plain": [
       "<IPython.core.display.Markdown object>"
      ]
     },
     "metadata": {},
     "output_type": "display_data"
    },
    {
     "data": {
      "text/markdown": [
       "<font size=\"5px\">Now, because it's locked up or the maintenance is not as good as maybe you would see a regular city park because they just do not have the staff or the money or the constant, attendance, and I think that's a problem.</font><br/>"
      ],
      "text/plain": [
       "<IPython.core.display.Markdown object>"
      ]
     },
     "metadata": {},
     "output_type": "display_data"
    },
    {
     "data": {
      "text/markdown": [
       "<font size=\"5px\">So a lot of these things, the pigeons, the homeless, the There's, some drug use, So I carl, might be able to shed some light on how maybe that can be rectified through a you know: It's that private public kind of thing, Carl, I think, can I add one more thing.</font><br/>"
      ],
      "text/plain": [
       "<IPython.core.display.Markdown object>"
      ]
     },
     "metadata": {},
     "output_type": "display_data"
    },
    {
     "data": {
      "text/markdown": [
       "<font size=\"5px\">I'm, the person now who's back working on the park, all right, so we should pull it together and discuss it, and when they we get the bids back, and I know exactly what, where the tripping hazards are, we should you should come and we can show you and Anita will be there too, so happy to do.</font><br/>"
      ],
      "text/plain": [
       "<IPython.core.display.Markdown object>"
      ]
     },
     "metadata": {},
     "output_type": "display_data"
    },
    {
     "data": {
      "text/markdown": [
       "<font size=\"5px\">You mentioned that you were talking with your board about this, since it's such a huge cost to You know wanting ownership of this park.</font><br/>"
      ],
      "text/plain": [
       "<IPython.core.display.Markdown object>"
      ]
     },
     "metadata": {},
     "output_type": "display_data"
    },
    {
     "data": {
      "text/markdown": [
       "<font size=\"5px\">Student I used that park after school in the fall and spring I know that like when you give kids ownership of something they have a tendency of taking pride in its maintenance and its look in the future.</font><br/>"
      ],
      "text/plain": [
       "<IPython.core.display.Markdown object>"
      ]
     },
     "metadata": {},
     "output_type": "display_data"
    },
    {
     "data": {
      "text/markdown": [
       "<font size=\"5px\">I just feel like with only 40 of the student body at that high school now attending, and we do not know what next year is going to look.</font><br/>"
      ],
      "text/plain": [
       "<IPython.core.display.Markdown object>"
      ]
     },
     "metadata": {},
     "output_type": "display_data"
    },
    {
     "data": {
      "text/markdown": [
       "<font size=\"5px\">It's the same thing and we do not even know when it's going to be open.</font><br/>"
      ],
      "text/plain": [
       "<IPython.core.display.Markdown object>"
      ]
     },
     "metadata": {},
     "output_type": "display_data"
    },
    {
     "data": {
      "text/markdown": [
       "<font size=\"5px\">Is the park actually going to be open halfway in a month?</font><br/>"
      ],
      "text/plain": [
       "<IPython.core.display.Markdown object>"
      ]
     },
     "metadata": {},
     "output_type": "display_data"
    },
    {
     "data": {
      "text/markdown": [
       "<font size=\"5px\">It's, just trying to understand as soon as we repair the the problems that are that we've identified all right, And you're, waiting on bids and for that work to happen right, but Jeffrey, the public is asking and we ca, not say well they're, waiting on bids, we have to say Our bids are during the week the park's going to make a decision in a week.</font><br/>"
      ],
      "text/plain": [
       "<IPython.core.display.Markdown object>"
      ]
     },
     "metadata": {},
     "output_type": "display_data"
    },
    {
     "data": {
      "text/markdown": [
       "<font size=\"5px\">What and to who any committee members with a thought on that That's fine too, because we can ask Sheffield and parkman dome for updates in due time, but if there's desire to take an action, I'm open to suggestion, marty, So I think this is one of very few pops in community district, four, actually they're super common in community board, five, six and one so Midtown, East.</font><br/>"
      ],
      "text/plain": [
       "<IPython.core.display.Markdown object>"
      ]
     },
     "metadata": {},
     "output_type": "display_data"
    },
    {
     "data": {
      "text/markdown": [
       "<font size=\"5px\">So we did not go in to maintain it also because the parkvan dome started their construction and they that really made us close off the playground, part and part of it, and I do not know if you want people sitting in the park when you've got scaffolding not too far away from you.</font><br/>"
      ],
      "text/plain": [
       "<IPython.core.display.Markdown object>"
      ]
     },
     "metadata": {},
     "output_type": "display_data"
    },
    {
     "data": {
      "text/markdown": [
       "<font size=\"5px\">It's been a very complicated procedure trying to reopen it, but we have long- It's, just not been the top priority at different times with different boards, but we fully intend to bring it up to code, which means you know, answering the violations and keeping it as well as we can, and we will continue to talk with Anita and with the park Fandom And, we'll figure it out, but she's raising a more important question, which is really.</font><br/>"
      ],
      "text/plain": [
       "<IPython.core.display.Markdown object>"
      ]
     },
     "metadata": {},
     "output_type": "display_data"
    },
    {
     "data": {
      "text/markdown": [
       "<font size=\"5px\">Know, maintain and open this park.</font><br/>"
      ],
      "text/plain": [
       "<IPython.core.display.Markdown object>"
      ]
     },
     "metadata": {},
     "output_type": "display_data"
    },
    {
     "data": {
      "text/markdown": [
       "<font size=\"5px\">I do not know if we have to go back to the city planning department or we have to we'll definitely be coming back to you, but I do not think that's going to happen until for a while.</font><br/>"
      ],
      "text/plain": [
       "<IPython.core.display.Markdown object>"
      ]
     },
     "metadata": {},
     "output_type": "display_data"
    },
    {
     "data": {
      "text/markdown": [
       "<font size=\"5px\">If anybody has new stuff to add that can be considered by when, frankly, by the time I turn around the survey, I think budget task force meets Leslie, I'm kind of looking at you or Alan.</font><br/>"
      ],
      "text/plain": [
       "<IPython.core.display.Markdown object>"
      ]
     },
     "metadata": {},
     "output_type": "display_data"
    },
    {
     "data": {
      "text/markdown": [
       "<font size=\"5px\">Is we want a clean park , It's very unrealistic and not very helpful to our community.</font><br/>"
      ],
      "text/plain": [
       "<IPython.core.display.Markdown object>"
      ]
     },
     "metadata": {},
     "output_type": "display_data"
    },
    {
     "data": {
      "text/markdown": [
       "<font size=\"5px\">I. Think you're 100 right that we're going to see some shifting in priorities of keep it clean, keep it open and the rest is sort of frosting from what we can get right.</font><br/>"
      ],
      "text/plain": [
       "<IPython.core.display.Markdown object>"
      ]
     },
     "metadata": {},
     "output_type": "display_data"
    }
   ],
   "source": [
    "full, word_count, title = read_summary(\"39qT7I_JH5Q\",\"summary\")"
   ]
  },
  {
   "cell_type": "code",
   "execution_count": 49,
   "metadata": {},
   "outputs": [
    {
     "data": {
      "text/markdown": [
       "<font size=\"5px\">They were on our agenda for last month for the MOCA workshop and window Exhibits Museum of Chinese in America on Howard Street, between Center Street and Lafayette Street, and it's for a sidewalk and curb lane closure for both sides.</font><br/>"
      ],
      "text/plain": [
       "<IPython.core.display.Markdown object>"
      ]
     },
     "metadata": {},
     "output_type": "display_data"
    },
    {
     "data": {
      "text/markdown": [
       "<font size=\"5px\">The events already happening, and I think we have Nancy Yao Mazbach from Mocha who's here to talk about the application, I'll open that in a another window, are you there nancy?</font><br/>"
      ],
      "text/plain": [
       "<IPython.core.display.Markdown object>"
      ]
     },
     "metadata": {},
     "output_type": "display_data"
    },
    {
     "data": {
      "text/markdown": [
       "<font size=\"5px\">You know it's a new email address for people to receive, so We've the museum of Chinese America has suffered sort of a number of looming and active crises, and We did have this fire on January 23, at our collection space, where 85 000 items were in jeopardy.</font><br/>"
      ],
      "text/plain": [
       "<IPython.core.display.Markdown object>"
      ]
     },
     "metadata": {},
     "output_type": "display_data"
    },
    {
     "data": {
      "text/markdown": [
       "<font size=\"5px\">I wanted to share, especially with cp2, is just today: We've taken additional space at 3, Howard street, where yeah we've opened up 4 000 square feet of temp space, and we have it really nicely done with a young architect who has helped us to outfit that space and as I was you know, preparing for this meeting.</font><br/>"
      ],
      "text/plain": [
       "<IPython.core.display.Markdown object>"
      ]
     },
     "metadata": {},
     "output_type": "display_data"
    },
    {
     "data": {
      "text/markdown": [
       "<font size=\"5px\">So there'll be active public computers that people can use, as well as housing and conserving the space The main floor, and the second floor is the space that we've taken to help just repair that and the repair to just let the CBT know is a six year.</font><br/>"
      ],
      "text/plain": [
       "<IPython.core.display.Markdown object>"
      ]
     },
     "metadata": {},
     "output_type": "display_data"
    },
    {
     "data": {
      "text/markdown": [
       "<font size=\"5px\">Our main building at 215 Center street also opens up to lafayette, is in cb2, and we anticipate that we will be renovating that space in about three years.</font><br/>"
      ],
      "text/plain": [
       "<IPython.core.display.Markdown object>"
      ]
     },
     "metadata": {},
     "output_type": "display_data"
    },
    {
     "data": {
      "text/markdown": [
       "<font size=\"5px\">This is a free non charged event, but the windows are getting installed right, now, both on center street, which is a main opening to the museum.</font><br/>"
      ],
      "text/plain": [
       "<IPython.core.display.Markdown object>"
      ]
     },
     "metadata": {},
     "output_type": "display_data"
    },
    {
     "data": {
      "text/markdown": [
       "<font size=\"5px\">But, we did want to have sort of like a formal launch of it on Friday Saturday Sunday, with stanchions keeping close to the frontage, so that I know is possible and permissible by DOT and then also having them start at 215 center go down the plot to Grand Street, make a left onto grand Street then make a left onto lafayette and see the exhibits on lafayette and then make a left onto Howard Street.</font><br/>"
      ],
      "text/plain": [
       "<IPython.core.display.Markdown object>"
      ]
     },
     "metadata": {},
     "output_type": "display_data"
    },
    {
     "data": {
      "text/markdown": [
       "<font size=\"5px\">The request to close Howard street is part of a broader initiative for us to bring people back to the community to take a look at these exhibits and then also with the MOCA Workshop opening at three howard for them to reconnect with the fire, because I think a lot of people in our broader community had a lot of emotion around the fire.</font><br/>"
      ],
      "text/plain": [
       "<IPython.core.display.Markdown object>"
      ]
     },
     "metadata": {},
     "output_type": "display_data"
    },
    {
     "data": {
      "text/markdown": [
       "<font size=\"5px\">Those will also be socially distanced in 15 to 20 segments of no more than four people and one unit visiting the space to see that we were able to bring back the items and then they would hopefully then also to try to help develop the patronage of Tiger restaurant that just opened at one Howard.</font><br/>"
      ],
      "text/plain": [
       "<IPython.core.display.Markdown object>"
      ]
     },
     "metadata": {},
     "output_type": "display_data"
    },
    {
     "data": {
      "text/markdown": [
       "<font size=\"5px\">People feel comfortable, but at no time are we expecting more than 20 people at any place, because we know that we ca not manage it, but we'll be giving out face masks if they do not have one We have a sanitizer also when people slide in, but we will be reserving slots online prior to those days So it's a street closure.</font><br/>"
      ],
      "text/plain": [
       "<IPython.core.display.Markdown object>"
      ]
     },
     "metadata": {},
     "output_type": "display_data"
    },
    {
     "data": {
      "text/markdown": [
       "<font size=\"5px\">You know, delayed and they'll be staff, I guess throughout just kind of moving keeping the queue, moving or keeping people moving absolutely, and we have a really good team of people who are very versed in that And when there'll be markers and way, finders on the street, there'll be people at the corners directing them and making sure there's no bottleneck to We're just really sensitive to the businesses that are trying to get back to life.</font><br/>"
      ],
      "text/plain": [
       "<IPython.core.display.Markdown object>"
      ]
     },
     "metadata": {},
     "output_type": "display_data"
    },
    {
     "data": {
      "text/markdown": [
       "<font size=\"5px\">I know it's a small street in Arrow Street, but the path that people will be taking is viewing the windows on lafayette and then coming around to the temporary space on the narrow, street.</font><br/>"
      ],
      "text/plain": [
       "<IPython.core.display.Markdown object>"
      ]
     },
     "metadata": {},
     "output_type": "display_data"
    },
    {
     "data": {
      "text/markdown": [
       "<font size=\"5px\">So, just I think it's more important that you're communicating with SAPO Is there anyone else from the committee that has questions?</font><br/>"
      ],
      "text/plain": [
       "<IPython.core.display.Markdown object>"
      ]
     },
     "metadata": {},
     "output_type": "display_data"
    },
    {
     "data": {
      "text/markdown": [
       "<font size=\"5px\">Basically, like ongoing funding things that we've requested each year, If there's any new requests, and the one that I pointed out here at the bottom is because the composting has been because of budget cuts suspended at this time.</font><br/>"
      ],
      "text/plain": [
       "<IPython.core.display.Markdown object>"
      ]
     },
     "metadata": {},
     "output_type": "display_data"
    },
    {
     "data": {
      "text/markdown": [
       "<font size=\"5px\">We have asking for SAPO enforcement funding so that they can actually be going to the street activity.</font><br/>"
      ],
      "text/plain": [
       "<IPython.core.display.Markdown object>"
      ]
     },
     "metadata": {},
     "output_type": "display_data"
    },
    {
     "data": {
      "text/markdown": [
       "<font size=\"5px\">I mean, that's a budget cut I think, they've been better about it in the last few weeks, but that you know people might have noticed that garbage cans are just overflowing because there's many more pedestrians outside and less department of sanitation workers, emptying them.</font><br/>"
      ],
      "text/plain": [
       "<IPython.core.display.Markdown object>"
      ]
     },
     "metadata": {},
     "output_type": "display_data"
    },
    {
     "data": {
      "text/markdown": [
       "<font size=\"5px\">Let me tell you Joe people do not even know how to or want to even recycle properly So. But, unfortunately, I think the department of sanitation has been sad.</font><br/>"
      ],
      "text/plain": [
       "<IPython.core.display.Markdown object>"
      ]
     },
     "metadata": {},
     "output_type": "display_data"
    },
    {
     "data": {
      "text/markdown": [
       "<font size=\"5px\">So we'll add some rat language to the sanitation, request, Well, so the application they had for us was sidewalk and curb enclosure, and it sounds like they're now trying to work with SAPO to do the street closure and not the sidewalk concurrently enclosures, because she said they're just using their three feet in front of the windows, which does not require a SAPO permit.</font><br/>"
      ],
      "text/plain": [
       "<IPython.core.display.Markdown object>"
      ]
     },
     "metadata": {},
     "output_type": "display_data"
    },
    {
     "data": {
      "text/markdown": [
       "<font size=\"5px\">We allow street closures for everything, but this is a very unique and I think, that's important for surely all right.</font><br/>"
      ],
      "text/plain": [
       "<IPython.core.display.Markdown object>"
      ]
     },
     "metadata": {},
     "output_type": "display_data"
    }
   ],
   "source": [
    "output_list, word_count, title = read_summary(\"J_GZnFIjrF8\",\"summary\")"
   ]
  },
  {
   "cell_type": "code",
   "execution_count": 18,
   "metadata": {
    "scrolled": true
   },
   "outputs": [
    {
     "data": {
      "text/markdown": [
       "<font size=\"5px\">So welcome everyone. My name is Joe Gallagher, the chair. Oh well, let's wait for Nancy to cut back in there's our one applicant, so she can hear this info joe. While we're waiting. Can I ask you a question about the application, the other application for the pride event that was crossed off the agenda? Have they withdrawn or did SAPO what happened? I yeah I'm not sure of the particulars, but I bet SAPO. They had a discussion with SAPO and then maybe it was not consistent with the kovit guidelines that that's just my guess. It was the culvert guidelines. It was not necessarily about the event. It was just the event taking place now. I really do not know that was just my presuming, so I'm wondering if we can ever while we're just waiting another minute, get a clear statement of policy from staple as to what they are allowing and what they're not allowing given the fact that there might be a second wave coming. What can we as a community would expect Joe if that's possible? Perhaps we can do that at all yeah Bob and I have been trying to get someone from SAPO to come and speak, but I think they are also kind of not quite you know. I think it's touch and go for everyone at this point, but yeah. Thank you. I'll follow up with SAPO to try to have someone come and speak great. Thank you all right and I see our applicant is back so thanks. Everyone welcome to the quality of Life committee meeting of Community Board 2. My name is Joe Gallagher, I'm the chair, our other members are here on zoom, so you can see Edma Michael, Levine, Susan, Kent, Brian, Pate, Linda, Azer, a public member and rocio sons. So we hear applications for sidewalk activities and sorry sidewalk, cafes and street activities and other quality of life issues. We are asked to comment on certain applications by city agencies. We recommend approval or denial and then send that on to the full board, which we'll be meeting next Thursday. I'm pretty sure is that right carter next Thursday via zoom, and then we send on our comment our recommendation to the city agency and they will use our recommendation as part of their process for determining whether certain applications are approved or denied. So to we have a small agenda tonight, I'm going to share my screen so that we can all be on the same page we're starting with this first application. So they were on our agenda for last month for the Moca workshop and window Exhibits Museum of Chinese in America on Howard Street, between Center Street and Lafayette Street, and it's for a sidewalk and curb lane closure for both sides. Unfortunately, the notification for the meeting to Moca went to their spam folder, so they were not aware of the request for an appearance and, as is the case always when an applicant does not appear, we recommend denial, but Mocha then reached out and asked if they could come and speak to us this month to hear the particulars of their application. Unfortunately, the full board is meeting just after their event is starting. So we're here tonight to hear the details of it and we can pass a resolution, but it wo not be timely. The full board will get the resolution, but it'll be during the event. The events already happening, and I think we have Nancy Yao Mazbach from Mocha who's here to talk about the application I'll open that in a another window, are you there nancy? Can you hear me I can hear you. Oh great. Welcome, I'm sorry about that. Snafu. With last month's meeting, I had the opportunity that our re reopening working group met two weeks ago and nancy. You were a part of that panel that spoke about museums in our community that are about their. You know, difficulties or they're dealing with, or the reopening plans appreciate that you were at that meeting and thank you again for coming back tonight to talk to us about this application, but I'll give you the floor if you want to just describe what what the event is and how it's operating and how you're dealing with Covid-19 restrictions etc. You know wonderful, thank you so much joe and I recognize a lot of you from that conversation. We had a couple weeks ago. So thank you for giving me the opportunity to come back and I'm so sorry. I do not know yeah. I definitely show up so I was like oh, I felt so doubly sort of upset about. You know not getting the notifications and spam that to give the impression that the museum is not, you know a committed member to cb2, which we certainly are no not at all. I think it's an I mean it's a weird. You know it's a new email address for people to receive, so it's I'm sure it's yeah right but like in some. I just think we've the museum of Chinese America has suffered sort of a number of looming and active crises and I'll just name three of them in particular one we did have this fire on January 23, at our collection space, where 85 000 items were in jeopardy. They have been moved to four different places over the period of time since then, but the Good News is. I wanted to share, especially with cp2, is just today: we've taken additional space at 3 Howard street, where yeah we've opened up 4 000 square feet of temp space, and we have it really nicely done with a young architect who has helped us to outfit that space and as I was you know, preparing for this meeting. The items started coming back from those four places and convening basically into that space yeah, so that space will be used for repair and conservation of the 85 000 items. We're naming the space the workshop and it's meant to be a window into conservation, also to help really yeah build the character of the work that we do, but also for people who pass passerbys pedestrians to be able to look in, and it's a welcome public space. Obviously now with Covid-19 we're doing it in a time slot. So people might need to wait a bit, but we're definitely inviting people into that space and the Mocha Workshop is also the library and research center. So there'll be active public computers that people can use as well as housing and conserving the space so we'll be on both levels. The main floor and the second floor is the space that we've taken to help just repair that and the repair to just let the cbt know is a six year process. So it's not something that happens overnight and we already have a three year lease with an option to renew for another six years, so we're expecting a pretty near to midterm stay in that space in large part, because we want to stay committed to cb2. Our main building at 215 Center street also opens up to lafayette, is in cb2, and we anticipate that we will be renovating that space in about three years time. So that's something the one that was on the fire affected, one. No, the fire is actually in Cb3, that was on Mulberry Street. Oh sorry, our main museum that has 50 000 visitors a year is at 215 center, which is right around the block. So what our request here today is actually slightly abbreviated from the space, but it depends on how much time one would allow for a setup, but the active time, slotted, socially distanced, hope for Friday Saturday Sunday, which would be October, 16th, 17th and 18th, is to have socially distance units. Come every 15 to 20 minutes to basically see an insulation of window exhibits. Many people have talked about their reopening plans for museums given phase four, but I think those are the larger museums, and I think cb2 in particular has been very sensitive because it has so many small culturals that do not have the width and the space to really allow for efficient use of a reopening. So we've been trying to act creatively to help. You know also engage the community in this very difficult time for everyone, especially as mental you know, pressures are mounting to give somewhere a destination for people to go. So this is a free non charged event, but the windows are getting installed right now, both on center street, which is a main opening to the museum. We have about 60 feet of frontage and we're installing exhibits and then on lafayette, which you may know that we also have about 60 feet of frontage. We're installing window exhibits. This exhibit is called windows for Chinatown and it's meant to be sort of active on dialogue with the broader community about some of the racism. That's happened toward Chinatown in particular, given references around Kung, Flu and chinese virus and the impact that's had on China towns all over the country, but more particular in the one, that's neighboring cb2, and trying to give some of the positive components of what has happened since March 15th. So we've been collecting a number of stories of efforts across vast networks to provide Pp, safe, just devices and equipment that people have needed, PPE to hospitals and using this vast transnational networks of Americans and Chinese to be able to source some of those very necessary supplies, and we have these amazing stories of these people working together and also young people really trying to activate and create a voice around their own identity in this space, where they're dealing with racism for the first time. So these exhibits will basically be telling some of those stories and highlighting them for anyone who passes by. But we did want to have sort of like a formal launch of it on Friday Saturday Sunday, with stanchions keeping close to the frontage, so that I know is possible and permissible by DOT and then also having them start at 215 center go down the plot to Grand Street, make a left onto grand Street then make a left onto lafayette and see the exhibits on lafayette and then make a left onto Howard Street. So the request to close Howard street is part of a broader initiative for us to bring people back to the community to take a look at these exhibits and then also with the Mocha Workshop opening at three howard for them to reconnect with the fire, because I think a lot of people in our broader community had a lot of emotion around the fire. That's not just chinese Americans as anyone who understands their ancestry and the value of collections and the stories that those artifacts hold. And so we have received a outpouring of support around that and we wanted them to know that we were able to collect those things. So those will also be socially distanced in 15 to 20 segments of no more than four people and one unit visiting the space to see that we were able to bring back the items and then they would hopefully then also to try to help develop the patronage of Tiger restaurant that just opened at one Howard street. We have connected with them and in partnering with them that they would give special discounts for anyone who said Mocha or Mocha collections or something along those lines, they're deciding what that might be and to they have 85 seats of outdoor seating and obviously some capacity indoors with the relaxing of the restrictions, and that they would also help them bring some more patronage to their restaurant. Since they've been suffering so much with the opening just a few weeks ago, and also bringing them back to Cb2 so helping to establish a destination in cb2 that might help further us to create that concept of Cbt. I kind of like played with this like cb2 Bc, like c for culture like maybe you could do a progressive arts and cultural thing once all this craziness ends, and I really think with so many amazing museums and cb2 it'd be so awesome to like. Just do that. So I think we're trying to do less than the application had originally thing. We'd really just want Howard Street requesting that to be closed from between center and lafayette and that's you know to just make sure for safety purposes. People feel comfortable, but at no time are we expecting more than 20 people at any place, because we know that we ca not manage it, but we'll be giving out face masks if they do not have one and we will be. We have a sanitizer also when people slide in, but we will be reserving slots online prior to those days and it's so it's a street closure, then for howard, you said between center and lafayette and then is there still the sidewalk and and curb lane for Lafayette Street 147 lafayette. We were going to keep within the prescribed three feet of the frontage. Okay, you know we're sensitive to the other restaurants on lafayette. Also, there's a starbucks now there, as you know, and my favorite, you know Lecture K is there and I know that they have seating there, so we want to be sensitive to other people's needs there. So we wanted to stay to the frontage and not crowd that Pedestrian walkway and the frontage is moving the people through to look in at the window, exhibits and keeping exactly just keep moving and not overcrowding it so if they do not arrive at their slot, so we would encourage them to ride 15 minutes ahead of time. If they do not arrive within that period of time, we would give their slot away. So there's no exception to that. They can always see it on another date, but we're not going to make any exceptions to that safety. We only have a 13 person staff and we'll all be working it for the three days, so we're trying to protect our team as much as we're trying to protect other people right- and you said, and so will it be in 15 minute increments- that people are reserved exactly if we're looking at between 15 and 20, so we're doing a test run of it in the next couple of days. We did one already and 15 minutes seemed okay, but it also depends on weather and so we're kind of trying to figure out once we get the 10-day forecast. If it calls for anything, that's tricky weather, we might end up doing 20 minutes, because people will probably be slightly. You know over. You know delayed and they'll be staff, I guess throughout just kind of moving keeping the queue moving or keeping people moving absolutely, and we have a really good team of people who are very versed in that and when there'll be markers and way, finders on the street there'll be people at the corners directing them and making sure there's no bottleneck to we're just really sensitive to the businesses that are trying to get back to life. You know great anyone from the committee any questions you could do your raised hand in the chat. Yes, hello, yes, Mr, Huang, yes, hi Nasi! This is Edma. I know hi Ed hi, I'm so grateful. You are coming to report the program, us your leadership, your effort. You enrich your museum program as well as a community participation committee role. I have to say your museum has played a very active and enriching money community program more than any social service. So we are very grateful for you to play a role, multicultural. You are racial and, in addition to your museum, you know professional work and it's really wonderful work. You know, I always feel exactly. You are you, were you keep the your cultural function and the community service and the continuity? Despite your, you know, your fire in you know the firework and you seems to be without much interruption. I really appreciate your spirit, your courage, your leadership. Thank you very much for your performance. Very briefly, courageously. You know to come to us and so to expose the Community Ball Committee Board Cb2, to have you know and you'll benefit from your cultural and museum work. Thank you very much for watching nancy. May I ask you, could you I do not know whether you give your schedule proceedings give to jill? If not, I would suggest you give to him so that he can distribute all your schedule and details for more people's participation from Cb2. Thank you so much Ed, I'm like in tears. I really appreciate your encouragement. It has been very tricky and I do not know if I had a chance to mention this at the meeting, but Ford Foundation Big News, announcing it officially tomorrow they picked Mocha as one of 20 America's cultural treasures, so they're announcing formally yes, yeah, congrats, that's so exciting. So you have a cultural treasure in your community. It's wonderful and we're. In a small group I mean there are only five others in New York City. Oh yes, there's only 20 in the whole country that they've identified and the other five like we're like which one of these does not belong with the other. We just are so fortunate to be it's the Apollo Theater Alvin, Ailey, Museo, De, Barrio, Studio, Museum Harlem and the jazz center and Mocha, and so I for us it's like I've. It's been very emotional for us and we're the only chinese-, American history, museum in the mix of 20 and other asian american ones are three of them are in California and in the Pacific northwest, so cb2 you've got a cultural treasure. Congratulations! Thank you. Thank you yeah. So I will certainly give that to you. Give that to you, joe the schedule and oh yeah that'd be great yeah. We do yeah we'll make sure we put you on the distribution list, I'll, send it out to or have carter, send it to the Community, Board and Michael. Levine has a question. Yes Karen! Thank you. Nancy. Thank you so much for attending tonight. Just as a side remark, I was down on Mulberry street with my husband, the night of the fire. We were having dinner in one of the restaurants and as we emerged from the restaurant, we smelled the acrid smoke and no one knew where it was coming from when we got home and saw it on the news, we were heartbreaking to hear that it was the mocha. So it's really quite emotional for us and wonderful to see you here today and so glad to see that the museum is coming back. I have one question which I do not think I quite understand the nature of the street closure. Can you explain to us why you need to have the entire street closed? I know it's a small street in Arrow Street, but the path that people will be taking is viewing the windows on lafayette and then coming around to the temporary space on the narrow street. So why do you need the whole street closed as opposed to just the sidewalk in the curb Lane, I'm a little bit confused about the nature of that request. Can you explain it to us? That's such a fair question. Michael, I'm sorry! I apologize for not being clear about that. We, the one safety precaution was slightly worried about, is the end part just because we've seen a number of other situations where the congregation at the end of something it ends up being a bit trickier. So, although we can manage the 20 minutes, 20 minute slots, but as they end up on Howard street people may be loitering and we're afraid that if we loiter on the frontage pedestrian sidewalk on the howard, three howard side of the street, which would be the south side that it would end up becoming too much of a convening space and to be honest, we want to avoid any possibility of. You know that type of exposure- that's not safe and just given we know what we can handle. I think in some ways and we are nervous about handling that type of crowd, and so it's really a safety precaution. So if we had the whole street and Tiger restaurant because it's been quite popular in its first early weeks, it has gotten a lot of traffic, but there's a little bit of a waiting period, sometimes out front as well, and their frontage actually opens on at one howard versus nickel and diner that open more on center street. So their front door is on Howard Street. So that's also something that we're. Mindful of so. We feel that the safer component is because we still want this to be an active situation where units can be interacting, but they need to have more space. So it is out it's almost in the spirit of the open streets program, open restaurants program. It's to take the curb cur the right, the parking or the take it away from the vehicle movement and just allowing people more space to interact with social distance and guidelines, and the tiger has reserved a number of tables for us to be used for Mocha patrons I'll pick, people who will be visiting there so we're hoping that we're planting the seed for those people come see us to go to Tiger and then to come back to the to the community cb2 to then you know plant the seed for them to continue it so we're connected to every bit and peace of the community like people come here because they like to go to other places nearby and vice versa. So we're just trying to be smart about those partnerships and trying to help out as much as we can, because we do get over 50 000 people. So that's a huge destination and people have been anxious to come back to the museum, and this is a weekend it's an autumn. Hopefully, the weather is nice, so we're hoping to take advantage of that interest to help also some of the restaurants in the area. Thank you for the thank you for the explanation. I appreciate that. I think your request does make sense. Thank you so much Michael and Nancy. So that quote for Howard Street, it's the 15th 16th 17th is that right: 16 17, 18., Friday Saturday Sunday, if possible, 16 70 days. We understand that if community refuels, like any of that, if that's too much we'll take any day, I mean we would love the three days, but we understand that life is crazy now, so what whatever you feel like is possible we're comfortable with. We would love to be able to do it. You know fully on the three days, but we're deferring to safety and your judgment on these things. I mean Howard Street and not that section of Howard Street but Howard Street before the pandemic had started had been already. The the Broadway bid had been doing a play street for Howard Street on certain fridays and saturdays, for I think they only got to try it a couple of times, but I think because Howard Street is not. You know a well traveled vehicle street that it does not create some of the issues that other streets and the Community board have. But so SAPO was aware that you're applying for the closed street then for those days. Yes, I did inform them for with deidra. So I was a little confused by that process, but I can resend her an email after this meeting. If I should clarify that no I mean at this point because we're not you know it's. Probably it's going to be safe in sapo's hands who's, making the decision we can forward them our committee resolution, but the full board wo not be meeting in time for it. So just I think it's more important that you're communicating with sabo okay at this point in the process than you are with us. You know, but we're happy to have you here to hear those details. Yeah is there anyone else from the committee that has questions? Okay, great you're, welcome to stay nancy, we'll go into our business session and a few more minutes after we discuss a couple more items. But if you email me the those details, I can let you know what happened with the committee meeting today and then you can use that for your conversations with staple going forward. I appreciate it. Thank you so much and stay safe everyone, and hopefully maybe on the 16th, 17th and 18th. You know whether it's closed or not, we'll be we'll be doing the stanchions and the window exhibits. That sounds great stay safe and you know let's get through this thing. Thank you. So much take care bye. Thank you. Thank you, Nancy. Thank you all right and now we'll move on to. I do not think anyone is here from the south village farmers market, it's David Gruber's little neighborhood bid. That runs. You know they usually have like the pickle man out in this at the at the intersection of carmine and Sixth Avenue and Bleeker, where they all meet, but they're planning. On doing I took David called me to say that they're planning on just between Thanksgiving and Christmas, having, I think we just won farmers Vendor on the weekends for that time, but that's just a renewal, so no one's here to speak for that application or again, so we wo not do a hearing for it and then the last thing is what we're doing all the committees are doing at this point of the year is to prioritize our expense. We only have quality life only has expense budget priorities they're. Basically like ongoing funding things that we've requested each year and I listed in the email. I sent everyone what our requests have been over the past few years and the order that they that we've been requesting them in. So it's basically just us deciding if we want to reorganize any of our requests. If there's any new requests and the one that I pointed out here at the bottom is because the composting has been because of budget cuts suspended at this time. So we could put in a budget request to reinstitute Re Institute the program for residential composting, and then our other ones are here. So this was our top request. Last year was to have more sidewalk cafe. Inspectors seems like that would be a high priority. One now, based on you know the proliferation of sidewalk cafes everywhere. Our second was for SAPO to do a study on full street closures in Cb2 and their effect on businesses and residents that one was not fulfilled. Yet I think their response was that it's something that they would hope to do. Then we have asking for SAPO enforcement funding so that they can actually be going to the street activity. Events that they approve to make sure that everything is in compliance, which is something that is not typically done right now, then, we have similarly to have the film permitting office, conduct enforcement and compliance to make sure that the permits that they're issuing are being complied with, and then our last one is to study the quantity and condition of trash containers. Sidewalk trash containers pick up schedules which seems more important now during the pandemic. Because of the I mean, that's a budget cut too there have been, I think, they've been better about it in the last few weeks, but that you know people might have noticed that garbage cans are just overflowing because there's many more pedestrians outside and less department of sanitation workers emptying them. Does anyone have anything that they want to move around? Should we continue these for next year? So what the committee we will prioritize these as we see fit and then we'll pass those on. Basically, the executive committee will then take all of the requests from all of the committees and prioritize them. You know Joe. Can we go back to the first one? I'm sorry, if you completed the list, can you read that again because there could be some confusion between the standard sidewalk cafes, which are regulated by department of consumer affairs and the sidewalk dining now, which is department of transportation yeah? Can we back the wording on that first, one again, yeah right now, it says: allocate funds to hire additional department of consumer affairs, inspectors to work, nights and weekends, to conduct enforcement and compliance of sidewalk cafe regulations, a major weakness yeah. This has nothing to do with the department of transportation. No, the DOT requests typically come from traffic and transportation, but we could say we could add, you know, allocate funds to hire additional DCA and Department of transportation inspectors. Oh, I think that would be wonderful, because there are violations that a lot of us do see from time to time, yeah now in the sidewalk dining. So if we could make that clear, that would be really good, yeah and I'll put in language saying we mean both the traditional I'm sorry until July 1st 2021, and so we have no idea if we'll go back to standard, sidewalk, cafes or dining in this on the streets. So it's good to cover both yeah. That makes sense, yeah I'll, add in that language and keep that number one. Does everyone think I think so and then no? I was going to the trash pickups and the corner bins, that's something that we should ask them to reinstate in areas is necessary to more pickups, and when you try to move that one up, there's trash blowing all over the place. I mean it's really bad and for our community you know that's really important. Why do not we move that one up to number two, because basically SAPO is there's hardly any street activities right now, so for the next fiscal year we could add it there to the second our second priority and then keep the others as they are in that order and then add residential composting. I guess at the end, I just wanted to point out that the mayor's office of Media and entertainment there's supposed to be a police officer out at every filming location. So I do not know what they're doing there if they're providing enforcement, if they're just hanging out right on every shoot, Linda there's supposed to be a NYPD okay. Maybe I can put some language in that. In addition to any support, we think that there should be additional mom enforcement specific to each shoot. Okay, I'll put I'll, add that language and also at some point, could we consider the department of buildings inspectors. You know it's not going to stay quiet forever. Certain things have already redeemed construction. That's something! We've always had problems with here with department of building or violations yeah. I think that would be in the land use, I'm not sure if they already have one but I'll check but yeah. That would not come from our committee, but land use which they might have. I have to go back and check. Thank you all right. Oh rocio, hi everybody. It's so nice to see everybody again. I just have one comment in my buildings. We decided to do the composting and I'll tell you. We signed up a few of our buildings and unfortunately, none of the tenants really wanted to participate or participated. It was such a waste of money to get all those bins and then people were not using them. So I would say that, just if your last item is fine but okay, I do not know if even should be included. My experience was negative because they came, they taught us. They brought the equipment, they brought all the flyers that we posted up in our buildings and still people did not. So they actually said sorry we're not going to be picking up your little bits of compost that you're putting out right, so they decided to cancel most of all my buildings, I mean. Maybe we can put the language that not just to allocate funds, but it is it's such a troubling thing, because I even in my building, I knew that we have enough units- and I just did not want to go through the rigmarole of trying to coordinate it with our landlord and get it set up. I set up my own composting thing in our in our courtyard, but it is I mean it's such because it can have such an impact on lessening the amount of waste that we're producing, because it's heavy stuff you know so it's just so frustrating. I do think it takes a lot of outreach and a lot, but you even had education and it did not sway anyone to do it so yeah. It would definitely be lower on our priorities if, towards the end and and maybe and I'll put in language saying you know to bolster outreach or education programs about the importance of composting. But it's interesting, let me tell you Joe people do not even know how to or want to even recycle properly yeah. So you ca not even get them to put the plastic in one container in a glass in the container and separate they wo. Not even do that yeah. So can you imagine trying to get them to do composting? It's just nearly impossible. It's so sad! I mean I I'm very conscientious about it. Oh, I know oh yeah, but unfortunately I think the department of sanitation has been sad. I think they expected this to take off and it just kind of was yeah. Absolutely thanks, museum sure. So any more comments on these. Aside from what we've already discussed and then all right so now we'll go into business session. One thing is: are there any other sort of quality of life things that have come up since Covid-19 has been yeah? I was looking through our resolutions. Oh you. I mean nothing that we've discussed and not Covid-19 related, but I mean the trash I mean like there. Any other budget cuts that people anticipate. That might be coming, that we want to make sure you know that they're important to us. I mean I'm just throwing out, because it's no, I know something we do not normally think about, but right now going into this time period. You know it's just shocking to see the Bin Pickup get cut first at the expense of so many other things and yeah I mean I I'll finesse, the language for the bins. I mean right now we're asking for allocate funds first to study the quantity and condition, but I'd say. Maybe we take out the study and to say to you know: re- uh put that money back in and then I mean now yeah it's become pretty desperate yeah and I know they stopped the pickups on Sunday, which is sort of absurd, because our community so much weekend right so heavily on the weekends and make more sense to cut it on Wednesday or something or Tuesday Joe. Could we use a language, something like to reallocate resources to improve pickups on weekends, which is the heaviest traffic yeah, to make it clear that we're talking about reallocating limited resources yeah? That access point is a good one of all the things for them to eliminate they've eliminated, something really important yeah. That has a detrimental impact for sure on quality of life yeah. And what are we saying all right, yeah, so that'll be number two, but other than that, I'm trying to think and joke going back to the containers for the garbage. I discussed it in the past. I said these containers must should be very improved because yeah rat population in New York is horrible, more rats and people. I think so. If we could have something that yeah about Vermin proof. Yes, containers are very proven: they have them in many. Do we have any vermin proof other than in Chinatown, where I've seen the big values? Do we have any vermin proof in Cb2? We have a few, and I know I'm on right on my block on Sullivan and West. Third, they have those ones that you have to open them. There's the blue belly right trash can, but they do not seem to be super efficient. Another thing to Rocio's point is, you know any any of the rat programs or extermination programs. You know if that's it's not something you've typically put in, but if they're cutting budgets, that's you know. Baiting programs are an easy thing to cut, but they're really important in some of the sites. I do not know how they address that, but just I am not a graduate of the Rat academy. We might need to ask you, there's. Probably I graduated from the radicand I did. I did the class a few times. I do not know yeah. I do not know who does that, but that's I've always wanted to, but that never seems to be wonderful is not that the Department of Health. I recall, having seen the presentation builder, guys, specific budget requests from the parks, but I'll add language to that. Our Trashcan one about rap all right, so the rat population is really a health concern. It's just not unsightly. It's just for our own health and unfortunately, every time if anybody calls regarding rats, the Department of Health goes around to the buildings and they will issue violations to any building that has anything a little hole or they think they, and so who ends up getting the in trouble, always the land owner right. So sometimes you do not even want to call them in because who's going to get the fine. It's three hundred dollars from the Department of Health, who says they send treatment of a group of people to treat the area and I've seen the bait stations that have never been dealt with, and you can see them the same way. They're dirty and nobody has done anything. But yet they charge the owners of the buildings, a lot of money for not doing a job which is horrible, but that's what it is all right. So we'll add some rat language to the sanitation request, all right. So now we'll go back so Mocha has already had you know. Well, so the application they had for us was sidewalk and curb enclosure, and it sounds like they're now trying to work with SAPO to do the street closure and not the sidewalk concurrently enclosures, because she said they're just using their three feet in front of the windows, which does not require a SAPO permit. So we can recommend approval or denial for the street closure on howard, and I guess I do not know carter. Can we communicate that to SAPO or is it just kind of a we've spoke to the community and they're supportive type thing that Moko will do with if we're supportive? I guess we just pass a resolution and then the full board will vote and we can let sabo know that you know our meeting is until their event is already happening. Is that true, though so they're our meeting our next? Our meeting is? Oh, no. Our meeting is on the 22nd carter yeah, it's two thursdays, oh so there I mean. Oh yes, so our meeting will already will be after their event has already happened. You know what you, what Bob Gormley could communicate to them. If it were in fact the case that we do not have any objections or no objections were raised, we're not giving an opinion, but they had an opportunity for a hearing. We did not hear anything from the community against this. You know the committee members did not raise objections. I mean that's. Those are all accurate statements and give some feedback. Does anyone have any objections to that? So it's basically for a street closure from Howard Street for Friday Saturday Sunday, the 16th through the 18th. I think it sounds probably better that they do it this way, so that there is not a congregation of people on that block, and can we say something in the statement, although it might not be a resolution that we are plea that we welcome them back into the community yeah. Absolutely yes, absolutely yeah, because Chinatown has to suffer tremendously because of fire and they burn almost 80 000 books. You know the I think they rescue most of them, so the even the mayor gives some a lot of money to recuperate for the museum, and so the city hall involved a lot of work. You know for their recovery, so really quite an agenda, so if they you know they come to have this excellent exhibit, I think, expecting a lot of people will come to celebrate their recovery. I can put that in the resolution, and I think you should highlight the what they said. They were using the three Howard Street location, for because that's kind of interesting makes this very unique that yeah they're using yeah to you, know recapture all their damaged documents. Yes, you did. Yes, that makes it very unique. You know I do not know if this is something as forward. We allow street closures for everything, but this is a very unique and I think, that's important for surely all right, so everyone recommends approval on that application. Yes, thanks and then we do not have to does anyone so there any objections to recommending approval for the farmers market, the south village, okay, so that'll be recommended approval unanimously, and then we did the budget requests great under an hour. It's so nice to see everyone being here, thanks Joe! Thank you all. Thank you. Thank you. Thank you for so quick. Thank you. Ed, yes, thank you, everybody. We will stay well so healthy. Thank you, bye, good night, goodbye, everyone. Thank you safe and healthy, and.</font><br/>"
      ],
      "text/plain": [
       "<IPython.core.display.Markdown object>"
      ]
     },
     "metadata": {},
     "output_type": "display_data"
    }
   ],
   "source": [
    "output_list, word_count, title = read_summary(\"J_GZnFIjrF8\",\"fullTranscript\")"
   ]
  },
  {
   "cell_type": "code",
   "execution_count": 23,
   "metadata": {},
   "outputs": [
    {
     "data": {
      "text/plain": [
       "'80 000 books'"
      ]
     },
     "execution_count": 23,
     "metadata": {},
     "output_type": "execute_result"
    }
   ],
   "source": [
    "regex = \"(\\\\d)(?=(\\\\d{3})+$)\";\n",
    "\n",
    "num0.replace(regex, \"$1,\")"
   ]
  },
  {
   "cell_type": "code",
   "execution_count": 21,
   "metadata": {},
   "outputs": [],
   "source": [
    "num0 = \"80 000 books\""
   ]
  },
  {
   "cell_type": "code",
   "execution_count": 3,
   "metadata": {},
   "outputs": [
    {
     "name": "stdout",
     "output_type": "stream",
     "text": [
      "{'YoutubeMetadata': {'author': 'MCB2', 'channelId': 'https://www.youtube.com/channel/UCiu7IDXevm25ExsH_caRcTw', 'title': 'October 2020 Quality of Life Meeting (10 /5/20)', 'publishDate': '2020-10-06', 'shortDescription': '1. *Street Activities:\\\\n\\\\n\\\\n10/14/20 - 10/19/20 - MOCA Workshop and Window Exhibits (Museum of Chinese in America): Howard St. between Centre St. and Lafayette St. [sidewalk and curb lane closure - both sides]\\\\n\\\\n\\\\n11/15/20 - Pride on Astor Fair (Pride Democrats): Astor Place between Broadway and Lafayette St.  [full street closure] (event has been denied by SAPO)\\\\n\\\\n\\\\n *FYI Renewals:\\\\n\\\\n\\\\n11/23/20 - 12/24/20 - South Village Farmers Market (David Gruber): 6th Avenue between Carmine St. and West 3rd St.\\\\n\\\\n\\\\n2.  *Discussion of Expense Budget Priorities for Fiscal Year 2022.'}, 'metadata': {'ID': 'String', 'creationDate': 'datetime'}, 'CommunityBoardInfo': {'communityID': 'MCB2', 'normalizedName': 'Manhattan Community Board 2', 'twitterName': 'Community Board 2M', 'youtubeChannelName': 'Community Board 2', 'youtubeChannelURL': 'https://www.youtube.com/channel/UC3kEY0n-RPRYE6rOlfstFDQ', 'twitterHandle': '@CB2_Manhattan', 'dateCheckLast': '10/8/2020', 'status': 'live'}, 'properties': {'videoURL': 'J_GZnFIjrF8', 'fillerWordCount': {'uh': 60, 'um': 126}, 'wordCountFullTranscript': {'street': 28, 'space': 21, 'sidewalk': 13, 'museum': 13, 'language': 10, 'event': 9, 'lafayette': 9, 'request': 8, 'fire': 8, 'exhibits': 8}, 'wordCountSummary': {'street': 11, 'space': 8, 'closure': 3, 'fire': 3, 'windows': 3, 'sanitation': 3, 'window': 2, 'sidewalk': 2, 'museum': 2, 'feet': 2}, 'fullTranscript': \"So welcome everyone. My name is Joe Gallagher, the chair. Oh well, let's wait for Nancy to cut back in there's our one applicant, so she can hear this info joe. While we're waiting. Can I ask you a question about the application, the other application for the pride event that was crossed off the agenda? Have they withdrawn or did SAPO what happened? I yeah I'm not sure of the particulars, but I bet SAPO. They had a discussion with SAPO and then maybe it was not consistent with the kovit guidelines that that's just my guess. It was the culvert guidelines. It was not necessarily about the event. It was just the event taking place now. I really do not know that was just my presuming, so I'm wondering if we can ever while we're just waiting another minute, get a clear statement of policy from staple as to what they are allowing and what they're not allowing given the fact that there might be a second wave coming. What can we as a community would expect Joe if that's possible? Perhaps we can do that at all yeah Bob and I have been trying to get someone from SAPO to come and speak, but I think they are also kind of not quite you know. I think it's touch and go for everyone at this point, but yeah. Thank you. I'll follow up with SAPO to try to have someone come and speak great. Thank you all right and I see our applicant is back so thanks. Everyone welcome to the quality of Life committee meeting of Community Board 2. My name is Joe Gallagher, I'm the chair, our other members are here on zoom, so you can see Edma Michael, Levine, Susan, Kent, Brian, Pate, Linda, Azer, a public member and rocio sons. So we hear applications for sidewalk activities and sorry sidewalk, cafes and street activities and other quality of life issues. We are asked to comment on certain applications by city agencies. We recommend approval or denial and then send that on to the full board, which we'll be meeting next Thursday. I'm pretty sure is that right carter next Thursday via zoom, and then we send on our comment our recommendation to the city agency and they will use our recommendation as part of their process for determining whether certain applications are approved or denied. So to we have a small agenda tonight, I'm going to share my screen so that we can all be on the same page we're starting with this first application. So they were on our agenda for last month for the Moca workshop and window Exhibits Museum of Chinese in America on Howard Street, between Center Street and Lafayette Street, and it's for a sidewalk and curb lane closure for both sides. Unfortunately, the notification for the meeting to Moca went to their spam folder, so they were not aware of the request for an appearance and, as is the case always when an applicant does not appear, we recommend denial, but Mocha then reached out and asked if they could come and speak to us this month to hear the particulars of their application. Unfortunately, the full board is meeting just after their event is starting. So we're here tonight to hear the details of it and we can pass a resolution, but it wo not be timely. The full board will get the resolution, but it'll be during the event. The events already happening, and I think we have Nancy Yao Mazbach from Mocha who's here to talk about the application I'll open that in a another window, are you there nancy? Can you hear me I can hear you. Oh great. Welcome, I'm sorry about that. Snafu. With last month's meeting, I had the opportunity that our re reopening working group met two weeks ago and nancy. You were a part of that panel that spoke about museums in our community that are about their. You know, difficulties or they're dealing with, or the reopening plans appreciate that you were at that meeting and thank you again for coming back tonight to talk to us about this application, but I'll give you the floor if you want to just describe what what the event is and how it's operating and how you're dealing with Covid-19 restrictions etc. You know wonderful, thank you so much joe and I recognize a lot of you from that conversation. We had a couple weeks ago. So thank you for giving me the opportunity to come back and I'm so sorry. I do not know yeah. I definitely show up so I was like oh, I felt so doubly sort of upset about. You know not getting the notifications and spam that to give the impression that the museum is not, you know a committed member to cb2, which we certainly are no not at all. I think it's an I mean it's a weird. You know it's a new email address for people to receive, so it's I'm sure it's yeah right but like in some. I just think we've the museum of Chinese America has suffered sort of a number of looming and active crises and I'll just name three of them in particular one we did have this fire on January 23, at our collection space, where 85 000 items were in jeopardy. They have been moved to four different places over the period of time since then, but the Good News is. I wanted to share, especially with cp2, is just today: we've taken additional space at 3 Howard street, where yeah we've opened up 4 000 square feet of temp space, and we have it really nicely done with a young architect who has helped us to outfit that space and as I was you know, preparing for this meeting. The items started coming back from those four places and convening basically into that space yeah, so that space will be used for repair and conservation of the 85 000 items. We're naming the space the workshop and it's meant to be a window into conservation, also to help really yeah build the character of the work that we do, but also for people who pass passerbys pedestrians to be able to look in, and it's a welcome public space. Obviously now with Covid-19 we're doing it in a time slot. So people might need to wait a bit, but we're definitely inviting people into that space and the Mocha Workshop is also the library and research center. So there'll be active public computers that people can use as well as housing and conserving the space so we'll be on both levels. The main floor and the second floor is the space that we've taken to help just repair that and the repair to just let the cbt know is a six year process. So it's not something that happens overnight and we already have a three year lease with an option to renew for another six years, so we're expecting a pretty near to midterm stay in that space in large part, because we want to stay committed to cb2. Our main building at 215 Center street also opens up to lafayette, is in cb2, and we anticipate that we will be renovating that space in about three years time. So that's something the one that was on the fire affected, one. No, the fire is actually in Cb3, that was on Mulberry Street. Oh sorry, our main museum that has 50 000 visitors a year is at 215 center, which is right around the block. So what our request here today is actually slightly abbreviated from the space, but it depends on how much time one would allow for a setup, but the active time, slotted, socially distanced, hope for Friday Saturday Sunday, which would be October, 16th, 17th and 18th, is to have socially distance units. Come every 15 to 20 minutes to basically see an insulation of window exhibits. Many people have talked about their reopening plans for museums given phase four, but I think those are the larger museums, and I think cb2 in particular has been very sensitive because it has so many small culturals that do not have the width and the space to really allow for efficient use of a reopening. So we've been trying to act creatively to help. You know also engage the community in this very difficult time for everyone, especially as mental you know, pressures are mounting to give somewhere a destination for people to go. So this is a free non charged event, but the windows are getting installed right now, both on center street, which is a main opening to the museum. We have about 60 feet of frontage and we're installing exhibits and then on lafayette, which you may know that we also have about 60 feet of frontage. We're installing window exhibits. This exhibit is called windows for Chinatown and it's meant to be sort of active on dialogue with the broader community about some of the racism. That's happened toward Chinatown in particular, given references around Kung, Flu and chinese virus and the impact that's had on China towns all over the country, but more particular in the one, that's neighboring cb2, and trying to give some of the positive components of what has happened since March 15th. So we've been collecting a number of stories of efforts across vast networks to provide Pp, safe, just devices and equipment that people have needed, PPE to hospitals and using this vast transnational networks of Americans and Chinese to be able to source some of those very necessary supplies, and we have these amazing stories of these people working together and also young people really trying to activate and create a voice around their own identity in this space, where they're dealing with racism for the first time. So these exhibits will basically be telling some of those stories and highlighting them for anyone who passes by. But we did want to have sort of like a formal launch of it on Friday Saturday Sunday, with stanchions keeping close to the frontage, so that I know is possible and permissible by DOT and then also having them start at 215 center go down the plot to Grand Street, make a left onto grand Street then make a left onto lafayette and see the exhibits on lafayette and then make a left onto Howard Street. So the request to close Howard street is part of a broader initiative for us to bring people back to the community to take a look at these exhibits and then also with the Mocha Workshop opening at three howard for them to reconnect with the fire, because I think a lot of people in our broader community had a lot of emotion around the fire. That's not just chinese Americans as anyone who understands their ancestry and the value of collections and the stories that those artifacts hold. And so we have received a outpouring of support around that and we wanted them to know that we were able to collect those things. So those will also be socially distanced in 15 to 20 segments of no more than four people and one unit visiting the space to see that we were able to bring back the items and then they would hopefully then also to try to help develop the patronage of Tiger restaurant that just opened at one Howard street. We have connected with them and in partnering with them that they would give special discounts for anyone who said Mocha or Mocha collections or something along those lines, they're deciding what that might be and to they have 85 seats of outdoor seating and obviously some capacity indoors with the relaxing of the restrictions, and that they would also help them bring some more patronage to their restaurant. Since they've been suffering so much with the opening just a few weeks ago, and also bringing them back to Cb2 so helping to establish a destination in cb2 that might help further us to create that concept of Cbt. I kind of like played with this like cb2 Bc, like c for culture like maybe you could do a progressive arts and cultural thing once all this craziness ends, and I really think with so many amazing museums and cb2 it'd be so awesome to like. Just do that. So I think we're trying to do less than the application had originally thing. We'd really just want Howard Street requesting that to be closed from between center and lafayette and that's you know to just make sure for safety purposes. People feel comfortable, but at no time are we expecting more than 20 people at any place, because we know that we ca not manage it, but we'll be giving out face masks if they do not have one and we will be. We have a sanitizer also when people slide in, but we will be reserving slots online prior to those days and it's so it's a street closure, then for howard, you said between center and lafayette and then is there still the sidewalk and and curb lane for Lafayette Street 147 lafayette. We were going to keep within the prescribed three feet of the frontage. Okay, you know we're sensitive to the other restaurants on lafayette. Also, there's a starbucks now there, as you know, and my favorite, you know Lecture K is there and I know that they have seating there, so we want to be sensitive to other people's needs there. So we wanted to stay to the frontage and not crowd that Pedestrian walkway and the frontage is moving the people through to look in at the window, exhibits and keeping exactly just keep moving and not overcrowding it so if they do not arrive at their slot, so we would encourage them to ride 15 minutes ahead of time. If they do not arrive within that period of time, we would give their slot away. So there's no exception to that. They can always see it on another date, but we're not going to make any exceptions to that safety. We only have a 13 person staff and we'll all be working it for the three days, so we're trying to protect our team as much as we're trying to protect other people right- and you said, and so will it be in 15 minute increments- that people are reserved exactly if we're looking at between 15 and 20, so we're doing a test run of it in the next couple of days. We did one already and 15 minutes seemed okay, but it also depends on weather and so we're kind of trying to figure out once we get the 10-day forecast. If it calls for anything, that's tricky weather, we might end up doing 20 minutes, because people will probably be slightly. You know over. You know delayed and they'll be staff, I guess throughout just kind of moving keeping the queue moving or keeping people moving absolutely, and we have a really good team of people who are very versed in that and when there'll be markers and way, finders on the street there'll be people at the corners directing them and making sure there's no bottleneck to we're just really sensitive to the businesses that are trying to get back to life. You know great anyone from the committee any questions you could do your raised hand in the chat. Yes, hello, yes, Mr, Huang, yes, hi Nasi! This is Edma. I know hi Ed hi, I'm so grateful. You are coming to report the program, us your leadership, your effort. You enrich your museum program as well as a community participation committee role. I have to say your museum has played a very active and enriching money community program more than any social service. So we are very grateful for you to play a role, multicultural. You are racial and, in addition to your museum, you know professional work and it's really wonderful work. You know, I always feel exactly. You are you, were you keep the your cultural function and the community service and the continuity? Despite your, you know, your fire in you know the firework and you seems to be without much interruption. I really appreciate your spirit, your courage, your leadership. Thank you very much for your performance. Very briefly, courageously. You know to come to us and so to expose the Community Ball Committee Board Cb2, to have you know and you'll benefit from your cultural and museum work. Thank you very much for watching nancy. May I ask you, could you I do not know whether you give your schedule proceedings give to jill? If not, I would suggest you give to him so that he can distribute all your schedule and details for more people's participation from Cb2. Thank you so much Ed, I'm like in tears. I really appreciate your encouragement. It has been very tricky and I do not know if I had a chance to mention this at the meeting, but Ford Foundation Big News, announcing it officially tomorrow they picked Mocha as one of 20 America's cultural treasures, so they're announcing formally yes, yeah, congrats, that's so exciting. So you have a cultural treasure in your community. It's wonderful and we're. In a small group I mean there are only five others in New York City. Oh yes, there's only 20 in the whole country that they've identified and the other five like we're like which one of these does not belong with the other. We just are so fortunate to be it's the Apollo Theater Alvin, Ailey, Museo, De, Barrio, Studio, Museum Harlem and the jazz center and Mocha, and so I for us it's like I've. It's been very emotional for us and we're the only chinese-, American history, museum in the mix of 20 and other asian american ones are three of them are in California and in the Pacific northwest, so cb2 you've got a cultural treasure. Congratulations! Thank you. Thank you yeah. So I will certainly give that to you. Give that to you, joe the schedule and oh yeah that'd be great yeah. We do yeah we'll make sure we put you on the distribution list, I'll, send it out to or have carter, send it to the Community, Board and Michael. Levine has a question. Yes Karen! Thank you. Nancy. Thank you so much for attending tonight. Just as a side remark, I was down on Mulberry street with my husband, the night of the fire. We were having dinner in one of the restaurants and as we emerged from the restaurant, we smelled the acrid smoke and no one knew where it was coming from when we got home and saw it on the news, we were heartbreaking to hear that it was the mocha. So it's really quite emotional for us and wonderful to see you here today and so glad to see that the museum is coming back. I have one question which I do not think I quite understand the nature of the street closure. Can you explain to us why you need to have the entire street closed? I know it's a small street in Arrow Street, but the path that people will be taking is viewing the windows on lafayette and then coming around to the temporary space on the narrow street. So why do you need the whole street closed as opposed to just the sidewalk in the curb Lane, I'm a little bit confused about the nature of that request. Can you explain it to us? That's such a fair question. Michael, I'm sorry! I apologize for not being clear about that. We, the one safety precaution was slightly worried about, is the end part just because we've seen a number of other situations where the congregation at the end of something it ends up being a bit trickier. So, although we can manage the 20 minutes, 20 minute slots, but as they end up on Howard street people may be loitering and we're afraid that if we loiter on the frontage pedestrian sidewalk on the howard, three howard side of the street, which would be the south side that it would end up becoming too much of a convening space and to be honest, we want to avoid any possibility of. You know that type of exposure- that's not safe and just given we know what we can handle. I think in some ways and we are nervous about handling that type of crowd, and so it's really a safety precaution. So if we had the whole street and Tiger restaurant because it's been quite popular in its first early weeks, it has gotten a lot of traffic, but there's a little bit of a waiting period, sometimes out front as well, and their frontage actually opens on at one howard versus nickel and diner that open more on center street. So their front door is on Howard Street. So that's also something that we're. Mindful of so. We feel that the safer component is because we still want this to be an active situation where units can be interacting, but they need to have more space. So it is out it's almost in the spirit of the open streets program, open restaurants program. It's to take the curb cur the right, the parking or the take it away from the vehicle movement and just allowing people more space to interact with social distance and guidelines, and the tiger has reserved a number of tables for us to be used for Mocha patrons I'll pick, people who will be visiting there so we're hoping that we're planting the seed for those people come see us to go to Tiger and then to come back to the to the community cb2 to then you know plant the seed for them to continue it so we're connected to every bit and peace of the community like people come here because they like to go to other places nearby and vice versa. So we're just trying to be smart about those partnerships and trying to help out as much as we can, because we do get over 50 000 people. So that's a huge destination and people have been anxious to come back to the museum, and this is a weekend it's an autumn. Hopefully, the weather is nice, so we're hoping to take advantage of that interest to help also some of the restaurants in the area. Thank you for the thank you for the explanation. I appreciate that. I think your request does make sense. Thank you so much Michael and Nancy. So that quote for Howard Street, it's the 15th 16th 17th is that right: 16 17, 18., Friday Saturday Sunday, if possible, 16 70 days. We understand that if community refuels, like any of that, if that's too much we'll take any day, I mean we would love the three days, but we understand that life is crazy now, so what whatever you feel like is possible we're comfortable with. We would love to be able to do it. You know fully on the three days, but we're deferring to safety and your judgment on these things. I mean Howard Street and not that section of Howard Street but Howard Street before the pandemic had started had been already. The the Broadway bid had been doing a play street for Howard Street on certain fridays and saturdays, for I think they only got to try it a couple of times, but I think because Howard Street is not. You know a well traveled vehicle street that it does not create some of the issues that other streets and the Community board have. But so SAPO was aware that you're applying for the closed street then for those days. Yes, I did inform them for with deidra. So I was a little confused by that process, but I can resend her an email after this meeting. If I should clarify that no I mean at this point because we're not you know it's. Probably it's going to be safe in sapo's hands who's, making the decision we can forward them our committee resolution, but the full board wo not be meeting in time for it. So just I think it's more important that you're communicating with sabo okay at this point in the process than you are with us. You know, but we're happy to have you here to hear those details. Yeah is there anyone else from the committee that has questions? Okay, great you're, welcome to stay nancy, we'll go into our business session and a few more minutes after we discuss a couple more items. But if you email me the those details, I can let you know what happened with the committee meeting today and then you can use that for your conversations with staple going forward. I appreciate it. Thank you so much and stay safe everyone, and hopefully maybe on the 16th, 17th and 18th. You know whether it's closed or not, we'll be we'll be doing the stanchions and the window exhibits. That sounds great stay safe and you know let's get through this thing. Thank you. So much take care bye. Thank you. Thank you, Nancy. Thank you all right and now we'll move on to. I do not think anyone is here from the south village farmers market, it's David Gruber's little neighborhood bid. That runs. You know they usually have like the pickle man out in this at the at the intersection of carmine and Sixth Avenue and Bleeker, where they all meet, but they're planning. On doing I took David called me to say that they're planning on just between Thanksgiving and Christmas, having, I think we just won farmers Vendor on the weekends for that time, but that's just a renewal, so no one's here to speak for that application or again, so we wo not do a hearing for it and then the last thing is what we're doing all the committees are doing at this point of the year is to prioritize our expense. We only have quality life only has expense budget priorities they're. Basically like ongoing funding things that we've requested each year and I listed in the email. I sent everyone what our requests have been over the past few years and the order that they that we've been requesting them in. So it's basically just us deciding if we want to reorganize any of our requests. If there's any new requests and the one that I pointed out here at the bottom is because the composting has been because of budget cuts suspended at this time. So we could put in a budget request to reinstitute Re Institute the program for residential composting, and then our other ones are here. So this was our top request. Last year was to have more sidewalk cafe. Inspectors seems like that would be a high priority. One now, based on you know the proliferation of sidewalk cafes everywhere. Our second was for SAPO to do a study on full street closures in Cb2 and their effect on businesses and residents that one was not fulfilled. Yet I think their response was that it's something that they would hope to do. Then we have asking for SAPO enforcement funding so that they can actually be going to the street activity. Events that they approve to make sure that everything is in compliance, which is something that is not typically done right now, then, we have similarly to have the film permitting office, conduct enforcement and compliance to make sure that the permits that they're issuing are being complied with, and then our last one is to study the quantity and condition of trash containers. Sidewalk trash containers pick up schedules which seems more important now during the pandemic. Because of the I mean, that's a budget cut too there have been, I think, they've been better about it in the last few weeks, but that you know people might have noticed that garbage cans are just overflowing because there's many more pedestrians outside and less department of sanitation workers emptying them. Does anyone have anything that they want to move around? Should we continue these for next year? So what the committee we will prioritize these as we see fit and then we'll pass those on. Basically, the executive committee will then take all of the requests from all of the committees and prioritize them. You know Joe. Can we go back to the first one? I'm sorry, if you completed the list, can you read that again because there could be some confusion between the standard sidewalk cafes, which are regulated by department of consumer affairs and the sidewalk dining now, which is department of transportation yeah? Can we back the wording on that first, one again, yeah right now, it says: allocate funds to hire additional department of consumer affairs, inspectors to work, nights and weekends, to conduct enforcement and compliance of sidewalk cafe regulations, a major weakness yeah. This has nothing to do with the department of transportation. No, the DOT requests typically come from traffic and transportation, but we could say we could add, you know, allocate funds to hire additional DCA and Department of transportation inspectors. Oh, I think that would be wonderful, because there are violations that a lot of us do see from time to time, yeah now in the sidewalk dining. So if we could make that clear, that would be really good, yeah and I'll put in language saying we mean both the traditional I'm sorry until July 1st 2021, and so we have no idea if we'll go back to standard, sidewalk, cafes or dining in this on the streets. So it's good to cover both yeah. That makes sense, yeah I'll, add in that language and keep that number one. Does everyone think I think so and then no? I was going to the trash pickups and the corner bins, that's something that we should ask them to reinstate in areas is necessary to more pickups, and when you try to move that one up, there's trash blowing all over the place. I mean it's really bad and for our community you know that's really important. Why do not we move that one up to number two, because basically SAPO is there's hardly any street activities right now, so for the next fiscal year we could add it there to the second our second priority and then keep the others as they are in that order and then add residential composting. I guess at the end, I just wanted to point out that the mayor's office of Media and entertainment there's supposed to be a police officer out at every filming location. So I do not know what they're doing there if they're providing enforcement, if they're just hanging out right on every shoot, Linda there's supposed to be a NYPD okay. Maybe I can put some language in that. In addition to any support, we think that there should be additional mom enforcement specific to each shoot. Okay, I'll put I'll, add that language and also at some point, could we consider the department of buildings inspectors. You know it's not going to stay quiet forever. Certain things have already redeemed construction. That's something! We've always had problems with here with department of building or violations yeah. I think that would be in the land use, I'm not sure if they already have one but I'll check but yeah. That would not come from our committee, but land use which they might have. I have to go back and check. Thank you all right. Oh rocio, hi everybody. It's so nice to see everybody again. I just have one comment in my buildings. We decided to do the composting and I'll tell you. We signed up a few of our buildings and unfortunately, none of the tenants really wanted to participate or participated. It was such a waste of money to get all those bins and then people were not using them. So I would say that, just if your last item is fine but okay, I do not know if even should be included. My experience was negative because they came, they taught us. They brought the equipment, they brought all the flyers that we posted up in our buildings and still people did not. So they actually said sorry we're not going to be picking up your little bits of compost that you're putting out right, so they decided to cancel most of all my buildings, I mean. Maybe we can put the language that not just to allocate funds, but it is it's such a troubling thing, because I even in my building, I knew that we have enough units- and I just did not want to go through the rigmarole of trying to coordinate it with our landlord and get it set up. I set up my own composting thing in our in our courtyard, but it is I mean it's such because it can have such an impact on lessening the amount of waste that we're producing, because it's heavy stuff you know so it's just so frustrating. I do think it takes a lot of outreach and a lot, but you even had education and it did not sway anyone to do it so yeah. It would definitely be lower on our priorities if, towards the end and and maybe and I'll put in language saying you know to bolster outreach or education programs about the importance of composting. But it's interesting, let me tell you Joe people do not even know how to or want to even recycle properly yeah. So you ca not even get them to put the plastic in one container in a glass in the container and separate they wo. Not even do that yeah. So can you imagine trying to get them to do composting? It's just nearly impossible. It's so sad! I mean I I'm very conscientious about it. Oh, I know oh yeah, but unfortunately I think the department of sanitation has been sad. I think they expected this to take off and it just kind of was yeah. Absolutely thanks, museum sure. So any more comments on these. Aside from what we've already discussed and then all right so now we'll go into business session. One thing is: are there any other sort of quality of life things that have come up since Covid-19 has been yeah? I was looking through our resolutions. Oh you. I mean nothing that we've discussed and not Covid-19 related, but I mean the trash I mean like there. Any other budget cuts that people anticipate. That might be coming, that we want to make sure you know that they're important to us. I mean I'm just throwing out, because it's no, I know something we do not normally think about, but right now going into this time period. You know it's just shocking to see the Bin Pickup get cut first at the expense of so many other things and yeah I mean I I'll finesse, the language for the bins. I mean right now we're asking for allocate funds first to study the quantity and condition, but I'd say. Maybe we take out the study and to say to you know: re- uh put that money back in and then I mean now yeah it's become pretty desperate yeah and I know they stopped the pickups on Sunday, which is sort of absurd, because our community so much weekend right so heavily on the weekends and make more sense to cut it on Wednesday or something or Tuesday Joe. Could we use a language, something like to reallocate resources to improve pickups on weekends, which is the heaviest traffic yeah, to make it clear that we're talking about reallocating limited resources yeah? That access point is a good one of all the things for them to eliminate they've eliminated, something really important yeah. That has a detrimental impact for sure on quality of life yeah. And what are we saying all right, yeah, so that'll be number two, but other than that, I'm trying to think and joke going back to the containers for the garbage. I discussed it in the past. I said these containers must should be very improved because yeah rat population in New York is horrible, more rats and people. I think so. If we could have something that yeah about Vermin proof. Yes, containers are very proven: they have them in many. Do we have any vermin proof other than in Chinatown, where I've seen the big values? Do we have any vermin proof in Cb2? We have a few, and I know I'm on right on my block on Sullivan and West. Third, they have those ones that you have to open them. There's the blue belly right trash can, but they do not seem to be super efficient. Another thing to Rocio's point is, you know any any of the rat programs or extermination programs. You know if that's it's not something you've typically put in, but if they're cutting budgets, that's you know. Baiting programs are an easy thing to cut, but they're really important in some of the sites. I do not know how they address that, but just I am not a graduate of the Rat academy. We might need to ask you, there's. Probably I graduated from the radicand I did. I did the class a few times. I do not know yeah. I do not know who does that, but that's I've always wanted to, but that never seems to be wonderful is not that the Department of Health. I recall, having seen the presentation builder, guys, specific budget requests from the parks, but I'll add language to that. Our Trashcan one about rap all right, so the rat population is really a health concern. It's just not unsightly. It's just for our own health and unfortunately, every time if anybody calls regarding rats, the Department of Health goes around to the buildings and they will issue violations to any building that has anything a little hole or they think they, and so who ends up getting the in trouble, always the land owner right. So sometimes you do not even want to call them in because who's going to get the fine. It's three hundred dollars from the Department of Health, who says they send treatment of a group of people to treat the area and I've seen the bait stations that have never been dealt with, and you can see them the same way. They're dirty and nobody has done anything. But yet they charge the owners of the buildings, a lot of money for not doing a job which is horrible, but that's what it is all right. So we'll add some rat language to the sanitation request, all right. So now we'll go back so Mocha has already had you know. Well, so the application they had for us was sidewalk and curb enclosure, and it sounds like they're now trying to work with SAPO to do the street closure and not the sidewalk concurrently enclosures, because she said they're just using their three feet in front of the windows, which does not require a SAPO permit. So we can recommend approval or denial for the street closure on howard, and I guess I do not know carter. Can we communicate that to SAPO or is it just kind of a we've spoke to the community and they're supportive type thing that Moko will do with if we're supportive? I guess we just pass a resolution and then the full board will vote and we can let sabo know that you know our meeting is until their event is already happening. Is that true, though so they're our meeting our next? Our meeting is? Oh, no. Our meeting is on the 22nd carter yeah, it's two thursdays, oh so there I mean. Oh yes, so our meeting will already will be after their event has already happened. You know what you, what Bob Gormley could communicate to them. If it were in fact the case that we do not have any objections or no objections were raised, we're not giving an opinion, but they had an opportunity for a hearing. We did not hear anything from the community against this. You know the committee members did not raise objections. I mean that's. Those are all accurate statements and give some feedback. Does anyone have any objections to that? So it's basically for a street closure from Howard Street for Friday Saturday Sunday, the 16th through the 18th. I think it sounds probably better that they do it this way, so that there is not a congregation of people on that block, and can we say something in the statement, although it might not be a resolution that we are plea that we welcome them back into the community yeah. Absolutely yes, absolutely yeah, because Chinatown has to suffer tremendously because of fire and they burn almost 80 000 books. You know the I think they rescue most of them, so the even the mayor gives some a lot of money to recuperate for the museum, and so the city hall involved a lot of work. You know for their recovery, so really quite an agenda, so if they you know they come to have this excellent exhibit, I think, expecting a lot of people will come to celebrate their recovery. I can put that in the resolution, and I think you should highlight the what they said. They were using the three Howard Street location, for because that's kind of interesting makes this very unique that yeah they're using yeah to you, know recapture all their damaged documents. Yes, you did. Yes, that makes it very unique. You know I do not know if this is something as forward. We allow street closures for everything, but this is a very unique and I think, that's important for surely all right, so everyone recommends approval on that application. Yes, thanks and then we do not have to does anyone so there any objections to recommending approval for the farmers market, the south village, okay, so that'll be recommended approval unanimously, and then we did the budget requests great under an hour. It's so nice to see everyone being here, thanks Joe! Thank you all. Thank you. Thank you. Thank you for so quick. Thank you. Ed, yes, thank you, everybody. We will stay well so healthy. Thank you, bye, good night, goodbye, everyone. Thank you safe and healthy, and.\", 'summary': \"They were on our agenda for last month for the Moca workshop and window Exhibits Museum of Chinese in America on Howard Street, between Center Street and Lafayette Street, and it's for a sidewalk and curb lane closure for both sides.\\nThe events already happening, and I think we have Nancy Yao Mazbach from Mocha who's here to talk about the application, I'll open that in a another window, are you there nancy?\\nYou know it's a new email address for people to receive, so We've the museum of Chinese America has suffered sort of a number of looming and active crises, and We did have this fire on January 23, at our collection space, where 85 000 items were in jeopardy.\\nI wanted to share, especially with cp2, is just today: We've taken additional space at 3, Howard street, where yeah we've opened up 4 000 square feet of temp space, and we have it really nicely done with a young architect who has helped us to outfit that space and as I was you know, preparing for this meeting.\\nSo there'll be active public computers that people can use, as well as housing and conserving the space The main floor, and the second floor is the space that we've taken to help just repair that and the repair to just let the cbt know is a six year.\\nThis is a free, non charged event, but the windows are getting installed right, now, both on center street, which is a main opening to the museum.\\nBut, we did want to have sort of like a formal launch of it on Friday Saturday Sunday, with stanchions keeping close to the frontage, so that I know is possible and permissible by DOT and then also having them start at 215 center go down.\\nThe request to close Howard street is part of a broader initiative for us to bring people back to the community to take a look at these exhibits and then also with the Mocha Workshop opening at three howard for them to reconnect with the fire, because I think a lot of people in our broader community had a lot of emotion around the fire.\\nThose will also be socially distanced in 15 to 20 segments of no more than four people and one unit visiting the space to see that we were able to bring back the items and then they would hopefully then also to try to help develop the patronage of Tiger restaurant that just opened at one Howard, street.\\nPeople feel comfortable, but at no time are we expecting more than 20 people at any place, because we know that we ca not manage it, but we'll be giving out face masks if they do not have one We have a sanitizer also when people slide in, but we will be reserving slots online prior to those days So it's a street closure, then for howard.\\nYou know delayed and they'll, be staff, I guess throughout just kind of moving keeping the queue, moving or keeping people moving absolutely, and we have a really good team of people who are very versed in that And when there'll be markers and way, finders on the street, there'll be people at the corners directing them and making sure there's no bottleneck to We're just really sensitive to the businesses that are trying to get back to life.\\nI know it's a small street in Arrow Street, but the path that people will be taking is viewing the windows on lafayette and then coming around to the temporary space on the narrow, street.\\nBasically, like ongoing funding things that we've requested each year, If there's any new requests and the one that I pointed out here at the bottom is because the composting has been because of budget cuts suspended at this time.\\nWe have asking for SAPO enforcement funding so that they can actually be going to the street activity.\\nI mean, that's a budget cut I think, they've been better about it in the last few weeks, but that you know people might have noticed that garbage cans are just overflowing because there's many more pedestrians outside and less department of sanitation workers, emptying them.\\nLet me tell you Joe people do not even know how to or want to even recycle properly Unfortunately, I think the department of sanitation has been sad.\\nSo we'll add some rat language to the sanitation, request, Well, so the application they had for us was sidewalk and curb enclosure, and it sounds like they're now trying to work with SAPO to do the street closure and not the sidewalk concurrently enclosures, because she said they're just using their three feet in front of the windows, which does not require a SAPO permit.\\nSo if they, you know they come to have this excellent exhibit, I think, expecting a lot of people will come to celebrate their recovery.\\nWe allow street closures for everything, but this is a very unique and I think, that's important for surely all right.\"}}\n"
     ]
    },
    {
     "ename": "AttributeError",
     "evalue": "'NoneType' object has no attribute 'get'",
     "output_type": "error",
     "traceback": [
      "\u001b[0;31m---------------------------------------------------------------------------\u001b[0m",
      "\u001b[0;31mAttributeError\u001b[0m                            Traceback (most recent call last)",
      "\u001b[0;32m<ipython-input-3-27d296d87ccd>\u001b[0m in \u001b[0;36m<module>\u001b[0;34m\u001b[0m\n\u001b[0;32m----> 1\u001b[0;31m \u001b[0mmetadata\u001b[0m\u001b[0;34m,\u001b[0m \u001b[0msummary\u001b[0m \u001b[0;34m=\u001b[0m \u001b[0mget_all_info\u001b[0m\u001b[0;34m(\u001b[0m\u001b[0;34m\"J_GZnFIjrF8\"\u001b[0m\u001b[0;34m)\u001b[0m\u001b[0;34m\u001b[0m\u001b[0;34m\u001b[0m\u001b[0m\n\u001b[0m",
      "\u001b[0;32m<ipython-input-2-d0a61a1545b2>\u001b[0m in \u001b[0;36mget_all_info\u001b[0;34m(file_name)\u001b[0m\n\u001b[1;32m     24\u001b[0m     \u001b[0mmetadata\u001b[0m \u001b[0;34m=\u001b[0m \u001b[0mdata\u001b[0m\u001b[0;34m.\u001b[0m\u001b[0mget\u001b[0m\u001b[0;34m(\u001b[0m\u001b[0;34m'data'\u001b[0m\u001b[0;34m)\u001b[0m\u001b[0;34m\u001b[0m\u001b[0;34m\u001b[0m\u001b[0m\n\u001b[1;32m     25\u001b[0m     \u001b[0mprint\u001b[0m\u001b[0;34m(\u001b[0m\u001b[0mmetadata\u001b[0m\u001b[0;34m)\u001b[0m\u001b[0;34m\u001b[0m\u001b[0;34m\u001b[0m\u001b[0m\n\u001b[0;32m---> 26\u001b[0;31m     \u001b[0mprint\u001b[0m\u001b[0;34m(\u001b[0m\u001b[0mdata\u001b[0m\u001b[0;34m.\u001b[0m\u001b[0mget\u001b[0m\u001b[0;34m(\u001b[0m\u001b[0;34m'properties'\u001b[0m\u001b[0;34m)\u001b[0m\u001b[0;34m.\u001b[0m\u001b[0mget\u001b[0m\u001b[0;34m(\u001b[0m\u001b[0;34m'fillerWordCount'\u001b[0m\u001b[0;34m)\u001b[0m\u001b[0;34m)\u001b[0m\u001b[0;34m\u001b[0m\u001b[0;34m\u001b[0m\u001b[0m\n\u001b[0m\u001b[1;32m     27\u001b[0m     \u001b[0mprint\u001b[0m\u001b[0;34m(\u001b[0m\u001b[0mdata\u001b[0m\u001b[0;34m.\u001b[0m\u001b[0mget\u001b[0m\u001b[0;34m(\u001b[0m\u001b[0;34m'properties'\u001b[0m\u001b[0;34m)\u001b[0m\u001b[0;34m.\u001b[0m\u001b[0mget\u001b[0m\u001b[0;34m(\u001b[0m\u001b[0;34m'wordCountFullTranscript'\u001b[0m\u001b[0;34m)\u001b[0m\u001b[0;34m)\u001b[0m\u001b[0;34m\u001b[0m\u001b[0;34m\u001b[0m\u001b[0m\n\u001b[1;32m     28\u001b[0m     \u001b[0mprint\u001b[0m\u001b[0;34m(\u001b[0m\u001b[0mdata\u001b[0m\u001b[0;34m.\u001b[0m\u001b[0mget\u001b[0m\u001b[0;34m(\u001b[0m\u001b[0;34m'properties'\u001b[0m\u001b[0;34m)\u001b[0m\u001b[0;34m.\u001b[0m\u001b[0mget\u001b[0m\u001b[0;34m(\u001b[0m\u001b[0;34m'wordCountSummary'\u001b[0m\u001b[0;34m)\u001b[0m\u001b[0;34m)\u001b[0m\u001b[0;34m\u001b[0m\u001b[0;34m\u001b[0m\u001b[0m\n",
      "\u001b[0;31mAttributeError\u001b[0m: 'NoneType' object has no attribute 'get'"
     ]
    }
   ],
   "source": [
    "metadata, summary = get_all_info(\"J_GZnFIjrF8\")"
   ]
  },
  {
   "cell_type": "code",
   "execution_count": 26,
   "metadata": {},
   "outputs": [
    {
     "data": {
      "text/plain": [
       "{'YoutubeMetadata': {'author': 'MCB3',\n",
       "  'channelId': 'https://www.youtube.com/channel/UC2HzoCJxu-rVSgcaop0K-_A',\n",
       "  'title': 'CB 3 Manhattan SLA \\\\u0026 DCA Licensing Committee - April 20',\n",
       "  'publishDate': '2020-04-21',\n",
       "  'shortDescription': \"1.    Approval of previous month's minutes\\\\nSidewalk Cafe Applications\\\\n2.    Dig Inn (Dig Inn 127 Fourth Ave LLC), 127 4th Ave\\\\n3.    Headless Widow (The Headless Widow LLC), 99 1st Ave\\\\nAlterations\\\\n4.    Hayaty (A H 103 Corp), 103 Ave A (op/alt/change method of operation: extend hours to 4am daily)\\\\n5.    El Sombrero (Two Almontes Corp), 108 Stanton St (op/method of operation: change hours to 11am to 2am Sunday thru Thursday and 11am to 4am Friday and Saturday)\\\\nNew Liquor License Applications\\\\n6.    Tsukimi (TKM 228 East 10th St LLC), 228 E 10th St (upgrade to op)\\\\n7.    Entity to be formed by Jade Shenker, 235 E 4th St (op)\\\\n8.    Corp to be formed by Beatrice Rodriguez Dearma, 157 E Houston St (op)\\\\nItems not heard at Committee\\\\n9.    Site 2 Market Line Restaurant LLC, 115 Delancey St (op)\\\\n10.    Scarr Pizza (Scarr Pizza LLC), 35 Orchard St (op/removal from 22A Orchard St) (aka 34 Allen St)\\\\n11.    Spiegel (Ride More Inc), 26 1st Ave (op)\\\\n12.    Mama's Bar (Mama Bar LLC), 34 Ave B (corp change)\\\\n13.    The Izakaya (Shiawase Factory LTD), 215 E 4th St (wb)\\\\n14.    May Kaidee (May Kaidee East Broadway LLC), 215 E B'way (wb)\\\\n15.    Rosella (Little Fish Hospitality Group LLC), 137 Ave A (wb)\\\\n16.    Entity to be formed by Enrique Wangerman, 144 E B'way (wb)\\\\n17.    Vote to adjourn\\\\nb=beer \\\\u0026 cider | wb=wine, beer \\\\u0026 cider | op=liquor, wine, beer \\\\u0026 cider | alt=alterations\"},\n",
       " 'metadata': {'ID': 'String', 'creationDate': 'datetime'},\n",
       " 'CommunityBoardInfo': {'communityID': 'MCB3',\n",
       "  'normalizedName': 'Manhattan Community Board 3',\n",
       "  'twitterName': 'Community Board 3',\n",
       "  'youtubeChannelName': 'Manhattan Community Board 3 NYC',\n",
       "  'youtubeChannelURL': 'https://www.youtube.com/channel/UC2HzoCJxu-rVSgcaop0K-_A',\n",
       "  'twitterHandle': '@CB3Man',\n",
       "  'dateCheckLast': '9/18/2020',\n",
       "  'status': 'live'}}"
      ]
     },
     "execution_count": 26,
     "metadata": {},
     "output_type": "execute_result"
    }
   ],
   "source": [
    "metadata.get('data')"
   ]
  },
  {
   "cell_type": "code",
   "execution_count": 20,
   "metadata": {},
   "outputs": [
    {
     "data": {
      "text/plain": [
       "\"Is there, a second Seventh, fourth Avenue They're, applying for a sidewalk cafe permit We approve this applicant for a wine beer.\""
      ]
     },
     "execution_count": 20,
     "metadata": {},
     "output_type": "execute_result"
    }
   ],
   "source": [
    "summary[0]"
   ]
  },
  {
   "cell_type": "code",
   "execution_count": 21,
   "metadata": {},
   "outputs": [
    {
     "data": {
      "text/plain": [
       "'Consequently, support the proposed sidewalk cafe with the following change: order, and then the change order would be for seven tables and 14-feet, with two tables and foresty in a single row: flush against the facade of the building on 4th Avenue and five tables, and ten feet: flush against the facade of the building on East 13th Street.'"
      ]
     },
     "execution_count": 21,
     "metadata": {},
     "output_type": "execute_result"
    }
   ],
   "source": [
    "summary[10]"
   ]
  },
  {
   "cell_type": "code",
   "execution_count": 23,
   "metadata": {},
   "outputs": [
    {
     "data": {
      "text/plain": [
       "'There are a block of businesses that fit into that administrative approval that are like the wine bar that just stays open till twelve and has recorded music or the restaurant.'"
      ]
     },
     "execution_count": 23,
     "metadata": {},
     "output_type": "execute_result"
    }
   ],
   "source": [
    "summary[-1]"
   ]
  }
 ],
 "metadata": {
  "kernelspec": {
   "display_name": "Python 3",
   "language": "python",
   "name": "python3"
  },
  "language_info": {
   "codemirror_mode": {
    "name": "ipython",
    "version": 3
   },
   "file_extension": ".py",
   "mimetype": "text/x-python",
   "name": "python",
   "nbconvert_exporter": "python",
   "pygments_lexer": "ipython3",
   "version": "3.6.10"
  }
 },
 "nbformat": 4,
 "nbformat_minor": 2
}
