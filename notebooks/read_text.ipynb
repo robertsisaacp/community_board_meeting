{
 "cells": [
  {
   "cell_type": "markdown",
   "metadata": {},
   "source": [
    "# Read in Block Party Summary and Metadata"
   ]
  },
  {
   "cell_type": "code",
   "execution_count": 24,
   "metadata": {},
   "outputs": [],
   "source": [
    "from IPython.display import display, Markdown\n",
    "import os\n",
    "import readtime"
   ]
  },
  {
   "cell_type": "code",
   "execution_count": 14,
   "metadata": {},
   "outputs": [],
   "source": [
    "# Look at JSON folder:\n",
    "\n",
    "def read_summary(file_name,get_prop=None):\n",
    "    import os\n",
    "    import json\n",
    "    \n",
    "    path_to_json = os.path.join(os.getcwd(),\n",
    "                             f'../json_objects//{file_name}.json')\n",
    "    json_files = json.load(open(path_to_json, 'r'))\n",
    "    if get_prop is None:\n",
    "        output = json_files\n",
    "        return output\n",
    "    else:\n",
    "        output = json_files.get(\"data\").get('properties').get(get_prop)\n",
    "        output_list = output.split('\\n')\n",
    "        \n",
    "        word_count = json_files.get(\"data\").get('properties').get('wordCountFullTranscript')\n",
    "        title = json_files.get(\"data\").get('YoutubeMetadata').get('title')\n",
    "    \n",
    "        #[display(Markdown(f\"<p style=\\\"font-size:25px\\\">{chunk}</p><br/>\")) for chunk in output_list]\n",
    "        [display(Markdown(f\"<font size=\\\"5px\\\">{chunk}</font><br/>\")) for chunk in output_list]\n",
    "        return output_list, word_count, title\n",
    "    \n",
    "\n",
    "def get_all_info(file_name):\n",
    "    data = read_summary(file_name,get_prop=None)\n",
    "    metadata = data.get('data')\n",
    "    print(metadata)\n",
    "    print(data.get('properties').get('fillerWordCount'))\n",
    "    print(data.get('properties').get('wordCountFullTranscript'))\n",
    "    print(data.get('YoutubeMetadata').get('title'))\n",
    "    output_summary = read_summary(file_name,get_prop='summary')\n",
    "    \n",
    "    return data, output_summary"
   ]
  },
  {
   "cell_type": "markdown",
   "metadata": {},
   "source": [
    "# Read Text"
   ]
  },
  {
   "cell_type": "code",
   "execution_count": null,
   "metadata": {},
   "outputs": [],
   "source": [
    "read_summary(\"FcOgBPCKIPo\")"
   ]
  },
  {
   "cell_type": "code",
   "execution_count": 221,
   "metadata": {
    "scrolled": true
   },
   "outputs": [
    {
     "data": {
      "text/markdown": [
       "<font size=\"5px\">The first is a present presentation from Lucas Wolfe and Elizabeth Berg from Scott Stringer's office, they're, going to be talking about this comptroller stringer's, strong school plan and we'll use this to educate the committee on the comptroller's approach to safely reopening schools.</font><br/>"
      ],
      "text/plain": [
       "<IPython.core.display.Markdown object>"
      ]
     },
     "metadata": {},
     "output_type": "display_data"
    },
    {
     "data": {
      "text/markdown": [
       "<font size=\"5px\">He spoke to us about this bill right before Covid-19 And. That's about the commercial tax that affects businesses below 96th street You'll, probably recall that we were about to support that bill with a resolution it was drafted Then Covid-19 came along, And, so we were waiting to see what would develop with regard to that bill.</font><br/>"
      ],
      "text/plain": [
       "<IPython.core.display.Markdown object>"
      ]
     },
     "metadata": {},
     "output_type": "display_data"
    },
    {
     "data": {
      "text/markdown": [
       "<font size=\"5px\">The committee will go into business session and that's when only members of the Bex Committee discuss the issue amongst themselves and determine what action to take we're somewhat different by we, I mean bex than other committees within community board five, and that we do not have applications so that our determinations are not as straightforward.</font><br/>"
      ],
      "text/plain": [
       "<IPython.core.display.Markdown object>"
      ]
     },
     "metadata": {},
     "output_type": "display_data"
    },
    {
     "data": {
      "text/markdown": [
       "<font size=\"5px\">With remote learning and how many flaws, whether it's the technological process on the learning side, with meals, with kind of everything in between- We kind of, took all that feedback and all we heard from acrosss the city and boils into a number of different recommendations for how we think it's a pass for schools to reopen safely and also prioritize quality instruction going into the fall.</font><br/>"
      ],
      "text/plain": [
       "<IPython.core.display.Markdown object>"
      ]
     },
     "metadata": {},
     "output_type": "display_data"
    },
    {
     "data": {
      "text/markdown": [
       "<font size=\"5px\">Let Elizabeth jump into more on that in a second, but I also kind of want to preface that these are our office recommendations that we've sourced from talk to a number of different stakeholders, families, students, teachers, kind of acrosss, the educational spectrum, they're.</font><br/>"
      ],
      "text/plain": [
       "<IPython.core.display.Markdown object>"
      ]
     },
     "metadata": {},
     "output_type": "display_data"
    },
    {
     "data": {
      "text/markdown": [
       "<font size=\"5px\">I. Think wanting to provide some of their concerns and asking our office to make recommendations to the Department of education ahead of their releasing any plans, and so when we, you know, released our set of recommendations.</font><br/>"
      ],
      "text/plain": [
       "<IPython.core.display.Markdown object>"
      ]
     },
     "metadata": {},
     "output_type": "display_data"
    },
    {
     "data": {
      "text/markdown": [
       "<font size=\"5px\">We've been talking to the administration about not just in this set of recommendations, but in subsequent communications that we've had with the mayor's office as well, and then one thing that has actually gotten a lot of attention is on the need to identify more outdoor spaces for learning activities and again.</font><br/>"
      ],
      "text/plain": [
       "<IPython.core.display.Markdown object>"
      ]
     },
     "metadata": {},
     "output_type": "display_data"
    },
    {
     "data": {
      "text/markdown": [
       "<font size=\"5px\">A lot of support from You know we'd love to see the city be more creative in ways that it could expand the use of outdoor spaces for learning activities, and you know again, I'm not going to go through every single recommendation.</font><br/>"
      ],
      "text/plain": [
       "<IPython.core.display.Markdown object>"
      ]
     },
     "metadata": {},
     "output_type": "display_data"
    },
    {
     "data": {
      "text/markdown": [
       "<font size=\"5px\">We wanted to encourage the safe reopening of school buildings in terms of ensuring strong instruction, there's sort of a separate set of recommendations, and they really largely focus on the need for additional staffing and child care.</font><br/>"
      ],
      "text/plain": [
       "<IPython.core.display.Markdown object>"
      ]
     },
     "metadata": {},
     "output_type": "display_data"
    },
    {
     "data": {
      "text/markdown": [
       "<font size=\"5px\">I think, in terms of thinking of teachers in a blended learning model needing to provide support to students in both a remote learning environment, as well as in the classrooms it and potentially having groups of students in different parts of the building.</font><br/>"
      ],
      "text/plain": [
       "<IPython.core.display.Markdown object>"
      ]
     },
     "metadata": {},
     "output_type": "display_data"
    },
    {
     "data": {
      "text/markdown": [
       "<font size=\"5px\">On, But I think one of the things that we're really thinking about as an office is president before I work for the comptroller, I was a teacher for three years in high school in the city and jobs already up, and especially with all these other things going on it.</font><br/>"
      ],
      "text/plain": [
       "<IPython.core.display.Markdown object>"
      ]
     },
     "metadata": {},
     "output_type": "display_data"
    },
    {
     "data": {
      "text/markdown": [
       "<font size=\"5px\">It seems to me like a lot of the ways we track progress and measure progress at various schools will need to be adapted, and I have not really seen much about that in terms of best practices so wondering if that's something your office has thought about at all or if you've heard of kind of any work, that's being done around the city on That I know that the way the Department of Education so far has been monitoring like just basic student attendance, is really not what you or I might think of in terms of what attendance is It's tracking student engagement, which could be anything from you know.</font><br/>"
      ],
      "text/plain": [
       "<IPython.core.display.Markdown object>"
      ]
     },
     "metadata": {},
     "output_type": "display_data"
    },
    {
     "data": {
      "text/markdown": [
       "<font size=\"5px\">You, know some of the summer programs I think that's an absolutely such a vital resource in terms of the community- based organizations and the youth development groups that work acrosss schools and this and acrosss the city, and that the city should really leverage that valuable resource.</font><br/>"
      ],
      "text/plain": [
       "<IPython.core.display.Markdown object>"
      ]
     },
     "metadata": {},
     "output_type": "display_data"
    },
    {
     "data": {
      "text/markdown": [
       "<font size=\"5px\">I, hope that you will talk to us a little bit about what school of the future is thinking about in terms of reopening and very specifically about your request regarding open streets.</font><br/>"
      ],
      "text/plain": [
       "<IPython.core.display.Markdown object>"
      ]
     },
     "metadata": {},
     "output_type": "display_data"
    },
    {
     "data": {
      "text/markdown": [
       "<font size=\"5px\">Please use your raised hand function, seeing none we're going to move into business session and discuss moving forward on this support of the application of school of the future.</font><br/>"
      ],
      "text/plain": [
       "<IPython.core.display.Markdown object>"
      ]
     },
     "metadata": {},
     "output_type": "display_data"
    },
    {
     "data": {
      "text/markdown": [
       "<font size=\"5px\">Any thoughts from the committee are people generally in support of opening up play spaces for schools like school of the future, taking parking spaces to allow the kids to assemble both before and after school for check- in and Dismissal Rachel, And, so I think.</font><br/>"
      ],
      "text/plain": [
       "<IPython.core.display.Markdown object>"
      ]
     },
     "metadata": {},
     "output_type": "display_data"
    },
    {
     "data": {
      "text/markdown": [
       "<font size=\"5px\">Any other comments from the committee, seeing none I'm going to ask: do I have a motion for supporting the application of school of the future for the play.</font><br/>"
      ],
      "text/plain": [
       "<IPython.core.display.Markdown object>"
      ]
     },
     "metadata": {},
     "output_type": "display_data"
    },
    {
     "data": {
      "text/markdown": [
       "<font size=\"5px\">In July, yes So. We have passed this motion to pass to support this initiative on behalf of school of the future and then pass it to transportation, for presentation to Cbe to the full board that this is a little bit unusual, just because we're crossing over both committees.</font><br/>"
      ],
      "text/plain": [
       "<IPython.core.display.Markdown object>"
      ]
     },
     "metadata": {},
     "output_type": "display_data"
    },
    {
     "data": {
      "text/markdown": [
       "<font size=\"5px\">This bill would actually temporarily suspend and repeal the commercial rent tax in full for businesses, with an annual base rent of less than one million dollars for just the Covid-19 state of emergency.</font><br/>"
      ],
      "text/plain": [
       "<IPython.core.display.Markdown object>"
      ]
     },
     "metadata": {},
     "output_type": "display_data"
    },
    {
     "data": {
      "text/markdown": [
       "<font size=\"5px\">I can answer any other questions, but that's kind of the update and would obviously be happy to if we could get a you know, supportive statement or resolution from CB5 about the bill.</font><br/>"
      ],
      "text/plain": [
       "<IPython.core.display.Markdown object>"
      ]
     },
     "metadata": {},
     "output_type": "display_data"
    },
    {
     "data": {
      "text/markdown": [
       "<font size=\"5px\">Well after the state of emergency ends to give businesses some breathing room to try to catch up and invest in the changes they need to make to get back to normal, For sure I think, and this also got the support of the hospitality alliance, which I did not mention in the Manhattan chamber of Commerce.</font><br/>"
      ],
      "text/plain": [
       "<IPython.core.display.Markdown object>"
      ]
     },
     "metadata": {},
     "output_type": "display_data"
    },
    {
     "data": {
      "text/markdown": [
       "<font size=\"5px\">But I do think that the idea is that we need to come out with something to kind of resolve this unfair, and the reason I originally asked is because there are a lot of financial institutions that do not necessarily rent a lot of space, but they run very expensive.</font><br/>"
      ],
      "text/plain": [
       "<IPython.core.display.Markdown object>"
      ]
     },
     "metadata": {},
     "output_type": "display_data"
    },
    {
     "data": {
      "text/markdown": [
       "<font size=\"5px\">I just think it's bifurcating, which businesses benefit and which ones may, I mean, I know that there are in total, there are almost 9,000 tax, crt taxpayers, There are a lot of businesses that are over a million in rent.</font><br/>"
      ],
      "text/plain": [
       "<IPython.core.display.Markdown object>"
      ]
     },
     "metadata": {},
     "output_type": "display_data"
    },
    {
     "data": {
      "text/markdown": [
       "<font size=\"5px\">I think we actually got that figure a few years ago when we looked into that, but it would be a that would be a pretty huge hole in the city's budget, which is why we are not proposing that for all businesses in Manhattan.</font><br/>"
      ],
      "text/plain": [
       "<IPython.core.display.Markdown object>"
      ]
     },
     "metadata": {},
     "output_type": "display_data"
    },
    {
     "data": {
      "text/markdown": [
       "<font size=\"5px\">Would you be willing to share that with the community later on Thank, you and second question, and maybe the council members in the city have already been discussing it.</font><br/>"
      ],
      "text/plain": [
       "<IPython.core.display.Markdown object>"
      ]
     },
     "metadata": {},
     "output_type": "display_data"
    },
    {
     "data": {
      "text/markdown": [
       "<font size=\"5px\">I thought we were talking about businesses under 10 million dollars like last time in income, but or was it fun I think there was an income.</font><br/>"
      ],
      "text/plain": [
       "<IPython.core.display.Markdown object>"
      ]
     },
     "metadata": {},
     "output_type": "display_data"
    },
    {
     "data": {
      "text/markdown": [
       "<font size=\"5px\">And I'd have to also see what the like, what number of businesses we'd be talking about for who would be under this kind of like Venn, Diagram and income higher than that and rent lower than 1 million , I think it was 10 million, but it was actually.</font><br/>"
      ],
      "text/plain": [
       "<IPython.core.display.Markdown object>"
      ]
     },
     "metadata": {},
     "output_type": "display_data"
    },
    {
     "data": {
      "text/markdown": [
       "<font size=\"5px\">What I'm hearing is a general support of the bill with two different two different philosophies about how to implement one thinking that it's good the way it stands another one zach and Joe and July thinking that there should be some parsing of the type of small businesses that get the relief I'd like to hear.</font><br/>"
      ],
      "text/plain": [
       "<IPython.core.display.Markdown object>"
      ]
     },
     "metadata": {},
     "output_type": "display_data"
    },
    {
     "data": {
      "text/markdown": [
       "<font size=\"5px\">Any other comments from the committee What I'm hearing is that we're in favor of the bill generally, but we would like to see language that indicates there's some parsing between who is impacted by Covid-19 and ensuring that they are the ones that receive this release.</font><br/>"
      ],
      "text/plain": [
       "<IPython.core.display.Markdown object>"
      ]
     },
     "metadata": {},
     "output_type": "display_data"
    },
    {
     "data": {
      "text/markdown": [
       "<font size=\"5px\">I hear support for a resolution in favor of that response that we're in favor of the bill, generally, with the caveat that we would like it focused on those businesses that truly require it as a result of Covid-19 and that it belongs to the council member and to the council to figure out how to parse that specifically Robert, I missed you, go ahead, Are, we talking about needs, testing or you know, means testing, or are we just kind of saying?</font><br/>"
      ],
      "text/plain": [
       "<IPython.core.display.Markdown object>"
      ]
     },
     "metadata": {},
     "output_type": "display_data"
    },
    {
     "data": {
      "text/markdown": [
       "<font size=\"5px\">Necessarily, I think that's what I was hearing from the committee that there's some you know.</font><br/>"
      ],
      "text/plain": [
       "<IPython.core.display.Markdown object>"
      ]
     },
     "metadata": {},
     "output_type": "display_data"
    },
    {
     "data": {
      "text/markdown": [
       "<font size=\"5px\">So, do I hear a motion in favor of a resolution to support the bill with language that says we do believe there should be some way or some parsing of businesses that require the relief as a result of Covid-19 I motioned, to support a bill with that.</font><br/>"
      ],
      "text/plain": [
       "<IPython.core.display.Markdown object>"
      ]
     },
     "metadata": {},
     "output_type": "display_data"
    },
    {
     "data": {
      "text/markdown": [
       "<font size=\"5px\">The resolution itself demands honest communication from our electeds regarding budget decisions, a request for a targeted plan to reduce the NYPD overtime, spending, a request for the mayor and the city Council, to provide a plan for the transition of school safety agents and school crossing dogs to the DOE, as well as a report on the shift of homeless services from NYPD to DHS, to figure out how that's being done.</font><br/>"
      ],
      "text/plain": [
       "<IPython.core.display.Markdown object>"
      ]
     },
     "metadata": {},
     "output_type": "display_data"
    },
    {
     "data": {
      "text/markdown": [
       "<font size=\"5px\">Is that something that you're proposing and would like to discuss now, if it's appropriate for me to propose that I certainly think that it is in keeping with the broader spirit of the resolution and is specifically, I think, an actionable and important concrete step when it comes to how the NYPD spends its money.</font><br/>"
      ],
      "text/plain": [
       "<IPython.core.display.Markdown object>"
      ]
     },
     "metadata": {},
     "output_type": "display_data"
    },
    {
     "data": {
      "text/markdown": [
       "<font size=\"5px\">If, that's something that the committee would like to discuss and add to the resolution.</font><br/>"
      ],
      "text/plain": [
       "<IPython.core.display.Markdown object>"
      ]
     },
     "metadata": {},
     "output_type": "display_data"
    },
    {
     "data": {
      "text/markdown": [
       "<font size=\"5px\">The community that our committee would like to add to the conversation and that to the resolution.</font><br/>"
      ],
      "text/plain": [
       "<IPython.core.display.Markdown object>"
      ]
     },
     "metadata": {},
     "output_type": "display_data"
    },
    {
     "data": {
      "text/markdown": [
       "<font size=\"5px\">I looked through my notes to very specifically reflect what I heard from our committee members, because I did not want to include something that had not been there at the outset of our conversation, but certainly we can discuss it now and add it to the resolution.</font><br/>"
      ],
      "text/plain": [
       "<IPython.core.display.Markdown object>"
      ]
     },
     "metadata": {},
     "output_type": "display_data"
    },
    {
     "data": {
      "text/markdown": [
       "<font size=\"5px\">To, then I think you know that would be great, but I would be supportive of adding points that address both of those issues, the cost that kind of equipment and, secondly, the measures they take with them.</font><br/>"
      ],
      "text/plain": [
       "<IPython.core.display.Markdown object>"
      ]
     },
     "metadata": {},
     "output_type": "display_data"
    },
    {
     "data": {
      "text/markdown": [
       "<font size=\"5px\">As, I, understood it, chuck's comment was about removing certain phrasing, and all I wanted to say was that I think the phrase desk duty is important to include in the resolution just as a sort of plain language explanation of what the current protocol is and what this is in contrast, to, Yes, so you're, saying police officers who need to be reprimanded, for, I think the term was criminal.</font><br/>"
      ],
      "text/plain": [
       "<IPython.core.display.Markdown object>"
      ]
     },
     "metadata": {},
     "output_type": "display_data"
    },
    {
     "data": {
      "text/markdown": [
       "<font size=\"5px\">I. Think that the City council has the authority to to either enable or require the department to come up with a program like that.</font><br/>"
      ],
      "text/plain": [
       "<IPython.core.display.Markdown object>"
      ]
     },
     "metadata": {},
     "output_type": "display_data"
    },
    {
     "data": {
      "text/markdown": [
       "<font size=\"5px\">I, think you know just like the NYPD is It's a department that works at the pleasure of the mayor?</font><br/>"
      ],
      "text/plain": [
       "<IPython.core.display.Markdown object>"
      ]
     },
     "metadata": {},
     "output_type": "display_data"
    },
    {
     "data": {
      "text/markdown": [
       "<font size=\"5px\">So I actually agree with what you're saying I want to hear some other committee members And then I have a second point.</font><br/>"
      ],
      "text/plain": [
       "<IPython.core.display.Markdown object>"
      ]
     },
     "metadata": {},
     "output_type": "display_data"
    },
    {
     "data": {
      "text/markdown": [
       "<font size=\"5px\">Just going to say, I thought it was already like a legal requirement in the city for them to have a balanced, budget.</font><br/>"
      ],
      "text/plain": [
       "<IPython.core.display.Markdown object>"
      ]
     },
     "metadata": {},
     "output_type": "display_data"
    },
    {
     "data": {
      "text/markdown": [
       "<font size=\"5px\">So mine is just more of a comment, and you know the most important thing to me during this conversation has always been the reinvestment in community and youth, services, and I Just wanted to remark that I thought that was very eloquently and articulate articulately included in this iteration of the resolution.</font><br/>"
      ],
      "text/plain": [
       "<IPython.core.display.Markdown object>"
      ]
     },
     "metadata": {},
     "output_type": "display_data"
    }
   ],
   "source": [
    "full, word_count, title = read_summary(\"kmy7JmGLY3Q\",\"summary\")"
   ]
  },
  {
   "cell_type": "code",
   "execution_count": 216,
   "metadata": {},
   "outputs": [
    {
     "data": {
      "text/plain": [
       "[\"We also have Darryl white from the New York State Attorney General's office on and two additional board members Kevin Farley and Gail Branson Muhammad, Excellent So moving down the agenda, everyone's had a chance to look at the minutes.\",\n",
       " \"Most of you already know, I'm with the New York City campaign, Finance Board, specifically with the voter engagement arm.\",\n",
       " 'I was invited by Community Board, eight just to go over a few things, most importantly, registering to vote updates to election and voting laws that have just been passed recently and also mail- in voting as well as a few other things that are also voting related during this time.',\n",
       " 'You know, you have to be a U.S citizen to register to vote in New York state.',\n",
       " \"You could do the same thing as well, with the form there's roughly two ways you can register to vote in New York state.\",\n",
       " 'The, New York state legislature has just passed the law that also now requires certain state agencies to also automatically register people to vote as well.',\n",
       " \"The board of elections will send out ballots to folks who put in an absentee request, that's only because by that time they should already know who will be on the ballot on the state.\",\n",
       " \"I, should say, there's a new legislation that allows ballots to be counted in postmarked on or before election day, November third and received by the board of elections, seven days after the elections, with or without a postmark.\",\n",
       " 'You know just make sure that you check the box for temporary illness on the application and starting Just to remind you all October 27th, is the deadline to request an absentee ballot by mail.',\n",
       " \"It came with and additionally, please make sure to sign the back of the envelope as instructed, and if you are going to send it back in the mail, please make sure you do it by November, 2nd I've heard mixed things about taking in the mallet mail- in ballots, for maybe the elderly, you know who might not be able to take it in and with people's concerns around the mail.\",\n",
       " \"I, guess, I'm concerned about those who want to vote and want to make sure that their voters can't counted but can not get out and how we can be up helpful to the handicapped and elderly in the community with making sure that their ballot is in.\",\n",
       " \"I do not know, I'm, not sure the state legislature has asked the Post office to come in for a hearing to explain some of the issues, The state legislature, as I mentioned, earlier, passed a provision to sort of relax that problem when it comes to posted postage, page envelopes, because that was the real issue like some folks It sort of like just became this huge issue that sort of spiraled out of control, so hopefully with the new laws passed by the state, legislature.\",\n",
       " 'I do not know if you have much information about that, but is that going to be a general polling location or is that going to be specific to our community districts and those that are voting?',\n",
       " \"If you want to clarify which way you would like for people to put in their questions, in which section that way, you're able to follow along the chat, section.\",\n",
       " 'I wanted to start with the numbers of where we are and just give you a snapshot of not only Brooklyn but New York, City, New, York, State and national.',\n",
       " 'We just had a presentation on voting, so the two most important things I think, as persons residing in the United States- can do right now our vote and do their census.',\n",
       " 'The big difference about the census and voting is you: Do not have to be a Us citizen to complete your census and in fact the census is an exercise of counting every living person in the United States, regardless of their immigrant status.',\n",
       " 'You may remember from previous presentations that I made that the census there are two populations that are amongst the the most under counted number one are children under the age of five, so we think about our schools not having the appropriate resources.',\n",
       " \"So I can also drop my email in the chat, but I personally know that I've requested a number of mobile census.\",\n",
       " \"Vacant units should be counted as zero, so if they're just vacant, you know someone if it's like a private home And, you have like an empty apartment: Or you're, a landlord, and So. A great example of that are people who have second homes right.\",\n",
       " \"If we were going to get a 100 million dollars a year, 100, let's say: Let's, make it bigger people from New, York, Love, money.\",\n",
       " 'You know assumptions about a community about attract about a city, but still I mean you want to be closest to We do not want any trial and error like people making assumptions about who lives where what the needs of the community are.',\n",
       " \"That is something that they need to do so that those units do not affect impact our greater numbers and go unreported I know you work very closely with James Tillman, my colleague, so you can send it to myself or James, and then we can see if we can share that with national, But right now, we're in peak field, operations.\",\n",
       " \"So we have any reports next on our full board meeting agenda and we'll try to take them in order, starting with the bylaws committee.\",\n",
       " \"Another area, we're making some changes in elections, this one's very pertinent, because we're going to have elections coming this upcoming may of 2021 elections for the officers of the board.\",\n",
       " \"If we can not meet in person right now, our bylaws require signed, paper, ballots and immediate runoffs, so we're putting an escape clause in the elections, provisions that permit the Nominating committee and the district manager to set alternative rules should they be called we're actually also bringing the elections provisions to the conformity of what we've done actually with my job.\",\n",
       " \"On that note, officers making three minor tweaks we're clarifying the fact that the chair of the board is a non- voting, ex- officio member of all committees.\",\n",
       " 'We need to render a decision right now or in the near term to help inform other stakeholders of what we, what the Community board thinks long- term policy.',\n",
       " \"Look forward to some very stimulating discussions and I hope that the new board members will consider coming out, because our committee will be dealing with the rights of tenants and that's a very important thing right.\",\n",
       " 'We originally had them laid over to September They asked to come back in October to land use and then to the full board meeting in August.',\n",
       " 'The land Use Committee worked with the Department of City planning to revisit for the third or fourth time the concept of public realm improvements for for the M crown neighborhood rezoning, and so we will do that again in November and for the September meeting of land.',\n",
       " 'Just wanted to mention that miss ties and myself and maybe a few other members of the Community Board, will be meeting with the Ralph Lincoln Community Garden representative on September, the 19th.',\n",
       " \"Our next meeting will be done on Monday September, the 28th, that's Monday, September 28th it'll be at 6:00 6,30, but we'll verify the time we'll have the community board send out the invite to everyone to participate?\",\n",
       " \"The next meeting will be on Monday September, the 28th, and that's I'm, going to be at 6:30, and the community board will send out the Invites Okay, I think we lost our incoming state.\",\n",
       " 'Okay, so I just want to say, hello, everybody community board a thank you all for being on the call.',\n",
       " \"I'm, a public school teacher in Crown, Heights, right, now, and I'm still teaching through December, but as we get our office set up and everything and office infrastructure I'm set up, I still want to make sure that I'm available as a community resource and help anybody with what they need.\",\n",
       " \"That is for the word, for not the number four contact at Jabari for state Senate, DOT com, any and all things that you need help with we'll do our best to put you with the appropriate resources, and if you get, I, want to get involved with the campaign.\",\n",
       " \"'ll be working on helping out with some upstate Senate campaigns in October to you, know, fight for a veto, proof majority in the New York State Senate.\",\n",
       " 'I do not think that people understand the commitment that members of the Community board put in the time and the effort to ensure that our local government is run efficiently, and this has certainly always been one of those meetings that you enjoy coming to because it is run efficiently.',\n",
       " \"You know: New York state's rent laws has changed and the and the assertive things in the new rent Lord that you guys should know, and we have that on our website- A g, DOT, N, Y, DOT, gov, You, know enough time, I'm hoping that Gail will invite me to the senior committee meeting Thank you, so we'll make sure that link gets in one up on our website as well, and people can access it from there as well.\",\n",
       " 'Okay, Miss Zimmerman wants to remind us that today is request your ballot day for those who are planning to vote by mail.']"
      ]
     },
     "execution_count": 216,
     "metadata": {},
     "output_type": "execute_result"
    }
   ],
   "source": [
    "full"
   ]
  },
  {
   "cell_type": "markdown",
   "metadata": {},
   "source": [
    "# Fix spelling"
   ]
  },
  {
   "cell_type": "code",
   "execution_count": null,
   "metadata": {},
   "outputs": [],
   "source": [
    "\"cove it\", \"cover 19\""
   ]
  },
  {
   "cell_type": "markdown",
   "metadata": {},
   "source": [
    "# Noteable Sentences"
   ]
  },
  {
   "cell_type": "code",
   "execution_count": 223,
   "metadata": {},
   "outputs": [
    {
     "data": {
      "text/plain": [
       "'Any thoughts from the committee are people generally in support of opening up play spaces for schools like school of the future, taking parking spaces to allow the kids to assemble both before and after school for check- in and Dismissal Rachel, And, so I think.'"
      ]
     },
     "execution_count": 223,
     "metadata": {},
     "output_type": "execute_result"
    }
   ],
   "source": [
    "\"Any thoughts from the committee are people generally in support of opening up play spaces for schools like school of the future, taking parking spaces to allow the kids to assemble both before and after school for check- in and Dismissal Rachel, And, so I think.\""
   ]
  },
  {
   "cell_type": "code",
   "execution_count": 222,
   "metadata": {},
   "outputs": [
    {
     "data": {
      "text/plain": [
       "\"He spoke to us about this bill right before Covid-19 And. That's about the commercial tax that affects businesses below 96th street You'll, probably recall that we were about to support that bill with a resolution it was drafted Then Covid-19 came along, And, so we were waiting to see what would develop with regard to that bill.\""
      ]
     },
     "execution_count": 222,
     "metadata": {},
     "output_type": "execute_result"
    }
   ],
   "source": [
    "\"He spoke to us about this bill right before Covid-19 And. That's about the commercial tax that affects businesses below 96th street You'll, probably recall that we were about to support that bill with a resolution it was drafted Then Covid-19 came along, And, so we were waiting to see what would develop with regard to that bill.\""
   ]
  },
  {
   "cell_type": "code",
   "execution_count": 220,
   "metadata": {},
   "outputs": [
    {
     "data": {
      "text/plain": [
       "\"Vacant units should be counted as zero, so if they're just vacant, you know someone if it's like a private home And, you have like an empty apartment: Or you're, a landlord, and So. A great example of that are people who have second homes right.\""
      ]
     },
     "execution_count": 220,
     "metadata": {},
     "output_type": "execute_result"
    }
   ],
   "source": [
    "\"Vacant units should be counted as zero, so if they're just vacant, you know someone if it's like a private home And, you have like an empty apartment: Or you're, a landlord, and So. A great example of that are people who have second homes right.\""
   ]
  },
  {
   "cell_type": "code",
   "execution_count": 213,
   "metadata": {},
   "outputs": [
    {
     "data": {
      "text/plain": [
       "\"There's, one in particular that we just got a win on just a couple of days ago, and that is, there was a whole issue about reimbursements on mental health services to community health, centers and reimbursements that they were not getting from the state they required.\""
      ]
     },
     "execution_count": 213,
     "metadata": {},
     "output_type": "execute_result"
    }
   ],
   "source": [
    "\"There's, one in particular that we just got a win on just a couple of days ago, and that is, there was a whole issue about reimbursements on mental health services to community health, centers and reimbursements that they were not getting from the state they required.\""
   ]
  },
  {
   "cell_type": "code",
   "execution_count": 212,
   "metadata": {},
   "outputs": [
    {
     "data": {
      "text/plain": [
       "\"We have all heard about the fact that there just was no way that they could handle as much new influx as they've got of people that are unemployed, so we're working with the state to kind of get them to do it more quickly, but we're going to have that on May 5th, which weirdly enough is next week.\""
      ]
     },
     "execution_count": 212,
     "metadata": {},
     "output_type": "execute_result"
    }
   ],
   "source": [
    "\"We have all heard about the fact that there just was no way that they could handle as much new influx as they've got of people that are unemployed, so we're working with the state to kind of get them to do it more quickly, but we're going to have that on May 5th, which weirdly enough is next week.\""
   ]
  },
  {
   "cell_type": "code",
   "execution_count": 211,
   "metadata": {},
   "outputs": [
    {
     "data": {
      "text/plain": [
       "\"Have some great supermarkets out there that have taken some extraordinary precautions by putting up glass shields and supplying all of the PPE that is needed to their employees, but I think it would be a priority to have those workers tested so that we know they're safe to be serving us, and it's for the protection of those employees as well.\""
      ]
     },
     "execution_count": 211,
     "metadata": {},
     "output_type": "execute_result"
    }
   ],
   "source": [
    "\"Have some great supermarkets out there that have taken some extraordinary precautions by putting up glass shields and supplying all of the PPE that is needed to their employees, but I think it would be a priority to have those workers tested so that we know they're safe to be serving us, and it's for the protection of those employees as well.\""
   ]
  },
  {
   "cell_type": "code",
   "execution_count": 210,
   "metadata": {},
   "outputs": [
    {
     "data": {
      "text/plain": [
       "'The board doctors in the Bronx and New York City have rapidly Tran transformed their practices to online, as you guys have with your meetings to really serve our community.'"
      ]
     },
     "execution_count": 210,
     "metadata": {},
     "output_type": "execute_result"
    }
   ],
   "source": [
    "\"The board doctors in the Bronx and New York City have rapidly Tran transformed their practices to online, as you guys have with your meetings to really serve our community.\""
   ]
  },
  {
   "cell_type": "code",
   "execution_count": 209,
   "metadata": {},
   "outputs": [
    {
     "data": {
      "text/plain": [
       "\"I know everybody's really scared to, but we want to make sure that our community is not suffering from their chronic diseases and worsening their diabetes and hypertension suffering from strokes and heart attacks at home.\""
      ]
     },
     "execution_count": 209,
     "metadata": {},
     "output_type": "execute_result"
    }
   ],
   "source": [
    "\"I know everybody's really scared to, but we want to make sure that our community is not suffering from their chronic diseases and worsening their diabetes and hypertension suffering from strokes and heart attacks at home.\""
   ]
  },
  {
   "cell_type": "code",
   "execution_count": 207,
   "metadata": {
    "scrolled": true
   },
   "outputs": [
    {
     "data": {
      "text/plain": [
       "'We know that the facial recognition software was used, but how and why community board for can be a partner in this work to hold the NYPD accountable for their actions on August 7 and stand up for the rights of your black neighbors.'"
      ]
     },
     "execution_count": 207,
     "metadata": {},
     "output_type": "execute_result"
    }
   ],
   "source": [
    "\"We know that the facial recognition software was used, but how and why community board for can be a partner in this work to hold the NYPD accountable for their actions on August 7 and stand up for the rights of your black neighbors.\""
   ]
  },
  {
   "cell_type": "markdown",
   "metadata": {},
   "source": [
    "# To Fix"
   ]
  },
  {
   "cell_type": "code",
   "execution_count": null,
   "metadata": {},
   "outputs": [],
   "source": [
    "\"He just[ _ _] up, maybe he'll lo\""
   ]
  }
 ],
 "metadata": {
  "kernelspec": {
   "display_name": "Python 3",
   "language": "python",
   "name": "python3"
  },
  "language_info": {
   "codemirror_mode": {
    "name": "ipython",
    "version": 3
   },
   "file_extension": ".py",
   "mimetype": "text/x-python",
   "name": "python",
   "nbconvert_exporter": "python",
   "pygments_lexer": "ipython3",
   "version": "3.6.10"
  }
 },
 "nbformat": 4,
 "nbformat_minor": 2
}
